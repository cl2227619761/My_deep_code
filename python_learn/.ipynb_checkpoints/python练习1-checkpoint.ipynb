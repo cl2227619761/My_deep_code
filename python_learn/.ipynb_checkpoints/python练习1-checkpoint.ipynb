{
 "cells": [
  {
   "cell_type": "markdown",
   "metadata": {},
   "source": [
    "## python中的输入"
   ]
  },
  {
   "cell_type": "markdown",
   "metadata": {},
   "source": [
    "### 输入字符串"
   ]
  },
  {
   "cell_type": "code",
   "execution_count": 3,
   "metadata": {},
   "outputs": [
    {
     "name": "stdout",
     "output_type": "stream",
     "text": [
      "Enter your name: \n"
     ]
    },
    {
     "name": "stdin",
     "output_type": "stream",
     "text": [
      " Cao Lei\n"
     ]
    },
    {
     "name": "stdout",
     "output_type": "stream",
     "text": [
      "Hi, Cao Lei ,How are you today?\n"
     ]
    }
   ],
   "source": [
    "print(\"Enter your name: \")\n",
    "someBody = input()\n",
    "print(\"Hi,\", someBody, \",How are you today?\")"
   ]
  },
  {
   "cell_type": "code",
   "execution_count": 16,
   "metadata": {},
   "outputs": [
    {
     "name": "stdin",
     "output_type": "stream",
     "text": [
      "Enter your name:  Cao lei\n"
     ]
    },
    {
     "name": "stdout",
     "output_type": "stream",
     "text": [
      "Hello,  Cao lei How are you today?\n"
     ]
    }
   ],
   "source": [
    "someBody = input(\"Enter your name: \")\n",
    "print(\"Hello, \", someBody, \"How are you today?\")"
   ]
  },
  {
   "cell_type": "code",
   "execution_count": 14,
   "metadata": {},
   "outputs": [
    {
     "name": "stdout",
     "output_type": "stream",
     "text": [
      "my name is Dave.\n"
     ]
    }
   ],
   "source": [
    "print(\"my\", end=\" \"),\n",
    "print(\"name\", end=\" \"),\n",
    "print(\"is\", end=\" \"),\n",
    "print(\"Dave.\")"
   ]
  },
  {
   "cell_type": "markdown",
   "metadata": {},
   "source": [
    "### 输入数字"
   ]
  },
  {
   "cell_type": "code",
   "execution_count": 17,
   "metadata": {},
   "outputs": [
    {
     "name": "stdout",
     "output_type": "stream",
     "text": [
      "This program converts Fahrenheit to Celsius\n",
      "Type in a temperature in Fahrenheit: \n"
     ]
    },
    {
     "name": "stdin",
     "output_type": "stream",
     "text": [
      " 37\n"
     ]
    },
    {
     "name": "stdout",
     "output_type": "stream",
     "text": [
      "That is  2.7777777777777777  degree Celsius.\n"
     ]
    }
   ],
   "source": [
    "# 使用input()转换温度\n",
    "print(\"This program converts Fahrenheit to Celsius\")\n",
    "print(\"Type in a temperature in Fahrenheit: \")\n",
    "fahrenheit = float(input())\n",
    "celsius = (fahrenheit - 32) * 5 / 9\n",
    "print(\"That is \", celsius, \" degree Celsius.\")"
   ]
  },
  {
   "cell_type": "code",
   "execution_count": 18,
   "metadata": {},
   "outputs": [
    {
     "name": "stdout",
     "output_type": "stream",
     "text": [
      "This program converts Fahrenheit to Celsius\n"
     ]
    },
    {
     "name": "stdin",
     "output_type": "stream",
     "text": [
      "Type in a temperature in Farenheit:  135\n"
     ]
    },
    {
     "name": "stdout",
     "output_type": "stream",
     "text": [
      "That is  57.22222222222222  degree Celsius.\n"
     ]
    }
   ],
   "source": [
    "# 另一种写法\n",
    "print(\"This program converts Fahrenheit to Celsius\")\n",
    "fahrenheit = float(input(\"Type in a temperature in Farenheit: \"))\n",
    "celsius = (fahrenheit - 32) * 5 / 9\n",
    "print(\"That is\", celsius, \"degree Celsius.\")"
   ]
  },
  {
   "cell_type": "markdown",
   "metadata": {},
   "source": [
    "#### 结合int()使用input()"
   ]
  },
  {
   "cell_type": "code",
   "execution_count": 23,
   "metadata": {},
   "outputs": [
    {
     "name": "stdin",
     "output_type": "stream",
     "text": [
      "How many students are there in your class? 26\n"
     ]
    },
    {
     "name": "stdout",
     "output_type": "stream",
     "text": [
      "There are 26 students in my class.\n"
     ]
    }
   ],
   "source": [
    "# 如果希望用户输入的总是整数而不是小数，可以用int()进行转换\n",
    "response = int(input(\"How many students are there in your class?\"))\n",
    "print(\"There are\", response, \"students in my class.\")"
   ]
  },
  {
   "cell_type": "markdown",
   "metadata": {},
   "source": [
    "### 来自互联网的输入"
   ]
  },
  {
   "cell_type": "markdown",
   "metadata": {},
   "source": [
    "通常程序的输入来自用户，但也可从互联网得到输入"
   ]
  },
  {
   "cell_type": "code",
   "execution_count": 27,
   "metadata": {},
   "outputs": [
    {
     "name": "stdout",
     "output_type": "stream",
     "text": [
      "b'Congratulations! You have just made your computer reach across the internet to get a secret message!\\r\\nI hope you are enjoying \"Hello World! Computer Programming for Kids and Other Beginners\".\\r\\nHave fun!\\r\\n\\r\\nWarren and Carter\\r\\n\\r\\n'\n"
     ]
    }
   ],
   "source": [
    "import urllib\n",
    "\n",
    "file = urllib.request.urlopen(\"http://helloworldbook.com/data/message.txt\")\n",
    "message = file.read()\n",
    "print(message)"
   ]
  },
  {
   "cell_type": "markdown",
   "metadata": {},
   "source": [
    "### 测试题"
   ]
  },
  {
   "cell_type": "code",
   "execution_count": 29,
   "metadata": {},
   "outputs": [
    {
     "name": "stdin",
     "output_type": "stream",
     "text": [
      "Input: 12\n"
     ]
    },
    {
     "name": "stdout",
     "output_type": "stream",
     "text": [
      "The type of the input is <class 'str'>\n"
     ]
    }
   ],
   "source": [
    "answer = input(\"Input:\")\n",
    "print(\"The type of the input is\", type(answer))"
   ]
  },
  {
   "cell_type": "code",
   "execution_count": 33,
   "metadata": {},
   "outputs": [
    {
     "name": "stdin",
     "output_type": "stream",
     "text": [
      "First name: Lei\n",
      "Last name: Cao\n"
     ]
    },
    {
     "name": "stdout",
     "output_type": "stream",
     "text": [
      "Your name is Lei Cao\n"
     ]
    }
   ],
   "source": [
    "first_name = input(\"First name:\")\n",
    "last_name = input(\"Last name:\")\n",
    "print(\"Your name is\", first_name, last_name)"
   ]
  },
  {
   "cell_type": "code",
   "execution_count": 34,
   "metadata": {},
   "outputs": [
    {
     "name": "stdin",
     "output_type": "stream",
     "text": [
      "The width: 23\n",
      "The height: 12\n"
     ]
    },
    {
     "name": "stdout",
     "output_type": "stream",
     "text": [
      "We need 276.0 material.\n"
     ]
    }
   ],
   "source": [
    "width = float(input(\"The width:\"))\n",
    "height = float(input(\"The height:\"))\n",
    "area = width * height\n",
    "print(\"We need\", area, \"material.\")"
   ]
  },
  {
   "cell_type": "code",
   "execution_count": 36,
   "metadata": {},
   "outputs": [
    {
     "name": "stdin",
     "output_type": "stream",
     "text": [
      "How many five coins do you have? 2\n",
      "How many two coins do you have? 1\n",
      "How many one coins do you have? 3\n"
     ]
    },
    {
     "name": "stdout",
     "output_type": "stream",
     "text": [
      "You have 15 fen.\n"
     ]
    }
   ],
   "source": [
    "five_coin = int(input(\"How many five coins do you have?\"))\n",
    "two_coin = int(input(\"How many two coins do you have?\"))\n",
    "one_coin = int(input(\"How many one coins do you have?\"))\n",
    "total = five_coin * 5 + two_coin * 2 + one_coin * 1\n",
    "print(\"You have\", total, \"fen.\")"
   ]
  },
  {
   "cell_type": "code",
   "execution_count": null,
   "metadata": {},
   "outputs": [],
   "source": []
  }
 ],
 "metadata": {
  "kernelspec": {
   "display_name": "Python 3",
   "language": "python",
   "name": "python3"
  },
  "language_info": {
   "codemirror_mode": {
    "name": "ipython",
    "version": 3
   },
   "file_extension": ".py",
   "mimetype": "text/x-python",
   "name": "python",
   "nbconvert_exporter": "python",
   "pygments_lexer": "ipython3",
   "version": "3.5.2"
  }
 },
 "nbformat": 4,
 "nbformat_minor": 2
}
