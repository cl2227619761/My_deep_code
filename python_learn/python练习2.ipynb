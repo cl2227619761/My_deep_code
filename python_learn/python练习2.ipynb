{
 "cells": [
  {
   "cell_type": "markdown",
   "metadata": {},
   "source": [
    "## 图形用户界面--GUI"
   ]
  },
  {
   "cell_type": "code",
   "execution_count": 1,
   "metadata": {},
   "outputs": [],
   "source": [
    "import easygui"
   ]
  },
  {
   "cell_type": "code",
   "execution_count": 4,
   "metadata": {},
   "outputs": [
    {
     "data": {
      "text/plain": [
       "'OK'"
      ]
     },
     "execution_count": 4,
     "metadata": {},
     "output_type": "execute_result"
    }
   ],
   "source": [
    "easygui.msgbox(\"Hello there!\")"
   ]
  },
  {
   "cell_type": "code",
   "execution_count": 2,
   "metadata": {},
   "outputs": [],
   "source": [
    "# 上面的OK就是告诉：用户点击了OK按钮。返回的信息告诉用户做了些什么，可以赋值给一个变量\n",
    "user_response = easygui.msgbox(\"Hello there!\")"
   ]
  },
  {
   "cell_type": "code",
   "execution_count": 3,
   "metadata": {},
   "outputs": [
    {
     "name": "stdout",
     "output_type": "stream",
     "text": [
      "OK\n"
     ]
    }
   ],
   "source": [
    "print(user_response)"
   ]
  },
  {
   "cell_type": "markdown",
   "metadata": {},
   "source": [
    "### 选择你的口味\n",
    "挑选冰淇淋口味的例子来学习利用EasyGui从用户得到输入的不同方法"
   ]
  },
  {
   "cell_type": "markdown",
   "metadata": {},
   "source": [
    "#### 有多个按钮的对话框"
   ]
  },
  {
   "cell_type": "code",
   "execution_count": 6,
   "metadata": {},
   "outputs": [
    {
     "data": {
      "text/plain": [
       "'OK'"
      ]
     },
     "execution_count": 6,
     "metadata": {},
     "output_type": "execute_result"
    }
   ],
   "source": [
    "flavor = easygui.buttonbox(\"What is your favorite ice cream flavor?\", choices=[\"Vinilla\", \"Chocolate\", \"Strawberry\"])\n",
    "easygui.msgbox(\"You picked \" + flavor)"
   ]
  },
  {
   "cell_type": "markdown",
   "metadata": {},
   "source": [
    "#### 选择框"
   ]
  },
  {
   "cell_type": "code",
   "execution_count": 12,
   "metadata": {},
   "outputs": [
    {
     "name": "stdout",
     "output_type": "stream",
     "text": [
      "[0]\n"
     ]
    },
    {
     "data": {
      "text/plain": [
       "'OK'"
      ]
     },
     "execution_count": 12,
     "metadata": {},
     "output_type": "execute_result"
    }
   ],
   "source": [
    "flavor = easygui.choicebox(\"What is your favorite ice cream flavor?\", choices=[\"Vinilla\", \"Chocolate\", \"Strawberry\"])\n",
    "easygui.msgbox(\"You picked \" + flavor)"
   ]
  },
  {
   "cell_type": "markdown",
   "metadata": {},
   "source": [
    "#### 文本输入"
   ]
  },
  {
   "cell_type": "code",
   "execution_count": 13,
   "metadata": {},
   "outputs": [
    {
     "data": {
      "text/plain": [
       "'OK'"
      ]
     },
     "execution_count": 13,
     "metadata": {},
     "output_type": "execute_result"
    }
   ],
   "source": [
    "# 使用输入框得到输入\n",
    "flavor = easygui.enterbox(\"What is your favorite ice cream flavor?\")\n",
    "easygui.msgbox(\"You picked \" + flavor)"
   ]
  },
  {
   "cell_type": "markdown",
   "metadata": {},
   "source": [
    "#### 默认输入\n",
    "在输入框中放入默认值"
   ]
  },
  {
   "cell_type": "code",
   "execution_count": 14,
   "metadata": {},
   "outputs": [
    {
     "data": {
      "text/plain": [
       "'OK'"
      ]
     },
     "execution_count": 14,
     "metadata": {},
     "output_type": "execute_result"
    }
   ],
   "source": [
    "flavor = easygui.enterbox(\"What is your favorite ice cream flavor?\", default=\"Vinilla\")\n",
    "easygui.msgbox(\"You picked \" + flavor)"
   ]
  },
  {
   "cell_type": "markdown",
   "metadata": {},
   "source": [
    "#### 输入数字"
   ]
  },
  {
   "cell_type": "code",
   "execution_count": 17,
   "metadata": {},
   "outputs": [
    {
     "data": {
      "text/plain": [
       "'OK'"
      ]
     },
     "execution_count": 17,
     "metadata": {},
     "output_type": "execute_result"
    }
   ],
   "source": [
    "number = easygui.integerbox(\"Guess number:\")\n",
    "easygui.msgbox(\"Your number is \" + str(number))"
   ]
  },
  {
   "cell_type": "markdown",
   "metadata": {},
   "source": [
    "### 猜数字的游戏"
   ]
  },
  {
   "cell_type": "code",
   "execution_count": 5,
   "metadata": {},
   "outputs": [],
   "source": [
    "import random, easygui\n",
    "\n",
    "secret = random.randint(1, 99)\n",
    "guess = 0\n",
    "tries = 0\n",
    "\n",
    "easygui.msgbox(\"\"\"AHOY! I am the Dread Pirate Roberts, and I have a secret! It's a number from 1 to 99. I'll give you 6 tries.\"\"\")\n",
    "while guess != secret and tries < 6:\n",
    "    guess = easygui.integerbox(\"What's your guess, matey?\")\n",
    "    if not guess:\n",
    "        break\n",
    "    if guess < secret:\n",
    "        easygui.msgbox(str(guess) + \" is too low, ye scurvy dog!\")\n",
    "    elif guess > secret:\n",
    "        easygui.msgbox(str(guess) + \" is too high, landlubber!\")\n",
    "    tries += 1\n",
    "if guess == secret:\n",
    "    easygui.msgbox(\"Avast! Ye got it! Found my secret, ye did!\")\n",
    "else:\n",
    "    easygui.msgbox(\"No more guesses! Better luck next time, matey!\")"
   ]
  },
  {
   "cell_type": "code",
   "execution_count": null,
   "metadata": {},
   "outputs": [],
   "source": []
  }
 ],
 "metadata": {
  "kernelspec": {
   "display_name": "Python 3",
   "language": "python",
   "name": "python3"
  },
  "language_info": {
   "codemirror_mode": {
    "name": "ipython",
    "version": 3
   },
   "file_extension": ".py",
   "mimetype": "text/x-python",
   "name": "python",
   "nbconvert_exporter": "python",
   "pygments_lexer": "ipython3",
   "version": "3.5.2"
  }
 },
 "nbformat": 4,
 "nbformat_minor": 2
}
