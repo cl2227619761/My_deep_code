{
 "cells": [
  {
   "cell_type": "markdown",
   "metadata": {},
   "source": [
    "# 卷积神经网络"
   ]
  },
  {
   "cell_type": "code",
   "execution_count": 1,
   "metadata": {},
   "outputs": [],
   "source": [
    "# 卷积神经网络\n",
    "# ConvNet with MNIST\n",
    "import tensorflow as tf"
   ]
  },
  {
   "cell_type": "code",
   "execution_count": 11,
   "metadata": {},
   "outputs": [],
   "source": [
    "def conv_relu(inputs, filters, ksize, strides, padding, scope_name):\n",
    "    \"\"\"计算conv+relu的结果\"\"\"\n",
    "    with tf.variable_scope(scope_name, reuse=tf.AUTO_REUSE) as scope:\n",
    "        in_channels = inputs.shape[-1]\n",
    "        kernel = tf.get_variable(name='kernel', \n",
    "                                shape=[ksize, ksize, in_channels, filters],\n",
    "                                initializer=tf.truncated_normal_initializer())\n",
    "        biases = tf.get_variable(name='biases',\n",
    "                                shape=[filters],\n",
    "                                initializer=tf.random_normal_initializer())\n",
    "        conv = tf.nn.conv2d(inputs, kernel=kernel, strides=[1, strides, strides, 1], padding=padding)\n",
    "    return tf.nn.relu(conv + biases, name=scope.name)"
   ]
  },
  {
   "cell_type": "code",
   "execution_count": 12,
   "metadata": {},
   "outputs": [],
   "source": [
    "def maxpool(inputs, ksize, stride, padding='VALID', scope_name='pool'):\n",
    "    '''A method that does max pooling on inputs'''\n",
    "    with tf.variable_scope(scope_name, reuse=tf.AUTO_REUSE) as scope:\n",
    "        pool = tf.nn.max_pool(inputs, \n",
    "                            ksize=[1, ksize, ksize, 1], \n",
    "                            strides=[1, stride, stride, 1],\n",
    "                            padding=padding)\n",
    "    return pool"
   ]
  },
  {
   "cell_type": "code",
   "execution_count": 13,
   "metadata": {},
   "outputs": [],
   "source": [
    "def fully_connected(inputs, out_dim, scope_name='fc'):\n",
    "    with tf.variable_scope(scope_name, reuse=tf.AUTO_REUSE) as scope:\n",
    "        in_dim = inputs.shape[-1]\n",
    "        w = tf.get_variable(name='weights', shape=[in_dim, out_dim], initializer=tf.truncated_normal_initializer())\n",
    "        b = tf.get_variable(name='biases', shape=[out_dim], initializer=tf.constant_initializer(0.0))\n",
    "        out = tf.matmul(inputs, w) + b\n",
    "    return out"
   ]
  },
  {
   "cell_type": "code",
   "execution_count": null,
   "metadata": {},
   "outputs": [],
   "source": []
  }
 ],
 "metadata": {
  "kernelspec": {
   "display_name": "Python 3",
   "language": "python",
   "name": "python3"
  },
  "language_info": {
   "codemirror_mode": {
    "name": "ipython",
    "version": 3
   },
   "file_extension": ".py",
   "mimetype": "text/x-python",
   "name": "python",
   "nbconvert_exporter": "python",
   "pygments_lexer": "ipython3",
   "version": "3.5.2"
  }
 },
 "nbformat": 4,
 "nbformat_minor": 2
}
