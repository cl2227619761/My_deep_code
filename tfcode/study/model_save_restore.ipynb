{
 "cells": [
  {
   "cell_type": "markdown",
   "metadata": {},
   "source": [
    "# TensorFlow模型的保存与恢复"
   ]
  },
  {
   "cell_type": "markdown",
   "metadata": {},
   "source": [
    "## 简介\n",
    "\n",
    "本文讲解如何保存以及恢复神经网络中的变量。在优化过程中，当验证集的分类准确率提高时，保存神经网络的变量。如果经过1000次迭代还不能提升性能时，就终止优化。然后重新载入在验证集上表现最好的变量，这种策略被称为Early Stopping。它的作用是用来避免神经网络过拟合。\n",
    "\n",
    "本文使用的是自定义的MNIST数据集，展示Early Stopping的思想"
   ]
  },
  {
   "cell_type": "markdown",
   "metadata": {},
   "source": [
    "## 导入模块"
   ]
  },
  {
   "cell_type": "code",
   "execution_count": 1,
   "metadata": {},
   "outputs": [],
   "source": [
    "import tensorflow as tf\n",
    "import matplotlib.pyplot as plt\n",
    "import numpy as np\n",
    "import os\n",
    "from sklearn.metrics import confusion_matrix\n",
    "from sklearn.model_selection import train_test_split\n",
    "import time\n",
    "from datetime import timedelta\n",
    "import math"
   ]
  },
  {
   "cell_type": "code",
   "execution_count": 2,
   "metadata": {},
   "outputs": [
    {
     "name": "stdout",
     "output_type": "stream",
     "text": [
      "1.12.0\n"
     ]
    }
   ],
   "source": [
    "# TensorFlow版本\n",
    "print(tf.__version__)"
   ]
  },
  {
   "cell_type": "markdown",
   "metadata": {},
   "source": [
    "## 将图片划分为训练集和验证集"
   ]
  },
  {
   "cell_type": "code",
   "execution_count": 4,
   "metadata": {},
   "outputs": [],
   "source": [
    "train_val_files = [os.path.join(\"./mnist_train/\", i, j) for i in os.listdir(\"./mnist_train/\") for j in os.listdir(os.path.join(\"./mnist_train/\", i))]\n",
    "train_val_labels = [i.split(\"/\")[2] for i in train_val_files]"
   ]
  },
  {
   "cell_type": "code",
   "execution_count": 6,
   "metadata": {},
   "outputs": [
    {
     "name": "stdout",
     "output_type": "stream",
     "text": [
      "['./mnist_train/4/mnist_train_43608.png', './mnist_train/4/mnist_train_39324.png', './mnist_train/4/mnist_train_50389.png']\n",
      "['4', '4', '4']\n",
      "60000\n"
     ]
    }
   ],
   "source": [
    "print(train_val_files[:3])\n",
    "print(train_val_labels[:3])\n",
    "print(len(train_val_files))"
   ]
  },
  {
   "cell_type": "code",
   "execution_count": 8,
   "metadata": {},
   "outputs": [],
   "source": [
    "train_files, val_files, train_labels, val_labels = train_test_split(train_val_files, train_val_labels, test_size=0.2, random_state=1234)"
   ]
  },
  {
   "cell_type": "code",
   "execution_count": 9,
   "metadata": {},
   "outputs": [
    {
     "name": "stdout",
     "output_type": "stream",
     "text": [
      "['./mnist_train/3/mnist_train_37167.png', './mnist_train/4/mnist_train_4346.png', './mnist_train/6/mnist_train_46003.png']\n",
      "['3', '4', '6']\n",
      "------------------\n",
      "['./mnist_train/7/mnist_train_59646.png', './mnist_train/9/mnist_train_27780.png', './mnist_train/7/mnist_train_53253.png']\n",
      "['7', '9', '7']\n"
     ]
    }
   ],
   "source": [
    "print(train_files[:3])\n",
    "print(train_labels[:3])\n",
    "print(\"------------------\")\n",
    "print(val_files[:3])\n",
    "print(val_labels[:3])"
   ]
  },
  {
   "cell_type": "code",
   "execution_count": 10,
   "metadata": {},
   "outputs": [
    {
     "name": "stdout",
     "output_type": "stream",
     "text": [
      "48000\n",
      "12000\n"
     ]
    }
   ],
   "source": [
    "print(len(train_files))\n",
    "print(len(val_files))"
   ]
  },
  {
   "cell_type": "code",
   "execution_count": 11,
   "metadata": {},
   "outputs": [
    {
     "name": "stdout",
     "output_type": "stream",
     "text": [
      "[['./mnist_train/3/mnist_train_37167.png' '3']\n",
      " ['./mnist_train/4/mnist_train_4346.png' '4']\n",
      " ['./mnist_train/6/mnist_train_46003.png' '6']]\n",
      "---------------------------------\n",
      "[['./mnist_train/7/mnist_train_59646.png' '7']\n",
      " ['./mnist_train/9/mnist_train_27780.png' '9']\n",
      " ['./mnist_train/7/mnist_train_53253.png' '7']]\n"
     ]
    }
   ],
   "source": [
    "train_file_label = np.column_stack((train_files, train_labels))\n",
    "val_file_label = np.column_stack((val_files, val_labels))\n",
    "print(train_file_label[:3])\n",
    "print(\"---------------------------------\")\n",
    "print(val_file_label[:3])"
   ]
  },
  {
   "cell_type": "code",
   "execution_count": 12,
   "metadata": {},
   "outputs": [],
   "source": [
    "np.savetxt(\"./train.csv\", train_file_label, delimiter=\",\", fmt=\"%s\")\n",
    "np.savetxt(\"./val.csv\", val_file_label, delimiter=\",\", fmt=\"%s\")"
   ]
  },
  {
   "cell_type": "markdown",
   "metadata": {},
   "source": [
    "## 加载dataset数据集"
   ]
  },
  {
   "cell_type": "code",
   "execution_count": 3,
   "metadata": {},
   "outputs": [],
   "source": [
    "# 训练集\n",
    "file_name = \"./train.csv\"\n",
    "record_defaults = [tf.string, tf.int32]\n",
    "train_ds = tf.data.experimental.CsvDataset(file_name, record_defaults)"
   ]
  },
  {
   "cell_type": "code",
   "execution_count": 4,
   "metadata": {},
   "outputs": [],
   "source": [
    "# 验证集\n",
    "val_file_name = \"./val.csv\"\n",
    "record_defaults = [tf.string, tf.int32]\n",
    "val_ds = tf.data.experimental.CsvDataset(val_file_name, record_defaults)"
   ]
  },
  {
   "cell_type": "code",
   "execution_count": 5,
   "metadata": {},
   "outputs": [
    {
     "name": "stdout",
     "output_type": "stream",
     "text": [
      "(tf.string, tf.int32)\n",
      "(TensorShape([]), TensorShape([]))\n"
     ]
    }
   ],
   "source": [
    "print(train_ds.output_types)\n",
    "print(train_ds.output_shapes)"
   ]
  },
  {
   "cell_type": "code",
   "execution_count": 6,
   "metadata": {},
   "outputs": [
    {
     "name": "stdout",
     "output_type": "stream",
     "text": [
      "3\n"
     ]
    },
    {
     "data": {
      "image/png": "[encoded data removed]",
      "text/plain": [
       "<Figure size 432x288 with 2 Axes>"
      ]
     },
     "metadata": {
      "needs_background": "light"
     },
     "output_type": "display_data"
    }
   ],
   "source": [
    "# 测试数据集的准确性\n",
    "iterator = train_ds.make_one_shot_iterator()\n",
    "next_element = iterator.get_next()\n",
    "with tf.Session() as sess:\n",
    "    for i in range(1):\n",
    "        img_path, label = sess.run(next_element)\n",
    "        img_string = tf.read_file(img_path)\n",
    "        img = tf.image.decode_png(img_string)\n",
    "        img = sess.run(img)\n",
    "        img = img.squeeze()\n",
    "        print(label)\n",
    "        plt.imshow(img, cmap=\"gray\")\n",
    "        plt.colorbar()\n",
    "        plt.show()"
   ]
  },
  {
   "cell_type": "code",
   "execution_count": 7,
   "metadata": {},
   "outputs": [],
   "source": [
    "def _parse_image(filepath, label):\n",
    "    img_string = tf.read_file(filepath)\n",
    "    img_decoded = tf.image.decode_png(img_string)\n",
    "    img_reshaped = tf.reshape(img_decoded, [28, 28, 1])\n",
    "    img_converted = tf.cast(img_reshaped, tf.float32)\n",
    "    img_scaled = tf.divide(img_converted, 255.)\n",
    "    return img_scaled, label"
   ]
  },
  {
   "cell_type": "code",
   "execution_count": 8,
   "metadata": {},
   "outputs": [
    {
     "name": "stdout",
     "output_type": "stream",
     "text": [
      "(tf.float32, tf.int32)\n",
      "(TensorShape([Dimension(None), Dimension(28), Dimension(28), Dimension(1)]), TensorShape([Dimension(None)]))\n"
     ]
    }
   ],
   "source": [
    "# 训练数据集转换操作\n",
    "train_ds = train_ds.map(_parse_image)\n",
    "train_ds = train_ds.shuffle(48000).batch(100)\n",
    "print(train_ds.output_types)\n",
    "print(train_ds.output_shapes)"
   ]
  },
  {
   "cell_type": "code",
   "execution_count": 9,
   "metadata": {},
   "outputs": [
    {
     "name": "stdout",
     "output_type": "stream",
     "text": [
      "(tf.float32, tf.int32)\n",
      "(TensorShape([Dimension(None), Dimension(28), Dimension(28), Dimension(1)]), TensorShape([Dimension(None)]))\n"
     ]
    }
   ],
   "source": [
    "# 验证数据集转换操作\n",
    "val_ds = val_ds.map(_parse_image)\n",
    "val_ds = val_ds.shuffle(12000).batch(100)\n",
    "print(val_ds.output_types)\n",
    "print(val_ds.output_shapes)"
   ]
  },
  {
   "cell_type": "code",
   "execution_count": 10,
   "metadata": {},
   "outputs": [],
   "source": [
    "# 创建可馈送迭代器句柄\n",
    "handle = tf.placeholder(tf.string, shape=[])\n",
    "iterator = tf.data.Iterator.from_string_handle(handle, train_ds.output_types, train_ds.output_shapes)\n",
    "data_x, data_y = iterator.get_next()"
   ]
  },
  {
   "cell_type": "code",
   "execution_count": 11,
   "metadata": {},
   "outputs": [],
   "source": [
    "# 为训练集和验证集创建可初始化迭代器\n",
    "train_val_iterator = tf.data.Iterator.from_structure(train_ds.output_types, train_ds.output_shapes)\n",
    "train_iterator = train_val_iterator.make_initializer(train_ds)\n",
    "val_iterator = train_val_iterator.make_initializer(val_ds)"
   ]
  },
  {
   "cell_type": "markdown",
   "metadata": {},
   "source": [
    "## 模型的搭建LeNet-5"
   ]
  },
  {
   "cell_type": "code",
   "execution_count": null,
   "metadata": {},
   "outputs": [],
   "source": [
    "class MyModel:\n",
    "    def __init__(self, data_x, data_y):\n",
    "        self.n_classes = 10\n",
    "        self.data_x = data_x\n",
    "        self.data_y = data_y\n",
    "        \n",
    "    def _weight_variable(shape):\n",
    "        return tf.get_variable()\n",
    "    \n",
    "    def _bias_variable(shape):\n",
    "        initial = tf.constant(0.1, shape=shape)\n",
    "        return tf.Variable(initial)\n",
    "    \n",
    "    def _variable_summaries(var):\n",
    "        with tf.name_scope(\"summaries\"):\n",
    "            with tf.name_scope(\"mean\"):\n",
    "                mean = tf.reduce_mean(var)\n",
    "                tf.summary.scalar(\"mean\", mean)\n",
    "            with tf.name_scope(\"stddev\"):\n",
    "                stddev = tf.sqrt(tf.reduce_mean(tf.square(var - mean)))\n",
    "                tf.summary.scalar(\"stddev\", stddev)\n",
    "            tf.summary.scalar(\"max\", tf.reduce_max(var))\n",
    "            tf.summary.scalar(\"min\", tf.reduce_min(var))\n",
    "            tf.summary.histogram(\"histogram\", var)\n",
    "    \n",
    "    def _nn_layer(input_tensor, input_dim, output_dim, )"
   ]
  }
 ],
 "metadata": {
  "kernelspec": {
   "display_name": "Python 3",
   "language": "python",
   "name": "python3"
  },
  "language_info": {
   "codemirror_mode": {
    "name": "ipython",
    "version": 3
   },
   "file_extension": ".py",
   "mimetype": "text/x-python",
   "name": "python",
   "nbconvert_exporter": "python",
   "pygments_lexer": "ipython3",
   "version": "3.5.2"
  }
 },
 "nbformat": 4,
 "nbformat_minor": 2
}
