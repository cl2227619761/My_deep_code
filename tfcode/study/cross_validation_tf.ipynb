{
 "cells": [
  {
   "cell_type": "code",
   "execution_count": 1,
   "metadata": {},
   "outputs": [],
   "source": [
    "import tensorflow as tf\n",
    "import numpy as np\n",
    "from sklearn.model_selection import LeaveOneOut, KFold"
   ]
  },
  {
   "cell_type": "code",
   "execution_count": 2,
   "metadata": {},
   "outputs": [],
   "source": [
    "train_files_labels = np.loadtxt(\"./train.csv\", dtype=str, delimiter=\",\").tolist()"
   ]
  },
  {
   "cell_type": "code",
   "execution_count": 3,
   "metadata": {},
   "outputs": [],
   "source": [
    "files, labels = zip(*[(l[0], int(l[1])) for l in train_files_labels])"
   ]
  },
  {
   "cell_type": "code",
   "execution_count": 4,
   "metadata": {},
   "outputs": [
    {
     "name": "stdout",
     "output_type": "stream",
     "text": [
      "('./mnist_train/3/mnist_train_37167.png', './mnist_train/4/mnist_train_4346.png', './mnist_train/6/mnist_train_46003.png')\n",
      "(3, 4, 6)\n"
     ]
    }
   ],
   "source": [
    "print(files[:3])\n",
    "print(labels[:3])"
   ]
  },
  {
   "cell_type": "code",
   "execution_count": 9,
   "metadata": {},
   "outputs": [
    {
     "name": "stdout",
     "output_type": "stream",
     "text": [
      "['./mnist_train/5/mnist_train_50019.png'\n",
      " './mnist_train/1/mnist_train_54675.png'\n",
      " './mnist_train/7/mnist_train_28781.png' ...\n",
      " './mnist_train/7/mnist_train_17533.png'\n",
      " './mnist_train/1/mnist_train_58991.png'\n",
      " './mnist_train/0/mnist_train_28101.png']\n",
      "['./mnist_train/3/mnist_train_37167.png'\n",
      " './mnist_train/4/mnist_train_4346.png'\n",
      " './mnist_train/6/mnist_train_46003.png' ...\n",
      " './mnist_train/2/mnist_train_39739.png'\n",
      " './mnist_train/4/mnist_train_24810.png'\n",
      " './mnist_train/8/mnist_train_29729.png']\n",
      "(32000,)\n",
      "(16000,)\n",
      "------------------------------------------------\n",
      "['./mnist_train/3/mnist_train_37167.png'\n",
      " './mnist_train/4/mnist_train_4346.png'\n",
      " './mnist_train/6/mnist_train_46003.png' ...\n",
      " './mnist_train/7/mnist_train_17533.png'\n",
      " './mnist_train/1/mnist_train_58991.png'\n",
      " './mnist_train/0/mnist_train_28101.png']\n",
      "['./mnist_train/5/mnist_train_50019.png'\n",
      " './mnist_train/1/mnist_train_54675.png'\n",
      " './mnist_train/7/mnist_train_28781.png' ...\n",
      " './mnist_train/0/mnist_train_1625.png'\n",
      " './mnist_train/1/mnist_train_53310.png'\n",
      " './mnist_train/5/mnist_train_13331.png']\n",
      "(32000,)\n",
      "(16000,)\n",
      "------------------------------------------------\n",
      "['./mnist_train/3/mnist_train_37167.png'\n",
      " './mnist_train/4/mnist_train_4346.png'\n",
      " './mnist_train/6/mnist_train_46003.png' ...\n",
      " './mnist_train/0/mnist_train_1625.png'\n",
      " './mnist_train/1/mnist_train_53310.png'\n",
      " './mnist_train/5/mnist_train_13331.png']\n",
      "['./mnist_train/5/mnist_train_39964.png'\n",
      " './mnist_train/6/mnist_train_23905.png'\n",
      " './mnist_train/2/mnist_train_48420.png' ...\n",
      " './mnist_train/7/mnist_train_17533.png'\n",
      " './mnist_train/1/mnist_train_58991.png'\n",
      " './mnist_train/0/mnist_train_28101.png']\n",
      "(32000,)\n",
      "(16000,)\n",
      "------------------------------------------------\n"
     ]
    }
   ],
   "source": [
    "for train_index, test_index in KFold(3).split(files):\n",
    "    print(np.array(files)[train_index])\n",
    "    print(np.array(files)[test_index])\n",
    "    print(np.array(files)[train_index].shape)\n",
    "    print(np.array(files)[test_index].shape)\n",
    "    print(\"------------------------------------------------\")"
   ]
  },
  {
   "cell_type": "code",
   "execution_count": 31,
   "metadata": {},
   "outputs": [],
   "source": [
    "# 从iterator创建数据集，好处是使用交叉验证进行处理数据\n",
    "def make_dataset(x_data, y_data, n_splits):\n",
    "    def gen():\n",
    "        for train_index, test_index in KFold(n_splits).split(x_data):\n",
    "            x_train, x_test = np.array(x_data)[train_index], np.array(x_data)[test_index]\n",
    "            y_train, y_test = np.array(y_data)[train_index], np.array(y_data)[test_index]\n",
    "            yield x_train, y_train, x_test, y_test\n",
    "    return tf.data.Dataset.from_generator(gen, (tf.string, tf.int32, tf.string, tf.int32))"
   ]
  },
  {
   "cell_type": "code",
   "execution_count": 32,
   "metadata": {},
   "outputs": [],
   "source": [
    "dataset = make_dataset(files, labels, 3)"
   ]
  },
  {
   "cell_type": "code",
   "execution_count": 33,
   "metadata": {},
   "outputs": [],
   "source": [
    "# iterator = dataset.make_one_shot_iterator()\n",
    "# next_element = iterator.get_next()"
   ]
  },
  {
   "cell_type": "code",
   "execution_count": 47,
   "metadata": {},
   "outputs": [
    {
     "name": "stdout",
     "output_type": "stream",
     "text": [
      "4\n",
      "32000\n",
      "16000\n",
      "4\n",
      "32000\n",
      "16000\n",
      "4\n",
      "32000\n",
      "16000\n"
     ]
    }
   ],
   "source": [
    "with tf.Session() as sess:\n",
    "    try:\n",
    "        while True:\n",
    "            tmp = sess.run(next_element)\n",
    "            print(len(tmp))\n",
    "            print(len(tmp[0]))\n",
    "            print(len(tmp[3]))\n",
    "    except tf.errors.OutOfRangeError:\n",
    "        pass"
   ]
  },
  {
   "cell_type": "code",
   "execution_count": 35,
   "metadata": {},
   "outputs": [],
   "source": [
    "# dataset数据集转换函数\n",
    "def _parse_image(filename, label):\n",
    "    image_strings = tf.read_file(filename)\n",
    "    images_decoded = tf.image.decode_png(image_strings)\n",
    "    images_reshaped = tf.reshape(images_decoded, [28, 28, 1])\n",
    "    images_converted = tf.cast(images_reshaped, tf.float32)\n",
    "    images_scaled = tf.divide(images_converted, 255.)\n",
    "    labels = tf.cast(label, tf.int32)\n",
    "    return images_scaled, labels"
   ]
  },
  {
   "cell_type": "code",
   "execution_count": 40,
   "metadata": {},
   "outputs": [
    {
     "name": "stdout",
     "output_type": "stream",
     "text": [
      "(tf.string, tf.int32, tf.string, tf.int32)\n",
      "(TensorShape(None), TensorShape(None), TensorShape(None), TensorShape(None))\n"
     ]
    }
   ],
   "source": [
    "dataset = dataset.batch(100)\n",
    "print(dataset.output_types)\n",
    "print(dataset.output_shapes)"
   ]
  },
  {
   "cell_type": "code",
   "execution_count": null,
   "metadata": {},
   "outputs": [],
   "source": []
  }
 ],
 "metadata": {
  "kernelspec": {
   "display_name": "Python 3",
   "language": "python",
   "name": "python3"
  },
  "language_info": {
   "codemirror_mode": {
    "name": "ipython",
    "version": 3
   },
   "file_extension": ".py",
   "mimetype": "text/x-python",
   "name": "python",
   "nbconvert_exporter": "python",
   "pygments_lexer": "ipython3",
   "version": "3.5.2"
  }
 },
 "nbformat": 4,
 "nbformat_minor": 2
}
