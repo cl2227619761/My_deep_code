{
 "cells": [
  {
   "cell_type": "markdown",
   "metadata": {},
   "source": [
    "# 简单线性模型"
   ]
  },
  {
   "cell_type": "markdown",
   "metadata": {},
   "source": [
    "## 导入模块"
   ]
  },
  {
   "cell_type": "code",
   "execution_count": 1,
   "metadata": {},
   "outputs": [],
   "source": [
    "%matplotlib inline\n",
    "import matplotlib.pyplot as plt\n",
    "import tensorflow as tf\n",
    "import numpy as np\n",
    "from sklearn.metrics import confusion_matrix"
   ]
  },
  {
   "cell_type": "code",
   "execution_count": 2,
   "metadata": {},
   "outputs": [
    {
     "data": {
      "text/plain": [
       "'1.12.0'"
      ]
     },
     "execution_count": 2,
     "metadata": {},
     "output_type": "execute_result"
    }
   ],
   "source": [
    "tf.__version__"
   ]
  },
  {
   "cell_type": "markdown",
   "metadata": {},
   "source": [
    "## 载入数据"
   ]
  },
  {
   "cell_type": "code",
   "execution_count": 3,
   "metadata": {},
   "outputs": [
    {
     "name": "stdout",
     "output_type": "stream",
     "text": [
      "(tf.string, tf.int32)\n",
      "(TensorShape([]), TensorShape([]))\n"
     ]
    }
   ],
   "source": [
    "# 训练集\n",
    "train_filepath = \"./train.csv\"\n",
    "record_defaults = [tf.string, tf.int32]\n",
    "train_ds = tf.data.experimental.CsvDataset(train_filepath, record_defaults)\n",
    "print(train_ds.output_types)\n",
    "print(train_ds.output_shapes)"
   ]
  },
  {
   "cell_type": "code",
   "execution_count": 4,
   "metadata": {},
   "outputs": [],
   "source": [
    "# 验证集\n",
    "val_filepath = \"./val.csv\"\n",
    "record_filepath = [tf.string, tf.int32]\n",
    "val_ds = tf.data.experimental.CsvDataset(val_filepath, record_defaults)"
   ]
  },
  {
   "cell_type": "code",
   "execution_count": 5,
   "metadata": {},
   "outputs": [],
   "source": [
    "# 数据集转换操作\n",
    "def _parse_image(filename, label):\n",
    "    image_string = tf.read_file(filename)\n",
    "    image = tf.image.decode_png(image_string)\n",
    "    image = tf.reshape(image, [28, 28, 1])\n",
    "    image = tf.image.convert_image_dtype(image, tf.float32)\n",
    "    label = tf.cast(label, tf.int32)\n",
    "    return image, label"
   ]
  },
  {
   "cell_type": "code",
   "execution_count": 6,
   "metadata": {},
   "outputs": [],
   "source": [
    "train_ds = train_ds.map(_parse_image)\n",
    "val_ds = val_ds.map(_parse_image)"
   ]
  },
  {
   "cell_type": "code",
   "execution_count": 7,
   "metadata": {},
   "outputs": [
    {
     "name": "stdout",
     "output_type": "stream",
     "text": [
      "(tf.float32, tf.int32)\n",
      "(TensorShape([Dimension(28), Dimension(28), Dimension(1)]), TensorShape([]))\n"
     ]
    }
   ],
   "source": [
    "print(train_ds.output_types)\n",
    "print(train_ds.output_shapes)"
   ]
  },
  {
   "cell_type": "code",
   "execution_count": 8,
   "metadata": {},
   "outputs": [
    {
     "name": "stdout",
     "output_type": "stream",
     "text": [
      "(TensorShape([Dimension(28), Dimension(28), Dimension(1)]), TensorShape([]))\n"
     ]
    }
   ],
   "source": [
    "print(val_ds.output_shapes)"
   ]
  },
  {
   "cell_type": "code",
   "execution_count": 9,
   "metadata": {},
   "outputs": [],
   "source": [
    "train_ds = train_ds.shuffle(48000).batch(100)\n",
    "val_ds = val_ds.batch(100)"
   ]
  },
  {
   "cell_type": "code",
   "execution_count": 10,
   "metadata": {},
   "outputs": [
    {
     "name": "stdout",
     "output_type": "stream",
     "text": [
      "(tf.float32, tf.int32)\n",
      "(TensorShape([Dimension(None), Dimension(28), Dimension(28), Dimension(1)]), TensorShape([Dimension(None)]))\n"
     ]
    }
   ],
   "source": [
    "print(train_ds.output_types)\n",
    "print(train_ds.output_shapes)"
   ]
  },
  {
   "cell_type": "code",
   "execution_count": 11,
   "metadata": {},
   "outputs": [
    {
     "name": "stdout",
     "output_type": "stream",
     "text": [
      "(TensorShape([Dimension(None), Dimension(28), Dimension(28), Dimension(1)]), TensorShape([Dimension(None)]))\n"
     ]
    }
   ],
   "source": [
    "print(val_ds.output_shapes)"
   ]
  },
  {
   "cell_type": "code",
   "execution_count": 12,
   "metadata": {},
   "outputs": [],
   "source": [
    "# 可馈送迭代器句柄\n",
    "handle = tf.placeholder(tf.string, shape=[])\n",
    "iterator = tf.data.Iterator.from_string_handle(handle, train_ds.output_types, train_ds.output_shapes)\n",
    "data_x, data_y = iterator.get_next()"
   ]
  },
  {
   "cell_type": "code",
   "execution_count": 13,
   "metadata": {},
   "outputs": [],
   "source": [
    "# 创建可重新初始化迭代器\n",
    "train_val_iterator = tf.data.Iterator.from_structure(train_ds.output_types, train_ds.output_shapes)\n",
    "train_iterator = train_val_iterator.make_initializer(train_ds)\n",
    "val_iterator = train_val_iterator.make_initializer(val_ds)"
   ]
  },
  {
   "cell_type": "markdown",
   "metadata": {},
   "source": [
    "## 用来绘制图像的帮助函数"
   ]
  },
  {
   "cell_type": "code",
   "execution_count": 14,
   "metadata": {},
   "outputs": [],
   "source": [
    "def plot_images(images, cls_true, cls_pred=None):\n",
    "    fig, axes = plt.subplots(3, 3)\n",
    "    fig.subplots_adjust(hspace=0.3, wspace=0.3)\n",
    "    for i, ax in enumerate(axes.flat):\n",
    "        ax.imshow(images[i], cmap=\"binary\")\n",
    "        \n",
    "        if cls_pred is None:\n",
    "            xlabel = \"True: {0}\".format(cls_true[i])\n",
    "        else:\n",
    "            xlabel = \"True: {0}, Pred: {1}\".format(cls_true[i], cls_pred[i])\n",
    "        ax.set_xlabel(xlabel)\n",
    "        ax.set_xticks([])\n",
    "        ax.set_yticks([])\n",
    "    plt.show()"
   ]
  },
  {
   "cell_type": "markdown",
   "metadata": {},
   "source": [
    "### 绘制几张图像"
   ]
  },
  {
   "cell_type": "code",
   "execution_count": 15,
   "metadata": {},
   "outputs": [
    {
     "name": "stdout",
     "output_type": "stream",
     "text": [
      "(100, 28, 28, 1)\n"
     ]
    },
    {
     "data": {
      "image/png": "[encoded data removed]",
      "text/plain": [
       "<Figure size 432x288 with 9 Axes>"
      ]
     },
     "metadata": {},
     "output_type": "display_data"
    }
   ],
   "source": [
    "tmp_iterator = train_ds.make_one_shot_iterator()\n",
    "next_element = tmp_iterator.get_next()\n",
    "with tf.Session() as sess:\n",
    "    for i in range(1):\n",
    "        tmp_img, tmp_label = sess.run(next_element)\n",
    "    print(tmp_img.shape)\n",
    "    tmp_img = tmp_img.squeeze()\n",
    "    plot_images(tmp_img[:9], tmp_label[:9])"
   ]
  },
  {
   "cell_type": "markdown",
   "metadata": {},
   "source": [
    "## 搭建模型"
   ]
  },
  {
   "cell_type": "code",
   "execution_count": 16,
   "metadata": {},
   "outputs": [],
   "source": [
    "class MyModel:\n",
    "    def __init__(self, data_x, data_y):\n",
    "        self.n_classes = 10\n",
    "        self._create_architecture(data_x, data_y)\n",
    "        \n",
    "    def _create_model(self, x):\n",
    "        input_tensor = tf.keras.Input(shape=[28, 28, 1], tensor=x, name=\"Input\")\n",
    "        net = tf.keras.layers.Conv2D(20, [5, 5], activation=\"relu\", name=\"Conv1\")(input_tensor)\n",
    "        net = tf.keras.layers.MaxPooling2D(pool_size=(2, 2), name=\"Pool1\")(net)\n",
    "        net = tf.keras.layers.Conv2D(50, [5, 5], activation=\"relu\", name=\"Conv2\")(net)\n",
    "        net = tf.keras.layers.MaxPooling2D(pool_size=(2, 2), name=\"Pool2\")(net)\n",
    "        net = tf.keras.layers.Flatten(name=\"Flatten\")(net)\n",
    "        net = tf.keras.layers.Dense(120, activation=\"relu\", name=\"Dense1\")(net)\n",
    "        net = tf.keras.layers.Dense(84, activation=\"relu\", name=\"Dense2\")(net)\n",
    "        net = tf.keras.layers.Dense(self.n_classes, activation=\"linear\", name=\"logits\")(net)\n",
    "        return net\n",
    "    \n",
    "    def _create_architecture(self, x, y):\n",
    "        self.logits = self._create_model(x)\n",
    "        self.predictions = tf.argmax(self.logits, 1, output_type=tf.int32)\n",
    "        self.loss = tf.reduce_mean(tf.losses.sparse_softmax_cross_entropy(labels=y, logits=self.logits))\n",
    "        self.train_step = tf.train.AdamOptimizer().minimize(self.loss)\n",
    "        self.accuracy = tf.reduce_sum(tf.cast(tf.equal(y, self.predictions), tf.float32))"
   ]
  },
  {
   "cell_type": "code",
   "execution_count": 17,
   "metadata": {},
   "outputs": [],
   "source": [
    "model = MyModel(data_x, data_y)"
   ]
  },
  {
   "cell_type": "markdown",
   "metadata": {},
   "source": [
    "## 运行"
   ]
  },
  {
   "cell_type": "code",
   "execution_count": 18,
   "metadata": {},
   "outputs": [],
   "source": [
    "sess = tf.InteractiveSession()"
   ]
  },
  {
   "cell_type": "code",
   "execution_count": 19,
   "metadata": {},
   "outputs": [],
   "source": [
    "sess.run(tf.global_variables_initializer())"
   ]
  },
  {
   "cell_type": "code",
   "execution_count": 20,
   "metadata": {},
   "outputs": [],
   "source": [
    "train_val_string = sess.run(train_val_iterator.string_handle())"
   ]
  },
  {
   "cell_type": "code",
   "execution_count": 21,
   "metadata": {},
   "outputs": [],
   "source": [
    "from tqdm import tqdm"
   ]
  },
  {
   "cell_type": "code",
   "execution_count": 22,
   "metadata": {},
   "outputs": [
    {
     "name": "stderr",
     "output_type": "stream",
     "text": [
      "100%|██████████| 48000/48000 [00:25<00:00, 1851.53it/s]\n",
      "  0%|          | 0/48000 [00:00<?, ?it/s]"
     ]
    },
    {
     "name": "stdout",
     "output_type": "stream",
     "text": [
      "\n",
      "Epoch: 1\n",
      "Training accuracy: 0.9287, loss: 0.0024\n",
      "Val accuracy: 0.9762, loss: 0.0008\n",
      "\n"
     ]
    },
    {
     "name": "stderr",
     "output_type": "stream",
     "text": [
      "100%|██████████| 48000/48000 [00:25<00:00, 1859.76it/s]\n",
      "  0%|          | 0/48000 [00:00<?, ?it/s]"
     ]
    },
    {
     "name": "stdout",
     "output_type": "stream",
     "text": [
      "\n",
      "Epoch: 2\n",
      "Training accuracy: 0.9807, loss: 0.0006\n",
      "Val accuracy: 0.9820, loss: 0.0006\n",
      "\n"
     ]
    },
    {
     "name": "stderr",
     "output_type": "stream",
     "text": [
      "100%|██████████| 48000/48000 [00:25<00:00, 1852.90it/s]\n",
      "  0%|          | 0/48000 [00:00<?, ?it/s]"
     ]
    },
    {
     "name": "stdout",
     "output_type": "stream",
     "text": [
      "\n",
      "Epoch: 3\n",
      "Training accuracy: 0.9868, loss: 0.0004\n",
      "Val accuracy: 0.9839, loss: 0.0005\n",
      "\n"
     ]
    },
    {
     "name": "stderr",
     "output_type": "stream",
     "text": [
      "100%|██████████| 48000/48000 [00:25<00:00, 1891.92it/s]\n",
      "  0%|          | 0/48000 [00:00<?, ?it/s]"
     ]
    },
    {
     "name": "stdout",
     "output_type": "stream",
     "text": [
      "\n",
      "Epoch: 4\n",
      "Training accuracy: 0.9900, loss: 0.0003\n",
      "Val accuracy: 0.9885, loss: 0.0004\n",
      "\n"
     ]
    },
    {
     "name": "stderr",
     "output_type": "stream",
     "text": [
      "100%|██████████| 48000/48000 [00:25<00:00, 1864.08it/s]\n"
     ]
    },
    {
     "name": "stdout",
     "output_type": "stream",
     "text": [
      "\n",
      "Epoch: 5\n",
      "Training accuracy: 0.9921, loss: 0.0002\n",
      "Val accuracy: 0.9872, loss: 0.0004\n",
      "\n"
     ]
    }
   ],
   "source": [
    "for epoch in range(5):\n",
    "    train_loss, train_acc = 0, 0\n",
    "    val_loss, val_acc = 0, 0\n",
    "    \n",
    "    sess.run(train_iterator)\n",
    "    try:\n",
    "        with tqdm(total=48000) as pbar:\n",
    "            while True:\n",
    "                _, loss, acc = sess.run([model.train_step, model.loss, model.accuracy], feed_dict={handle: train_val_string})\n",
    "                train_loss += loss\n",
    "                train_acc += acc\n",
    "                pbar.update(100)\n",
    "    except tf.errors.OutOfRangeError:\n",
    "        pass\n",
    "    \n",
    "    sess.run(val_iterator)\n",
    "    try:\n",
    "        while True:\n",
    "            loss, acc = sess.run([model.loss, model.accuracy], feed_dict={handle: train_val_string})\n",
    "            val_loss += loss\n",
    "            val_acc += acc\n",
    "    except tf.errors.OutOfRangeError:\n",
    "        pass\n",
    "    \n",
    "    print(\"\\nEpoch: {}\".format(epoch + 1))\n",
    "    print(\"Training accuracy: {:.4f}, loss: {:.4f}\".format(train_acc / 48000, train_loss / 48000))\n",
    "    print(\"Val accuracy: {:.4f}, loss: {:.4f}\\n\".format(val_acc / 12000, val_loss / 12000))"
   ]
  },
  {
   "cell_type": "code",
   "execution_count": 28,
   "metadata": {},
   "outputs": [
    {
     "data": {
      "text/plain": [
       "array([ True,  True,  True,  True,  True,  True,  True,  True,  True,\n",
       "        True,  True,  True,  True,  True,  True,  True,  True,  True,\n",
       "        True,  True,  True,  True,  True,  True,  True,  True,  True,\n",
       "        True,  True,  True,  True,  True,  True,  True,  True,  True,\n",
       "        True,  True,  True,  True,  True,  True,  True,  True,  True,\n",
       "        True,  True,  True,  True,  True,  True,  True,  True,  True,\n",
       "        True, False,  True,  True,  True,  True,  True,  True,  True,\n",
       "        True,  True,  True,  True,  True,  True,  True,  True,  True,\n",
       "        True,  True,  True,  True,  True,  True,  True,  True,  True,\n",
       "        True,  True,  True,  True,  True,  True,  True,  True,  True,\n",
       "        True,  True,  True,  True,  True,  True,  True,  True,  True,\n",
       "        True])"
      ]
     },
     "execution_count": 28,
     "metadata": {},
     "output_type": "execute_result"
    }
   ],
   "source": [
    "sess.run(val_iterator)\n",
    "sess.run(model.predictions, feed_dict={handle: train_val_string}) == sess.run(val_ds.make_one_shot_iterator().get_next()[1])"
   ]
  },
  {
   "cell_type": "code",
   "execution_count": null,
   "metadata": {},
   "outputs": [],
   "source": []
  },
  {
   "cell_type": "code",
   "execution_count": null,
   "metadata": {},
   "outputs": [],
   "source": []
  }
 ],
 "metadata": {
  "kernelspec": {
   "display_name": "Python 3",
   "language": "python",
   "name": "python3"
  },
  "language_info": {
   "codemirror_mode": {
    "name": "ipython",
    "version": 3
   },
   "file_extension": ".py",
   "mimetype": "text/x-python",
   "name": "python",
   "nbconvert_exporter": "python",
   "pygments_lexer": "ipython3",
   "version": "3.5.2"
  }
 },
 "nbformat": 4,
 "nbformat_minor": 2
}
