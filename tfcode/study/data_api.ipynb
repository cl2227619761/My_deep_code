{
 "cells": [
  {
   "cell_type": "markdown",
   "metadata": {},
   "source": [
    "## 在TensorFlow中使用Dataset和Iterator的教程"
   ]
  },
  {
   "cell_type": "code",
   "execution_count": 1,
   "metadata": {},
   "outputs": [],
   "source": [
    "import tensorflow as tf\n",
    "import numpy as np"
   ]
  },
  {
   "cell_type": "markdown",
   "metadata": {},
   "source": [
    "### Dataset的创建\n",
    "可以从numpy数组，TFRecords，TXT file，CSV file进行创建，最常见的是通过numpy或者tensor创建"
   ]
  },
  {
   "cell_type": "markdown",
   "metadata": {},
   "source": [
    "#### from_tensor_slices\n",
    "这种方法可以接受一个或者多个numpy或者tensor对象，注意传进多个对象时，数组的第零个维度应该一致"
   ]
  },
  {
   "cell_type": "code",
   "execution_count": 2,
   "metadata": {},
   "outputs": [],
   "source": [
    "dataset1 = tf.data.Dataset.from_tensor_slices(tf.range(10, 15))\n",
    "# 向外弹出数据的时候，一次弹出一个元素，即10，11，12， 13， 14"
   ]
  },
  {
   "cell_type": "code",
   "execution_count": 4,
   "metadata": {},
   "outputs": [],
   "source": [
    "dataset2 = tf.data.Dataset.from_tensor_slices((tf.range(30, 45, 3), np.arange(60, 70, 2)))\n",
    "# 向外弹出数据的时候，一次弹出一个元组，即(30, 60), (33, 62), (36, 64), (39, 66), (42, 68)"
   ]
  },
  {
   "cell_type": "code",
   "execution_count": 5,
   "metadata": {},
   "outputs": [
    {
     "data": {
      "text/plain": [
       "array([60, 62, 64, 66, 68])"
      ]
     },
     "execution_count": 5,
     "metadata": {},
     "output_type": "execute_result"
    }
   ],
   "source": [
    "np.arange(60, 70, 2)"
   ]
  },
  {
   "cell_type": "code",
   "execution_count": 11,
   "metadata": {},
   "outputs": [
    {
     "name": "stdout",
     "output_type": "stream",
     "text": [
      "5\n",
      "5\n"
     ]
    }
   ],
   "source": [
    "print(np.arange(60, 70, 2).shape[0])\n",
    "print(tf.range(30, 45, 3).shape[0])\n",
    "# 传进多个数组的时候，每个数组的第零个维度是一致的，其实第零个维度就是样本量维度，当然要一致"
   ]
  },
  {
   "cell_type": "code",
   "execution_count": 7,
   "metadata": {},
   "outputs": [
    {
     "name": "stdout",
     "output_type": "stream",
     "text": [
      "(TensorShape([]), TensorShape([]))\n",
      "(tf.int32, tf.int64)\n"
     ]
    }
   ],
   "source": [
    "print(dataset2.output_shapes)\n",
    "# dataset.output_shapes打印的shape是省略第零个维度的\n",
    "print(dataset2.output_types)"
   ]
  },
  {
   "cell_type": "code",
   "execution_count": 13,
   "metadata": {},
   "outputs": [
    {
     "ename": "ValueError",
     "evalue": "Dimensions 10 and 5 are not compatible",
     "output_type": "error",
     "traceback": [
      "\u001b[0;31m---------------------------------------------------------------------------\u001b[0m",
      "\u001b[0;31mValueError\u001b[0m                                Traceback (most recent call last)",
      "\u001b[0;32m<ipython-input-13-126e43f065cc>\u001b[0m in \u001b[0;36m<module>\u001b[0;34m\u001b[0m\n\u001b[1;32m      1\u001b[0m \u001b[0;31m# 第零个维度不一致的时候会出错\u001b[0m\u001b[0;34m\u001b[0m\u001b[0;34m\u001b[0m\u001b[0m\n\u001b[0;32m----> 2\u001b[0;31m \u001b[0mdataset3\u001b[0m \u001b[0;34m=\u001b[0m \u001b[0mtf\u001b[0m\u001b[0;34m.\u001b[0m\u001b[0mdata\u001b[0m\u001b[0;34m.\u001b[0m\u001b[0mDataset\u001b[0m\u001b[0;34m.\u001b[0m\u001b[0mfrom_tensor_slices\u001b[0m\u001b[0;34m(\u001b[0m\u001b[0;34m(\u001b[0m\u001b[0mtf\u001b[0m\u001b[0;34m.\u001b[0m\u001b[0mrange\u001b[0m\u001b[0;34m(\u001b[0m\u001b[0;36m10\u001b[0m\u001b[0;34m)\u001b[0m\u001b[0;34m,\u001b[0m \u001b[0mnp\u001b[0m\u001b[0;34m.\u001b[0m\u001b[0marange\u001b[0m\u001b[0;34m(\u001b[0m\u001b[0;36m5\u001b[0m\u001b[0;34m)\u001b[0m\u001b[0;34m)\u001b[0m\u001b[0;34m)\u001b[0m\u001b[0;34m\u001b[0m\u001b[0m\n\u001b[0m",
      "\u001b[0;32m~/.local/lib/python3.5/site-packages/tensorflow/python/data/ops/dataset_ops.py\u001b[0m in \u001b[0;36mfrom_tensor_slices\u001b[0;34m(tensors)\u001b[0m\n\u001b[1;32m    287\u001b[0m       \u001b[0mDataset\u001b[0m\u001b[0;34m:\u001b[0m \u001b[0mA\u001b[0m\u001b[0;31m \u001b[0m\u001b[0;31m`\u001b[0m\u001b[0mDataset\u001b[0m\u001b[0;31m`\u001b[0m\u001b[0;34m.\u001b[0m\u001b[0;34m\u001b[0m\u001b[0m\n\u001b[1;32m    288\u001b[0m     \"\"\"\n\u001b[0;32m--> 289\u001b[0;31m     \u001b[0;32mreturn\u001b[0m \u001b[0mTensorSliceDataset\u001b[0m\u001b[0;34m(\u001b[0m\u001b[0mtensors\u001b[0m\u001b[0;34m)\u001b[0m\u001b[0;34m\u001b[0m\u001b[0m\n\u001b[0m\u001b[1;32m    290\u001b[0m \u001b[0;34m\u001b[0m\u001b[0m\n\u001b[1;32m    291\u001b[0m   \u001b[0;34m@\u001b[0m\u001b[0mstaticmethod\u001b[0m\u001b[0;34m\u001b[0m\u001b[0m\n",
      "\u001b[0;32m~/.local/lib/python3.5/site-packages/tensorflow/python/data/ops/dataset_ops.py\u001b[0m in \u001b[0;36m__init__\u001b[0;34m(self, tensors)\u001b[0m\n\u001b[1;32m   1569\u001b[0m     \u001b[0mbatch_dim\u001b[0m \u001b[0;34m=\u001b[0m \u001b[0mflat_tensors\u001b[0m\u001b[0;34m[\u001b[0m\u001b[0;36m0\u001b[0m\u001b[0;34m]\u001b[0m\u001b[0;34m.\u001b[0m\u001b[0mget_shape\u001b[0m\u001b[0;34m(\u001b[0m\u001b[0;34m)\u001b[0m\u001b[0;34m[\u001b[0m\u001b[0;36m0\u001b[0m\u001b[0;34m]\u001b[0m\u001b[0;34m\u001b[0m\u001b[0m\n\u001b[1;32m   1570\u001b[0m     \u001b[0;32mfor\u001b[0m \u001b[0mt\u001b[0m \u001b[0;32min\u001b[0m \u001b[0mflat_tensors\u001b[0m\u001b[0;34m[\u001b[0m\u001b[0;36m1\u001b[0m\u001b[0;34m:\u001b[0m\u001b[0;34m]\u001b[0m\u001b[0;34m:\u001b[0m\u001b[0;34m\u001b[0m\u001b[0m\n\u001b[0;32m-> 1571\u001b[0;31m       \u001b[0mbatch_dim\u001b[0m\u001b[0;34m.\u001b[0m\u001b[0massert_is_compatible_with\u001b[0m\u001b[0;34m(\u001b[0m\u001b[0mt\u001b[0m\u001b[0;34m.\u001b[0m\u001b[0mget_shape\u001b[0m\u001b[0;34m(\u001b[0m\u001b[0;34m)\u001b[0m\u001b[0;34m[\u001b[0m\u001b[0;36m0\u001b[0m\u001b[0;34m]\u001b[0m\u001b[0;34m)\u001b[0m\u001b[0;34m\u001b[0m\u001b[0m\n\u001b[0m\u001b[1;32m   1572\u001b[0m     \u001b[0mself\u001b[0m\u001b[0;34m.\u001b[0m\u001b[0m_tensors\u001b[0m \u001b[0;34m=\u001b[0m \u001b[0msparse\u001b[0m\u001b[0;34m.\u001b[0m\u001b[0mserialize_many_sparse_tensors\u001b[0m\u001b[0;34m(\u001b[0m\u001b[0mtensors\u001b[0m\u001b[0;34m)\u001b[0m\u001b[0;34m\u001b[0m\u001b[0m\n\u001b[1;32m   1573\u001b[0m     \u001b[0mself\u001b[0m\u001b[0;34m.\u001b[0m\u001b[0m_output_classes\u001b[0m \u001b[0;34m=\u001b[0m \u001b[0msparse\u001b[0m\u001b[0;34m.\u001b[0m\u001b[0mget_classes\u001b[0m\u001b[0;34m(\u001b[0m\u001b[0mtensors\u001b[0m\u001b[0;34m)\u001b[0m\u001b[0;34m\u001b[0m\u001b[0m\n",
      "\u001b[0;32m~/.local/lib/python3.5/site-packages/tensorflow/python/framework/tensor_shape.py\u001b[0m in \u001b[0;36massert_is_compatible_with\u001b[0;34m(self, other)\u001b[0m\n\u001b[1;32m    114\u001b[0m     \u001b[0;32mif\u001b[0m \u001b[0;32mnot\u001b[0m \u001b[0mself\u001b[0m\u001b[0;34m.\u001b[0m\u001b[0mis_compatible_with\u001b[0m\u001b[0;34m(\u001b[0m\u001b[0mother\u001b[0m\u001b[0;34m)\u001b[0m\u001b[0;34m:\u001b[0m\u001b[0;34m\u001b[0m\u001b[0m\n\u001b[1;32m    115\u001b[0m       raise ValueError(\"Dimensions %s and %s are not compatible\" % (self,\n\u001b[0;32m--> 116\u001b[0;31m                                                                     other))\n\u001b[0m\u001b[1;32m    117\u001b[0m \u001b[0;34m\u001b[0m\u001b[0m\n\u001b[1;32m    118\u001b[0m   \u001b[0;32mdef\u001b[0m \u001b[0mmerge_with\u001b[0m\u001b[0;34m(\u001b[0m\u001b[0mself\u001b[0m\u001b[0;34m,\u001b[0m \u001b[0mother\u001b[0m\u001b[0;34m)\u001b[0m\u001b[0;34m:\u001b[0m\u001b[0;34m\u001b[0m\u001b[0m\n",
      "\u001b[0;31mValueError\u001b[0m: Dimensions 10 and 5 are not compatible"
     ]
    }
   ],
   "source": [
    "# 第零个维度不一致的时候会出错\n",
    "dataset3 = tf.data.Dataset.from_tensor_slices((tf.range(10), np.arange(5)))"
   ]
  },
  {
   "cell_type": "markdown",
   "metadata": {},
   "source": [
    "#### from_tensors\n",
    "这个方法也可以接受一个或者多个数组，但是和from_tensor_slices的不同是：不支持batch，一次会弹出所有的元素；多个数组的第零个维度可以不一致。适合小数据集或者一次使用全部数据的模型"
   ]
  },
  {
   "cell_type": "code",
   "execution_count": 14,
   "metadata": {},
   "outputs": [
    {
     "name": "stdout",
     "output_type": "stream",
     "text": [
      "[10 11 12 13 14]\n"
     ]
    }
   ],
   "source": [
    "dataset1 = tf.data.Dataset.from_tensors(tf.range(10, 15))\n",
    "# 一次弹出所有数据，形如[10, 11, 12, 13, 14]\n",
    "iterator1 = dataset1.make_one_shot_iterator()\n",
    "next_element = iterator1.get_next()\n",
    "with tf.Session() as sess:\n",
    "    print(sess.run(next_element))"
   ]
  },
  {
   "cell_type": "code",
   "execution_count": 15,
   "metadata": {},
   "outputs": [
    {
     "name": "stdout",
     "output_type": "stream",
     "text": [
      "(array([30, 33, 36, 39, 42], dtype=int32), array([60, 62, 64, 66, 68]))\n"
     ]
    }
   ],
   "source": [
    "dataset2 = tf.data.Dataset.from_tensors((tf.range(30, 45, 3), np.arange(60, 70, 2)))\n",
    "# 一次弹出全部元素，形如([30, 33, 36, 39, 42], [60, 62, 64, 66, 68])\n",
    "iterator2 = dataset2.make_one_shot_iterator()\n",
    "next_element = iterator2.get_next()\n",
    "with tf.Session() as sess:\n",
    "    print(sess.run(next_element))"
   ]
  },
  {
   "cell_type": "code",
   "execution_count": 16,
   "metadata": {},
   "outputs": [
    {
     "name": "stdout",
     "output_type": "stream",
     "text": [
      "(array([0, 1, 2, 3, 4, 5, 6, 7, 8, 9], dtype=int32), array([0, 1, 2, 3, 4]))\n"
     ]
    }
   ],
   "source": [
    "dataset3 = tf.data.Dataset.from_tensors((tf.range(10), np.arange(5)))\n",
    "# from_tensors支持第零维度不一致\n",
    "iterator3 = dataset3.make_one_shot_iterator()\n",
    "next_element = iterator3.get_next()\n",
    "with tf.Session() as sess:\n",
    "    print(sess.run(next_element))"
   ]
  },
  {
   "cell_type": "markdown",
   "metadata": {},
   "source": [
    "#### from_generator\n",
    "这种方法接受的是生成器函数"
   ]
  },
  {
   "cell_type": "code",
   "execution_count": 2,
   "metadata": {},
   "outputs": [],
   "source": [
    "def generator(sequence_type):\n",
    "    if sequence_type == 1:\n",
    "        for i in range(5):\n",
    "            yield 10 + i\n",
    "    elif sequence_type == 2:\n",
    "        for i in range(5):\n",
    "            yield (30 + 3 * i, 60 + 2 * i)\n",
    "    elif sequence_type == 3:\n",
    "        for i in range(1, 4):\n",
    "            yield (i, [\"Hi\"] * i)"
   ]
  },
  {
   "cell_type": "code",
   "execution_count": 18,
   "metadata": {},
   "outputs": [
    {
     "name": "stdout",
     "output_type": "stream",
     "text": [
      "<unknown>\n",
      "<dtype: 'int32'>\n"
     ]
    }
   ],
   "source": [
    "dataset1 = tf.data.Dataset.from_generator(generator, (tf.int32), args=([1]))\n",
    "print(dataset1.output_shapes)\n",
    "print(dataset1.output_types)"
   ]
  },
  {
   "cell_type": "code",
   "execution_count": 22,
   "metadata": {},
   "outputs": [
    {
     "name": "stdout",
     "output_type": "stream",
     "text": [
      "10\n",
      "11\n",
      "12\n",
      "13\n",
      "14\n"
     ]
    }
   ],
   "source": [
    "iterator1 = dataset1.make_initializable_iterator()\n",
    "next_element = iterator1.get_next()\n",
    "with tf.Session() as sess:\n",
    "    sess.run(iterator1.initializer)\n",
    "    while True:\n",
    "        try:\n",
    "            print(sess.run(next_element))\n",
    "        except tf.errors.OutOfRangeError:\n",
    "            break"
   ]
  },
  {
   "cell_type": "code",
   "execution_count": 3,
   "metadata": {},
   "outputs": [
    {
     "name": "stdout",
     "output_type": "stream",
     "text": [
      "(tf.int32, tf.int32)\n",
      "(TensorShape(None), TensorShape(None))\n"
     ]
    }
   ],
   "source": [
    "dataset2 = tf.data.Dataset.from_generator(generator, (tf.int32, tf.int32), args=([2]))\n",
    "print(dataset2.output_types)\n",
    "print(dataset2.output_shapes)"
   ]
  },
  {
   "cell_type": "code",
   "execution_count": 5,
   "metadata": {},
   "outputs": [
    {
     "name": "stdout",
     "output_type": "stream",
     "text": [
      "(30, 60)\n",
      "(33, 62)\n",
      "(36, 64)\n",
      "(39, 66)\n",
      "(42, 68)\n"
     ]
    }
   ],
   "source": [
    "iterator2 = dataset2.make_one_shot_iterator()\n",
    "next_element = iterator2.get_next()\n",
    "with tf.Session() as sess:\n",
    "    while True:\n",
    "        try:\n",
    "            print(sess.run(next_element))\n",
    "        except tf.errors.OutOfRangeError:\n",
    "            break"
   ]
  },
  {
   "cell_type": "code",
   "execution_count": 6,
   "metadata": {},
   "outputs": [
    {
     "name": "stdout",
     "output_type": "stream",
     "text": [
      "(TensorShape(None), TensorShape(None))\n",
      "(tf.int32, tf.string)\n"
     ]
    }
   ],
   "source": [
    "dataset3 = tf.data.Dataset.from_generator(generator, (tf.int32, tf.string), args=([3]))\n",
    "print(dataset3.output_shapes)\n",
    "print(dataset3.output_types)"
   ]
  },
  {
   "cell_type": "code",
   "execution_count": 7,
   "metadata": {},
   "outputs": [
    {
     "name": "stdout",
     "output_type": "stream",
     "text": [
      "(1, array([b'Hi'], dtype=object))\n",
      "(2, array([b'Hi', b'Hi'], dtype=object))\n",
      "(3, array([b'Hi', b'Hi', b'Hi'], dtype=object))\n"
     ]
    }
   ],
   "source": [
    "iterator3 = dataset3.make_one_shot_iterator()\n",
    "next_element = iterator3.get_next()\n",
    "with tf.Session() as sess:\n",
    "    while True:\n",
    "        try:\n",
    "            print(sess.run(next_element))\n",
    "        except tf.errors.OutOfRangeError:\n",
    "            break"
   ]
  },
  {
   "cell_type": "markdown",
   "metadata": {},
   "source": [
    "### Dataset的变换操作"
   ]
  },
  {
   "cell_type": "markdown",
   "metadata": {},
   "source": [
    "#### Batch\n",
    "batch操作会将dataset中的元素顺序的进行划分批次的操作\n",
    "\n",
    "![batch](./batch.jpeg)"
   ]
  },
  {
   "cell_type": "markdown",
   "metadata": {},
   "source": [
    "#### Repeat\n",
    "repeat操作会对dataset中的元素进行复制操作\n",
    "\n",
    "![repeat](./repeat.jpeg)"
   ]
  },
  {
   "cell_type": "markdown",
   "metadata": {},
   "source": [
    "#### Shuffle"
   ]
  },
  {
   "cell_type": "markdown",
   "metadata": {},
   "source": [
    "![shuffle](./shuffle.jpeg)"
   ]
  },
  {
   "cell_type": "markdown",
   "metadata": {},
   "source": [
    "shuffle的buffer_size参数是一次加载进缓存器多少个元素的意思，弹出一个补一个；抽样是从缓存器往外抽"
   ]
  },
  {
   "cell_type": "markdown",
   "metadata": {},
   "source": [
    "![shuffle1](./shuffle1.jpg)\n",
    "\n",
    "![shuffle2](./shuffle2.jpg)\n",
    "\n",
    "![shuffle3](./shuffle3.jpg)"
   ]
  },
  {
   "cell_type": "code",
   "execution_count": 8,
   "metadata": {},
   "outputs": [],
   "source": [
    "# 例子1\n",
    "filenames = [\"filename_01.jpg\", \"filename_02.jpg\", \"filename_03.jpg\", \"filename_04.jpg\", \"filename_05.jpg\",\n",
    "            \"filename_11.jpg\", \"filename_12.jpg\", \"filename_13.jpg\", \"filename_14.jpg\", \"filename_15.jpg\"]\n",
    "labels = [0, 0, 0, 0, 0, 1, 1, 1, 1, 1]"
   ]
  },
  {
   "cell_type": "code",
   "execution_count": 11,
   "metadata": {},
   "outputs": [
    {
     "name": "stdout",
     "output_type": "stream",
     "text": [
      "(b'filename_02.jpg', 0)\n",
      "(b'filename_04.jpg', 0)\n",
      "(b'filename_03.jpg', 0)\n",
      "(b'filename_12.jpg', 1)\n",
      "(b'filename_01.jpg', 0)\n",
      "(b'filename_14.jpg', 1)\n",
      "(b'filename_05.jpg', 0)\n",
      "(b'filename_15.jpg', 1)\n",
      "(b'filename_13.jpg', 1)\n",
      "(b'filename_11.jpg', 1)\n"
     ]
    }
   ],
   "source": [
    "dataset = tf.data.Dataset.from_tensor_slices((filenames, labels))\n",
    "dataset = dataset.shuffle(buffer_size=5)\n",
    "iterator = dataset.make_one_shot_iterator()\n",
    "next_element = iterator.get_next()\n",
    "\n",
    "with tf.Session() as sess:\n",
    "    for i in range(10):\n",
    "        print(sess.run(next_element))"
   ]
  },
  {
   "cell_type": "markdown",
   "metadata": {},
   "source": [
    "原理\n",
    "\n",
    "[01, 02, 03, 04, 05] --> 02\n",
    "\n",
    "[01, 11, 03, 04, 05] --> 04\n",
    "\n",
    "[01, 11, 03, 12, 05] --> 03\n",
    "\n",
    "[01, 11, 13, 12, 05] --> 12\n",
    "\n",
    "[01, 11, 13, 14, 05] --> 01\n",
    "\n",
    "[15, 11, 13, 14, 05] --> 14\n",
    "\n",
    "[15, 11, 13, 05] --> 05\n",
    "\n",
    "[15, 11, 13] --> 15\n",
    "\n",
    "[11, 13] --> 13\n",
    "\n",
    "[11] --> 11"
   ]
  },
  {
   "cell_type": "code",
   "execution_count": 23,
   "metadata": {},
   "outputs": [
    {
     "name": "stdout",
     "output_type": "stream",
     "text": [
      "[0 0 0 0 0 0 0 0 0 0 0 0 0 0 0 0 0 0 0 0 0 0 0 0 0 0 0 0 0 0 0 0 0 0 0 0 0\n",
      " 0 0 0 0 0 0 0 0 0 0 0 0 0 0 0 0 0 0 0 0 0 0 0 0 0 0 0 0 0 0 0 0 0 0 0 0 0\n",
      " 0 0 0 0 0 0 0 0 0 0 0 0 0 0 0 0 0 0 0 0 0 0 0 0 0 0 1 1 1 1 1 1 1 1 1 1 1\n",
      " 1 1 1 1 1 1 1 1 1 1 1 1 1 1 1 1 1 1 1 1 1 1 1 1 1 1 1 1 1 1 1 1 1 1 1 1 1\n",
      " 1 1 1 1 1 1 1 1 1 1 1 1 1 1 1 1 1 1 1 1 1 1 1 1 1 1 1 1 1 1 1 1 1 1 1 1 1\n",
      " 1 1 1 1 1 1 1 1 1 1 1 1 1 1 1]\n",
      "(200,)\n"
     ]
    }
   ],
   "source": [
    "# 例子2\n",
    "cat = np.repeat(0, repeats=100)\n",
    "dog = np.repeat(1, repeats=100)\n",
    "labels = np.concatenate([cat, dog])\n",
    "print(labels)\n",
    "print(labels.shape)"
   ]
  },
  {
   "cell_type": "code",
   "execution_count": 29,
   "metadata": {},
   "outputs": [],
   "source": [
    "dataset = tf.data.Dataset.from_tensor_slices(labels)\n",
    "dataset = dataset.shuffle(buffer_size=200)"
   ]
  },
  {
   "cell_type": "code",
   "execution_count": 30,
   "metadata": {},
   "outputs": [
    {
     "name": "stdout",
     "output_type": "stream",
     "text": [
      "1\n",
      "1\n",
      "0\n",
      "0\n",
      "1\n",
      "1\n",
      "0\n",
      "0\n",
      "0\n",
      "1\n",
      "0\n",
      "1\n",
      "0\n",
      "0\n",
      "0\n",
      "1\n",
      "0\n",
      "1\n",
      "1\n",
      "0\n",
      "0\n",
      "1\n",
      "0\n",
      "1\n",
      "1\n",
      "1\n",
      "0\n",
      "1\n",
      "0\n",
      "1\n",
      "0\n",
      "1\n",
      "0\n",
      "1\n",
      "1\n",
      "1\n",
      "0\n",
      "1\n",
      "1\n",
      "1\n",
      "1\n",
      "0\n",
      "0\n",
      "0\n",
      "1\n",
      "1\n",
      "0\n",
      "0\n",
      "0\n",
      "1\n",
      "0\n",
      "1\n",
      "1\n",
      "0\n",
      "1\n",
      "0\n",
      "0\n",
      "0\n",
      "1\n",
      "1\n",
      "0\n",
      "1\n",
      "1\n",
      "0\n",
      "0\n",
      "1\n",
      "0\n",
      "0\n",
      "1\n",
      "0\n",
      "0\n",
      "1\n",
      "1\n",
      "0\n",
      "0\n",
      "0\n",
      "1\n",
      "1\n",
      "0\n",
      "1\n",
      "0\n",
      "0\n",
      "0\n",
      "1\n",
      "1\n",
      "0\n",
      "1\n",
      "1\n",
      "0\n",
      "1\n",
      "1\n",
      "1\n",
      "0\n",
      "0\n",
      "1\n",
      "1\n",
      "0\n",
      "0\n",
      "0\n",
      "1\n",
      "0\n",
      "0\n",
      "1\n",
      "0\n",
      "0\n",
      "0\n",
      "1\n",
      "1\n",
      "1\n",
      "1\n",
      "0\n",
      "1\n",
      "0\n",
      "1\n",
      "1\n",
      "0\n",
      "1\n",
      "0\n",
      "0\n",
      "0\n",
      "1\n",
      "0\n",
      "1\n",
      "0\n",
      "1\n",
      "0\n",
      "1\n",
      "1\n",
      "0\n",
      "1\n",
      "1\n",
      "0\n",
      "0\n",
      "0\n",
      "1\n",
      "0\n",
      "0\n",
      "1\n",
      "0\n",
      "1\n",
      "1\n",
      "1\n",
      "0\n",
      "0\n",
      "1\n",
      "0\n",
      "0\n",
      "1\n",
      "1\n",
      "0\n",
      "0\n",
      "0\n",
      "1\n",
      "0\n",
      "1\n",
      "1\n",
      "1\n",
      "0\n",
      "1\n",
      "0\n",
      "0\n",
      "0\n",
      "0\n",
      "0\n",
      "1\n",
      "1\n",
      "1\n",
      "1\n",
      "0\n",
      "1\n",
      "1\n",
      "1\n",
      "0\n",
      "0\n",
      "1\n",
      "0\n",
      "0\n",
      "0\n",
      "0\n",
      "0\n",
      "0\n",
      "1\n",
      "1\n",
      "1\n",
      "1\n",
      "0\n",
      "0\n",
      "1\n",
      "0\n",
      "0\n",
      "0\n",
      "1\n",
      "1\n",
      "1\n",
      "1\n",
      "1\n",
      "1\n",
      "0\n",
      "1\n",
      "1\n"
     ]
    }
   ],
   "source": [
    "iterator = dataset.make_one_shot_iterator()\n",
    "next_element = iterator.get_next()\n",
    "\n",
    "with tf.Session() as sess:\n",
    "    for _ in range(200):\n",
    "        print(sess.run(next_element))"
   ]
  },
  {
   "cell_type": "code",
   "execution_count": 31,
   "metadata": {},
   "outputs": [
    {
     "name": "stdout",
     "output_type": "stream",
     "text": [
      "(b'filename_12.jpg', 1)\n",
      "(b'filename_04.jpg', 0)\n",
      "(b'filename_03.jpg', 0)\n",
      "(b'filename_11.jpg', 1)\n",
      "(b'filename_05.jpg', 0)\n",
      "(b'filename_14.jpg', 1)\n",
      "(b'filename_01.jpg', 0)\n",
      "(b'filename_13.jpg', 1)\n",
      "(b'filename_15.jpg', 1)\n",
      "(b'filename_02.jpg', 0)\n"
     ]
    }
   ],
   "source": [
    "# 例子3：最好设置buffer_size=len(files)\n",
    "filenames = [\"filename_01.jpg\", \"filename_02.jpg\", \"filename_03.jpg\", \"filename_04.jpg\", \"filename_05.jpg\",\n",
    "            \"filename_11.jpg\", \"filename_12.jpg\", \"filename_13.jpg\", \"filename_14.jpg\", \"filename_15.jpg\"]\n",
    "labels = [0, 0, 0, 0, 0, 1, 1, 1, 1, 1]\n",
    "\n",
    "dataset = tf.data.Dataset.from_tensor_slices((filenames, labels))\n",
    "dataset = dataset.shuffle(buffer_size=10)\n",
    "\n",
    "iterator = dataset.make_one_shot_iterator()\n",
    "next_element = iterator.get_next()\n",
    "\n",
    "with tf.Session() as sess:\n",
    "    for i in range(10):\n",
    "        print(sess.run(next_element))"
   ]
  },
  {
   "cell_type": "code",
   "execution_count": 113,
   "metadata": {},
   "outputs": [
    {
     "name": "stdout",
     "output_type": "stream",
     "text": [
      "['cat' 'cat' 'cat' 'cat' 'cat' 'cat' 'cat' 'cat' 'cat' 'cat' 'cat' 'cat'\n",
      " 'cat' 'cat' 'cat' 'cat' 'cat' 'cat' 'cat' 'cat' 'cat' 'cat' 'cat' 'cat'\n",
      " 'cat' 'cat' 'cat' 'cat' 'cat' 'cat' 'cat' 'cat' 'cat' 'cat' 'cat' 'cat'\n",
      " 'cat' 'cat' 'cat' 'cat' 'cat' 'cat' 'cat' 'cat' 'cat' 'cat' 'cat' 'cat'\n",
      " 'cat' 'cat' 'cat' 'cat' 'cat' 'cat' 'cat' 'cat' 'cat' 'cat' 'cat' 'cat'\n",
      " 'cat' 'cat' 'cat' 'cat' 'cat' 'cat' 'cat' 'cat' 'cat' 'cat' 'cat' 'cat'\n",
      " 'cat' 'cat' 'cat' 'cat' 'cat' 'cat' 'cat' 'cat' 'cat' 'cat' 'cat' 'cat'\n",
      " 'cat' 'cat' 'cat' 'cat' 'cat' 'cat' 'cat' 'cat' 'cat' 'cat' 'cat' 'cat'\n",
      " 'cat' 'cat' 'cat' 'cat' 'dog' 'dog' 'dog' 'dog' 'dog' 'dog' 'dog' 'dog'\n",
      " 'dog' 'dog' 'dog' 'dog' 'dog' 'dog' 'dog' 'dog' 'dog' 'dog' 'dog' 'dog'\n",
      " 'dog' 'dog' 'dog' 'dog' 'dog' 'dog' 'dog' 'dog' 'dog' 'dog' 'dog' 'dog'\n",
      " 'dog' 'dog' 'dog' 'dog' 'dog' 'dog' 'dog' 'dog' 'dog' 'dog' 'dog' 'dog'\n",
      " 'dog' 'dog' 'dog' 'dog' 'dog' 'dog' 'dog' 'dog' 'dog' 'dog' 'dog' 'dog'\n",
      " 'dog' 'dog' 'dog' 'dog' 'dog' 'dog' 'dog' 'dog' 'dog' 'dog' 'dog' 'dog'\n",
      " 'dog' 'dog' 'dog' 'dog' 'dog' 'dog' 'dog' 'dog' 'dog' 'dog' 'dog' 'dog'\n",
      " 'dog' 'dog' 'dog' 'dog' 'dog' 'dog' 'dog' 'dog' 'dog' 'dog' 'dog' 'dog'\n",
      " 'dog' 'dog' 'dog' 'dog' 'dog' 'dog' 'dog' 'dog']\n",
      "(200,)\n"
     ]
    }
   ],
   "source": [
    "# 例子4：结合batch进行抽取，观看buffer_size的大小变化产生的影响\n",
    "cats = np.repeat(\"cat\", repeats=100)\n",
    "dogs = np.repeat(\"dog\", repeats=100)\n",
    "labels = np.concatenate([cats, dogs])\n",
    "print(labels)\n",
    "print(labels.shape)"
   ]
  },
  {
   "cell_type": "code",
   "execution_count": 34,
   "metadata": {},
   "outputs": [],
   "source": [
    "dataset = tf.data.Dataset.from_tensor_slices(labels)\n",
    "dataset = dataset.shuffle(buffer_size=10)\n",
    "dataset = dataset.batch(20)\n",
    "\n",
    "iterator = dataset.make_one_shot_iterator()\n",
    "next_element = iterator.get_next()"
   ]
  },
  {
   "cell_type": "code",
   "execution_count": 35,
   "metadata": {},
   "outputs": [
    {
     "name": "stdout",
     "output_type": "stream",
     "text": [
      "[b'cat' b'cat' b'cat' b'cat' b'cat' b'cat' b'cat' b'cat' b'cat' b'cat'\n",
      " b'cat' b'cat' b'cat' b'cat' b'cat' b'cat' b'cat' b'cat' b'cat' b'cat']\n",
      "[b'cat' b'cat' b'cat' b'cat' b'cat' b'cat' b'cat' b'cat' b'cat' b'cat'\n",
      " b'cat' b'cat' b'cat' b'cat' b'cat' b'cat' b'cat' b'cat' b'cat' b'cat']\n",
      "[b'cat' b'cat' b'cat' b'cat' b'cat' b'cat' b'cat' b'cat' b'cat' b'cat'\n",
      " b'cat' b'cat' b'cat' b'cat' b'cat' b'cat' b'cat' b'cat' b'cat' b'cat']\n",
      "[b'cat' b'cat' b'cat' b'cat' b'cat' b'cat' b'cat' b'cat' b'cat' b'cat'\n",
      " b'cat' b'cat' b'cat' b'cat' b'cat' b'cat' b'cat' b'cat' b'cat' b'cat']\n",
      "[b'cat' b'cat' b'cat' b'cat' b'cat' b'cat' b'cat' b'cat' b'cat' b'cat'\n",
      " b'cat' b'cat' b'cat' b'dog' b'cat' b'cat' b'cat' b'dog' b'cat' b'cat']\n",
      "[b'cat' b'dog' b'dog' b'dog' b'dog' b'dog' b'dog' b'dog' b'dog' b'dog'\n",
      " b'dog' b'dog' b'dog' b'dog' b'dog' b'dog' b'dog' b'dog' b'cat' b'dog']\n",
      "[b'dog' b'dog' b'dog' b'dog' b'dog' b'dog' b'dog' b'dog' b'dog' b'dog'\n",
      " b'dog' b'dog' b'dog' b'dog' b'dog' b'dog' b'dog' b'dog' b'dog' b'dog']\n",
      "[b'dog' b'dog' b'dog' b'dog' b'dog' b'dog' b'dog' b'dog' b'dog' b'dog'\n",
      " b'dog' b'dog' b'dog' b'dog' b'dog' b'dog' b'dog' b'dog' b'dog' b'dog']\n",
      "[b'dog' b'dog' b'dog' b'dog' b'dog' b'dog' b'dog' b'dog' b'dog' b'dog'\n",
      " b'dog' b'dog' b'dog' b'dog' b'dog' b'dog' b'dog' b'dog' b'dog' b'dog']\n",
      "[b'dog' b'dog' b'dog' b'dog' b'dog' b'dog' b'dog' b'dog' b'dog' b'dog'\n",
      " b'dog' b'dog' b'dog' b'dog' b'dog' b'dog' b'dog' b'dog' b'dog' b'dog']\n"
     ]
    }
   ],
   "source": [
    "with tf.Session() as sess:\n",
    "    while True:\n",
    "        try:\n",
    "            print(sess.run(next_element))\n",
    "        except tf.errors.OutOfRangeError:\n",
    "            break"
   ]
  },
  {
   "cell_type": "markdown",
   "metadata": {},
   "source": [
    "通过上面的结果可以看出来，当buffer_size很小的时候，显然不合适"
   ]
  },
  {
   "cell_type": "code",
   "execution_count": 158,
   "metadata": {},
   "outputs": [
    {
     "name": "stdout",
     "output_type": "stream",
     "text": [
      "['cat' 'cat' 'cat' ... 'dog' 'dog' 'dog']\n",
      "(10000,)\n"
     ]
    }
   ],
   "source": [
    "# 例子4\n",
    "cats = np.repeat(\"cat\", repeats=5000)\n",
    "dogs = np.repeat(\"dog\", repeats=5000)\n",
    "labels = np.concatenate([cats, dogs])\n",
    "print(labels)\n",
    "print(labels.shape)"
   ]
  },
  {
   "cell_type": "code",
   "execution_count": 161,
   "metadata": {},
   "outputs": [
    {
     "name": "stdout",
     "output_type": "stream",
     "text": [
      "50\n"
     ]
    }
   ],
   "source": [
    "batch_size = 200\n",
    "num_epochs = np.ceil(len(labels) / batch_size).astype(np.int32)\n",
    "print(num_epochs)"
   ]
  },
  {
   "cell_type": "code",
   "execution_count": 162,
   "metadata": {},
   "outputs": [],
   "source": [
    "# 修改buffer_size大小为len(files)\n",
    "dataset = tf.data.Dataset.from_tensor_slices(labels)\n",
    "dataset = dataset.shuffle(buffer_size=len(labels))\n",
    "dataset = dataset.batch(batch_size)\n",
    "\n",
    "iterator = dataset.make_one_shot_iterator()\n",
    "next_element = iterator.get_next()"
   ]
  },
  {
   "cell_type": "code",
   "execution_count": 163,
   "metadata": {},
   "outputs": [],
   "source": [
    "import matplotlib.pyplot as plt"
   ]
  },
  {
   "cell_type": "code",
   "execution_count": 164,
   "metadata": {},
   "outputs": [
    {
     "name": "stdout",
     "output_type": "stream",
     "text": [
      "50\n"
     ]
    }
   ],
   "source": [
    "batch_res = []\n",
    "with tf.Session() as sess:\n",
    "    for i in range(num_epochs):\n",
    "        tmp = sess.run(next_element)\n",
    "        batch_res.append(tmp)\n",
    "print(len(batch_res))"
   ]
  },
  {
   "cell_type": "code",
   "execution_count": 165,
   "metadata": {},
   "outputs": [
    {
     "name": "stdout",
     "output_type": "stream",
     "text": [
      "['0', '1', '2', '3', '4', '5', '6', '7', '8', '9', '10', '11', '12', '13', '14', '15', '16', '17', '18', '19', '20', '21', '22', '23', '24', '25', '26', '27', '28', '29', '30', '31', '32', '33', '34', '35', '36', '37', '38', '39', '40', '41', '42', '43', '44', '45', '46', '47', '48', '49']\n"
     ]
    }
   ],
   "source": [
    "label_list = [str(i) for i in range(int(num_epochs))]\n",
    "print(label_list)"
   ]
  },
  {
   "cell_type": "code",
   "execution_count": 166,
   "metadata": {},
   "outputs": [
    {
     "name": "stdout",
     "output_type": "stream",
     "text": [
      "[106, 95, 103, 95, 97, 89, 105, 89, 97, 103, 101, 100, 91, 97, 106, 98, 114, 102, 91, 109, 94, 93, 96, 98, 109, 114, 105, 99, 103, 96, 103, 91, 93, 107, 103, 101, 100, 103, 101, 107, 110, 95, 102, 96, 96, 87, 99, 103, 98, 110]\n"
     ]
    }
   ],
   "source": [
    "num_list_cat = [batch_res[i].tolist().count(b\"cat\") for i in range(int(num_epochs))]\n",
    "print(num_list_cat)"
   ]
  },
  {
   "cell_type": "code",
   "execution_count": 167,
   "metadata": {},
   "outputs": [
    {
     "name": "stdout",
     "output_type": "stream",
     "text": [
      "[94, 105, 97, 105, 103, 111, 95, 111, 103, 97, 99, 100, 109, 103, 94, 102, 86, 98, 109, 91, 106, 107, 104, 102, 91, 86, 95, 101, 97, 104, 97, 109, 107, 93, 97, 99, 100, 97, 99, 93, 90, 105, 98, 104, 104, 113, 101, 97, 102, 90]\n"
     ]
    }
   ],
   "source": [
    "num_list_dog = [batch_res[i].tolist().count(b\"dog\") for i in range(num_epochs)]\n",
    "print(num_list_dog)"
   ]
  },
  {
   "cell_type": "code",
   "execution_count": 172,
   "metadata": {},
   "outputs": [
    {
     "name": "stdout",
     "output_type": "stream",
     "text": [
      "[ 0  1  2  3  4  5  6  7  8  9 10 11 12 13 14 15 16 17 18 19 20 21 22 23\n",
      " 24 25 26 27 28 29 30 31 32 33 34 35 36 37 38 39 40 41 42 43 44 45 46 47\n",
      " 48 49]\n"
     ]
    },
    {
     "data": {
      "image/png": "[encoded data removed]",
      "text/plain": [
       "<Figure size 1080x504 with 1 Axes>"
      ]
     },
     "metadata": {
      "needs_background": "light"
     },
     "output_type": "display_data"
    }
   ],
   "source": [
    "x = np.arange(len(num_list_cat))\n",
    "print(x)\n",
    "plt.figure(figsize=(15, 7))\n",
    "\"\"\"\n",
    "绘制条形图\n",
    "left:长条形中点横坐标\n",
    "height:长条形高度\n",
    "width:长条形宽度，默认值0.8\n",
    "label:为后面设置legend准备\n",
    "\"\"\"\n",
    "cat_ = plt.bar(x, height=num_list_cat, width=0.4, alpha=0.8, label=\"cat\")\n",
    "dog_ = plt.bar([i + 0.4 for i in x], height=num_list_dog, width=0.4, label=\"dog\")\n",
    "plt.ylim(0, 130)     # y轴取值范围\n",
    "plt.ylabel(\"num\")\n",
    "\"\"\"\n",
    "设置x轴刻度显示值\n",
    "参数一：中点坐标\n",
    "参数二：显示值\n",
    "\"\"\"\n",
    "plt.xticks([index + 0.2 for index in x], label_list)\n",
    "plt.xlabel(\"batch\")\n",
    "plt.title(\"buffer_size=len(files)\")\n",
    "plt.legend()     # 设置题注\n",
    "# 编辑文本\n",
    "# for rect in cat_:\n",
    "#     height = rect.get_height()\n",
    "#     plt.text(rect.get_x() + rect.get_width() / 2, height+1, str(height), ha=\"center\", va=\"bottom\")\n",
    "# for rect in dog_:\n",
    "#     height = rect.get_height()\n",
    "#     plt.text(rect.get_x() + rect.get_width() / 2, height+1, str(height), ha=\"center\", va=\"bottom\")\n",
    "plt.show()"
   ]
  },
  {
   "cell_type": "code",
   "execution_count": 176,
   "metadata": {},
   "outputs": [
    {
     "name": "stdout",
     "output_type": "stream",
     "text": [
      "['cat' 'cat' 'cat' ... 'dog' 'dog' 'dog']\n",
      "(10000,)\n"
     ]
    }
   ],
   "source": [
    "# 例子5：将buffer_size改小的结果\n",
    "cats = np.repeat(\"cat\", repeats=5000)\n",
    "dogs = np.repeat(\"dog\", repeats=5000)\n",
    "labels = np.concatenate([cats, dogs])\n",
    "print(labels)\n",
    "print(labels.shape)\n",
    "\n",
    "dataset2 = tf.data.Dataset.from_tensor_slices(labels)\n",
    "dataset2 = dataset2.shuffle(buffer_size=20)\n",
    "dataset2 = dataset2.batch(batch_size)\n",
    "\n",
    "iterator2 = dataset2.make_one_shot_iterator()\n",
    "next_element2 = iterator2.get_next()"
   ]
  },
  {
   "cell_type": "code",
   "execution_count": null,
   "metadata": {},
   "outputs": [],
   "source": [
    "batch_size = 200\n",
    "num_epochs = np.ceil(len(labels) / batch_size).astype(np.int32)\n",
    "print(num_epochs)"
   ]
  },
  {
   "cell_type": "code",
   "execution_count": 178,
   "metadata": {},
   "outputs": [
    {
     "name": "stdout",
     "output_type": "stream",
     "text": [
      "50\n"
     ]
    }
   ],
   "source": [
    "batch_res2 = []\n",
    "with tf.Session() as sess:\n",
    "    for i in range(num_epochs):\n",
    "        tmp = sess.run(next_element2)\n",
    "        batch_res2.append(tmp)\n",
    "print(len(batch_res2))"
   ]
  },
  {
   "cell_type": "code",
   "execution_count": 179,
   "metadata": {},
   "outputs": [
    {
     "name": "stdout",
     "output_type": "stream",
     "text": [
      "['0', '1', '2', '3', '4', '5', '6', '7', '8', '9', '10', '11', '12', '13', '14', '15', '16', '17', '18', '19', '20', '21', '22', '23', '24', '25', '26', '27', '28', '29', '30', '31', '32', '33', '34', '35', '36', '37', '38', '39', '40', '41', '42', '43', '44', '45', '46', '47', '48', '49']\n"
     ]
    }
   ],
   "source": [
    "label_list2 = [str(i) for i in range(int(num_epochs))]\n",
    "print(label_list2)"
   ]
  },
  {
   "cell_type": "code",
   "execution_count": 182,
   "metadata": {},
   "outputs": [
    {
     "name": "stdout",
     "output_type": "stream",
     "text": [
      "[200, 200, 200, 200, 200, 200, 200, 200, 200, 200, 200, 200, 200, 200, 200, 200, 200, 200, 200, 200, 200, 200, 200, 200, 195, 5, 0, 0, 0, 0, 0, 0, 0, 0, 0, 0, 0, 0, 0, 0, 0, 0, 0, 0, 0, 0, 0, 0, 0, 0]\n"
     ]
    }
   ],
   "source": [
    "num_list_cat2 = [batch_res2[i].tolist().count(b\"cat\") for i in range(int(num_epochs))]\n",
    "print(num_list_cat2)"
   ]
  },
  {
   "cell_type": "code",
   "execution_count": 181,
   "metadata": {},
   "outputs": [
    {
     "name": "stdout",
     "output_type": "stream",
     "text": [
      "[0, 0, 0, 0, 0, 0, 0, 0, 0, 0, 0, 0, 0, 0, 0, 0, 0, 0, 0, 0, 0, 0, 0, 0, 5, 195, 200, 200, 200, 200, 200, 200, 200, 200, 200, 200, 200, 200, 200, 200, 200, 200, 200, 200, 200, 200, 200, 200, 200, 200]\n"
     ]
    }
   ],
   "source": [
    "num_list_dog2 = [batch_res2[i].tolist().count(b\"dog\") for i in range(num_epochs)]\n",
    "print(num_list_dog2)"
   ]
  },
  {
   "cell_type": "code",
   "execution_count": 187,
   "metadata": {},
   "outputs": [
    {
     "name": "stdout",
     "output_type": "stream",
     "text": [
      "[ 0  1  2  3  4  5  6  7  8  9 10 11 12 13 14 15 16 17 18 19 20 21 22 23\n",
      " 24 25 26 27 28 29 30 31 32 33 34 35 36 37 38 39 40 41 42 43 44 45 46 47\n",
      " 48 49]\n"
     ]
    },
    {
     "data": {
      "image/png": "[encoded data removed]",
      "text/plain": [
       "<Figure size 1080x504 with 1 Axes>"
      ]
     },
     "metadata": {
      "needs_background": "light"
     },
     "output_type": "display_data"
    }
   ],
   "source": [
    "x2 = np.arange(len(num_list_cat2))\n",
    "print(x)\n",
    "plt.figure(figsize=(15, 7))\n",
    "\"\"\"\n",
    "绘制条形图\n",
    "left:长条形中点横坐标\n",
    "height:长条形高度\n",
    "width:长条形宽度，默认值0.8\n",
    "label:为后面设置legend准备\n",
    "\"\"\"\n",
    "cat2_ = plt.bar(x2, height=num_list_cat2, width=0.4, alpha=0.8, label=\"cat\")\n",
    "dog2_ = plt.bar([i + 0.4 for i in x2], height=num_list_dog2, width=0.4, label=\"dog\")\n",
    "plt.ylim(0, 230)     # y轴取值范围\n",
    "plt.ylabel(\"num\")\n",
    "\"\"\"\n",
    "设置x轴刻度显示值\n",
    "参数一：中点坐标\n",
    "参数二：显示值\n",
    "\"\"\"\n",
    "plt.xticks([index + 0.2 for index in x2], label_list2)\n",
    "plt.xlabel(\"batch\")\n",
    "plt.title(\"buffer_size << len(files)\")\n",
    "plt.legend()     # 设置题注\n",
    "# 编辑文本\n",
    "# for rect in cat_:\n",
    "#     height = rect.get_height()\n",
    "#     plt.text(rect.get_x() + rect.get_width() / 2, height+1, str(height), ha=\"center\", va=\"bottom\")\n",
    "# for rect in dog_:\n",
    "#     height = rect.get_height()\n",
    "#     plt.text(rect.get_x() + rect.get_width() / 2, height+1, str(height), ha=\"center\", va=\"bottom\")\n",
    "plt.show()"
   ]
  },
  {
   "cell_type": "markdown",
   "metadata": {},
   "source": [
    "#### shuffle的buffer_size小结：\n",
    "1. buffer_size的设置要根据实际情况而定，最好是大于等于文件名数量的总数\n",
    "2. 当buffer_size设小的时候，就会出现某些batch全是一类相同的标签，对训练不利"
   ]
  },
  {
   "cell_type": "markdown",
   "metadata": {},
   "source": [
    "#### Map\n",
    "该方法能够对dataset数据集中的每一个元素进行操作。比如进行一些数据增强的操作"
   ]
  },
  {
   "cell_type": "markdown",
   "metadata": {},
   "source": [
    "![Map](./map.jpeg)"
   ]
  },
  {
   "cell_type": "code",
   "execution_count": 3,
   "metadata": {},
   "outputs": [],
   "source": [
    "dataset = tf.data.Dataset.from_tensor_slices(tf.range(8))"
   ]
  },
  {
   "cell_type": "code",
   "execution_count": 4,
   "metadata": {},
   "outputs": [],
   "source": [
    "dataset = dataset.map(lambda x: x + 1)"
   ]
  },
  {
   "cell_type": "code",
   "execution_count": 5,
   "metadata": {},
   "outputs": [],
   "source": [
    "iterator = dataset.make_one_shot_iterator()\n",
    "next_element = iterator.get_next()"
   ]
  },
  {
   "cell_type": "code",
   "execution_count": 9,
   "metadata": {},
   "outputs": [
    {
     "name": "stdout",
     "output_type": "stream",
     "text": [
      "1 2 3 4 5 6 7 8 "
     ]
    }
   ],
   "source": [
    "with tf.Session() as sess:\n",
    "    while True:\n",
    "        try:\n",
    "            print(sess.run(next_element), end=\" \")\n",
    "        except tf.errors.OutOfRangeError:\n",
    "            break"
   ]
  },
  {
   "cell_type": "markdown",
   "metadata": {},
   "source": [
    "#### Filter\n",
    "在训练的过程中，如果想把某些元素从dataset中过滤掉，可以使用filter方法\n",
    "\n",
    "![Filter](./filter.jpeg)"
   ]
  },
  {
   "cell_type": "code",
   "execution_count": 10,
   "metadata": {},
   "outputs": [
    {
     "name": "stdout",
     "output_type": "stream",
     "text": [
      "[0 1 2 3 4 5 6 7]\n"
     ]
    }
   ],
   "source": [
    "input_array = np.arange(8)\n",
    "print(input_array)"
   ]
  },
  {
   "cell_type": "code",
   "execution_count": 11,
   "metadata": {},
   "outputs": [],
   "source": [
    "dataset = tf.data.Dataset.from_tensor_slices(input_array)"
   ]
  },
  {
   "cell_type": "code",
   "execution_count": 14,
   "metadata": {},
   "outputs": [],
   "source": [
    "def pass_only_even(x):\n",
    "    return tf.reshape(tf.equal(x % 2, 0), [])"
   ]
  },
  {
   "cell_type": "code",
   "execution_count": 15,
   "metadata": {},
   "outputs": [],
   "source": [
    "dataset = dataset.filter(pass_only_even)"
   ]
  },
  {
   "cell_type": "code",
   "execution_count": 16,
   "metadata": {},
   "outputs": [],
   "source": [
    "iterator = dataset.make_one_shot_iterator()\n",
    "next_element = iterator.get_next()"
   ]
  },
  {
   "cell_type": "code",
   "execution_count": 19,
   "metadata": {},
   "outputs": [
    {
     "name": "stdout",
     "output_type": "stream",
     "text": [
      "0 2 4 6 "
     ]
    }
   ],
   "source": [
    "with tf.Session() as sess:\n",
    "    while True:\n",
    "        try:\n",
    "            print(sess.run(next_element), end=\" \")\n",
    "        except tf.errors.OutOfRangeError:\n",
    "            break"
   ]
  },
  {
   "cell_type": "markdown",
   "metadata": {},
   "source": [
    "#### 一个综合的例子\n",
    "综合使用shuffle, repeat, batch的例子"
   ]
  },
  {
   "cell_type": "code",
   "execution_count": 20,
   "metadata": {},
   "outputs": [],
   "source": [
    "dataset = tf.data.Dataset.from_tensor_slices(tf.range(10))\n",
    "# 将创建一个内容为[0, 1, 2, 3, 4, 5, 6, 7, 8, 9]的dataset"
   ]
  },
  {
   "cell_type": "code",
   "execution_count": 21,
   "metadata": {},
   "outputs": [],
   "source": [
    "dataset = dataset.repeat(2)\n",
    "# 将产生一个内容为[0, 1, 2, 3, 4, 5, 6, 7, 8, 9, 0, 1, 2, 3, 4, 5, 6, 7, 8, 9]的dataset"
   ]
  },
  {
   "cell_type": "code",
   "execution_count": 22,
   "metadata": {},
   "outputs": [],
   "source": [
    "dataset = dataset.shuffle(buffer_size=20)\n",
    "# 将对dataset进行shuffle操作，缓存器的大小为样本数大小"
   ]
  },
  {
   "cell_type": "code",
   "execution_count": 23,
   "metadata": {},
   "outputs": [],
   "source": [
    "dataset = dataset.map(lambda x: x * 3)\n",
    "# 将dataset中的每个元素乘以3"
   ]
  },
  {
   "cell_type": "code",
   "execution_count": 24,
   "metadata": {},
   "outputs": [],
   "source": [
    "def filter_fn(x):\n",
    "    # 将除以5余数为1的元素剔除\n",
    "    return tf.reshape(tf.not_equal(x % 5, 1), [])"
   ]
  },
  {
   "cell_type": "code",
   "execution_count": 25,
   "metadata": {},
   "outputs": [],
   "source": [
    "dataset = dataset.filter(filter_fn)"
   ]
  },
  {
   "cell_type": "code",
   "execution_count": 26,
   "metadata": {},
   "outputs": [],
   "source": [
    "dataset = dataset.batch(batch_size=4)\n",
    "# batch_size的大小为4"
   ]
  },
  {
   "cell_type": "code",
   "execution_count": 27,
   "metadata": {},
   "outputs": [],
   "source": [
    "iterator = dataset.make_one_shot_iterator()\n",
    "next_element = iterator.get_next()"
   ]
  },
  {
   "cell_type": "code",
   "execution_count": 29,
   "metadata": {},
   "outputs": [
    {
     "name": "stdout",
     "output_type": "stream",
     "text": [
      "[24  3 15 12] [ 3 12 15 27] [24  9 27  0] [ 9  0 18 18] "
     ]
    }
   ],
   "source": [
    "with tf.Session() as sess:\n",
    "    while True:\n",
    "        try:\n",
    "            print(sess.run(next_element), end=\" \")\n",
    "        except tf.errors.OutOfRangeError:\n",
    "            break"
   ]
  },
  {
   "cell_type": "markdown",
   "metadata": {},
   "source": [
    "### 转换处理的顺序对数据的影响\n",
    "对数据进行转换的顺序是很重要的。对于同样的数据，如果处理的顺序不一样，那么训练出来的模型也会不一样"
   ]
  },
  {
   "cell_type": "code",
   "execution_count": 30,
   "metadata": {},
   "outputs": [],
   "source": [
    "# 第一种处理顺序\n",
    "dataset1 = tf.data.Dataset.from_tensor_slices(tf.range(10))\n",
    "# [0, 1, 2, 3, 4, 5, 6, 7, 8, 9]\n",
    "dataset1 = dataset1.batch(4)\n",
    "# [0, 1, 2, 3], [4, 5, 6, 7], [8, 9]\n",
    "dataset1 = dataset1.repeat(2)\n",
    "# [0, 1, 2, 3], [4, 5, 6, 7], [8, 9], [0, 1, 2, 3], [4, 5, 6, 7], [8, 9]\n",
    "dataset1 = dataset1.shuffle(6)  # 在batch水平上进行shuffle"
   ]
  },
  {
   "cell_type": "code",
   "execution_count": 31,
   "metadata": {},
   "outputs": [],
   "source": [
    "iterator = dataset1.make_one_shot_iterator()\n",
    "next_element = iterator.get_next()"
   ]
  },
  {
   "cell_type": "code",
   "execution_count": 34,
   "metadata": {},
   "outputs": [
    {
     "name": "stdout",
     "output_type": "stream",
     "text": [
      "[8 9] [4 5 6 7] [4 5 6 7] [0 1 2 3] [0 1 2 3] [8 9] "
     ]
    }
   ],
   "source": [
    "with tf.Session() as sess:\n",
    "    while True:\n",
    "        try:\n",
    "            print(sess.run(next_element), end=\" \")\n",
    "        except tf.errors.OutOfRangeError:\n",
    "            break"
   ]
  },
  {
   "cell_type": "code",
   "execution_count": 35,
   "metadata": {},
   "outputs": [],
   "source": [
    "# 第二种处理顺序\n",
    "dataset2 = tf.data.Dataset.from_tensor_slices(tf.range(10))\n",
    "# [0, 1, 2, 3, 4, 5, 6, 7, 8, 9]\n",
    "dataset2 = dataset2.shuffle(10)\n",
    "dataset2 = dataset2.repeat(2)\n",
    "dataset2 = dataset2.batch(4)\n",
    "\n",
    "iterator = dataset2.make_one_shot_iterator()\n",
    "next_element = iterator.get_next()"
   ]
  },
  {
   "cell_type": "code",
   "execution_count": 36,
   "metadata": {},
   "outputs": [
    {
     "name": "stdout",
     "output_type": "stream",
     "text": [
      "[3 9 2 0] [1 5 8 4] [6 7 6 5] [9 7 0 8] [1 3 4 2] "
     ]
    }
   ],
   "source": [
    "with tf.Session() as sess:\n",
    "    while True:\n",
    "        try:\n",
    "            print(sess.run(next_element), end=\" \")\n",
    "        except tf.errors.OutOfRangeError:\n",
    "            break"
   ]
  },
  {
   "cell_type": "markdown",
   "metadata": {},
   "source": [
    "### 一个例子：模型搭建，数据输入。一套下来"
   ]
  },
  {
   "cell_type": "code",
   "execution_count": 37,
   "metadata": {},
   "outputs": [],
   "source": [
    "# 构建LeNet-5模型\n",
    "import tensorflow as tf"
   ]
  },
  {
   "cell_type": "code",
   "execution_count": 30,
   "metadata": {},
   "outputs": [],
   "source": [
    "class Model:\n",
    "    def __init__(self, data_x, data_y):\n",
    "        self.n_class = 10\n",
    "        self._create_architecture(data_x, data_y)\n",
    "        self.input_data = None\n",
    "        self.logits = None\n",
    "        \n",
    "    def _create_architecture(self, data_x, data_y):\n",
    "        y_hot = tf.one_hot(data_y, self.n_class)\n",
    "        with tf.name_scope(\"logits\"):\n",
    "            logits = self._create_model(data_x)\n",
    "        with tf.name_scope(\"predictions\"):\n",
    "            predictions = tf.argmax(logits, 1, output_type=tf.int32)\n",
    "        with tf.name_scope(\"loss\"):\n",
    "            self.loss = tf.reduce_mean(tf.losses.softmax_cross_entropy(onehot_labels=y_hot, logits=logits))\n",
    "        with tf.name_scope(\"train\"):\n",
    "            self.optimizer = tf.train.AdamOptimizer().minimize(self.loss)\n",
    "        with tf.name_scope(\"accuracy\"):\n",
    "            self.accuracy = tf.reduce_sum(tf.cast(tf.equal(predictions, data_y), tf.float32))\n",
    "    def _create_model(self, x):\n",
    "        input_data = tf.keras.layers.Input(shape=[28, 28, 1], name=\"Input\", tensor=x)\n",
    "        x = tf.keras.layers.Conv2D(kernel_size=(5, 5), filters=20, activation=\"relu\", name=\"Conv1\")(input_data)\n",
    "        x = tf.keras.layers.MaxPooling2D(pool_size=(2, 2), strides=2, padding=\"same\", name=\"Pool1\")(x)\n",
    "        x = tf.keras.layers.Conv2D(kernel_size=(5, 5), filters=50, activation=\"relu\", name=(\"Conv2\"))(x)\n",
    "        x = tf.keras.layers.MaxPooling2D(pool_size=(2, 2), strides=2, padding=\"same\", name=\"Pool2\")(x)\n",
    "        x = tf.keras.layers.Flatten(name=\"Flatten\")(x)\n",
    "        x = tf.keras.layers.Dense(120, activation='relu', name=\"Dense1\")(x)\n",
    "        x = tf.keras.layers.Dense(84, activation=\"relu\", name=\"Dense2\")(x)\n",
    "        x = tf.keras.layers.Dense(self.n_class, activation=\"linear\", name=\"logits\")(x)\n",
    "        return x\n",
    "    \n",
    "    def _model_summary(self):\n",
    "        self.input_data = tf.keras.layers.Input(shape=[28, 28, 1], name=\"Input\")\n",
    "        self.logits = self._create_model(self.input_data)\n",
    "        model_structure = tf.keras.models.Model(inputs=self.input_data, outputs=self.logits)\n",
    "        model_structure.summary()"
   ]
  },
  {
   "cell_type": "code",
   "execution_count": 4,
   "metadata": {},
   "outputs": [
    {
     "name": "stdout",
     "output_type": "stream",
     "text": [
      "['./train_tfrecords/train.tfrecord-045', './train_tfrecords/train.tfrecord-002', './train_tfrecords/train.tfrecord-033']\n",
      "-------------------------\n",
      "['./test_tfrecords/test.tfrecord-003', './test_tfrecords/test.tfrecord-001', './test_tfrecords/test.tfrecord-002']\n"
     ]
    }
   ],
   "source": [
    "# 加载数据集dataset\n",
    "import os\n",
    "\n",
    "train_filenames = [os.path.join(\"./train_tfrecords/\", i) for i in os.listdir(\"./train_tfrecords/\")]\n",
    "val_filenames = [os.path.join(\"./test_tfrecords/\", i) for i in os.listdir(\"./test_tfrecords/\")]\n",
    "print(train_filenames[:3])\n",
    "print(\"-------------------------\")\n",
    "print(val_filenames[:3])"
   ]
  },
  {
   "cell_type": "code",
   "execution_count": 5,
   "metadata": {},
   "outputs": [],
   "source": [
    "def _parse_function(record):\n",
    "    keys_to_features = {\"img_raw\": tf.FixedLenFeature((), tf.string, default_value=\"\"), \"label\": tf.FixedLenFeature((), tf.int64, default_value=tf.zeros([], tf.int64))}\n",
    "    parsed = tf.parse_single_example(record, keys_to_features)\n",
    "    images = tf.decode_raw(parsed[\"img_raw\"], tf.uint8)\n",
    "    images = tf.reshape(images, [28, 28, 1])\n",
    "    images = tf.cast(images, tf.float32)\n",
    "    images = tf.divide(images, 255.)\n",
    "    labels = tf.cast(parsed[\"label\"], tf.int32)\n",
    "    return images, labels"
   ]
  },
  {
   "cell_type": "markdown",
   "metadata": {},
   "source": [
    "### 迭代器iterator\n",
    "接下来，需要构建迭代器。TensorFlow提供了四种迭代器，每一种迭代器都有自己的用途和特定目的。下面是一般的迭代器构建流程：\n",
    "\n",
    "```python\n",
    "# 首先创建dataset并进行转换操作\n",
    "dataset = << Create Dataset object >>\n",
    "dataset = << Perform transformations on dataset >>\n",
    "\n",
    "# 创建迭代器\n",
    "iterator = << Create iterator using dataset >>\n",
    "next_batch = iterator.get_next()\n",
    "\n",
    "# 创建session\n",
    "with tf.Session() as sess:\n",
    "    sess.run(tf.global_variables_initializer())\n",
    "    \n",
    "    try:\n",
    "        while True:\n",
    "            sess.run(next_batch)\n",
    "    except tf.errors.OutOfRangeError:\n",
    "        pass\n",
    "```"
   ]
  },
  {
   "cell_type": "markdown",
   "metadata": {},
   "source": [
    "#### One-shot iterator\n",
    "这是最基础的迭代器。要求必须在生成迭代器之前对数据集dataset中的元素进行转换操作，它会遍历迭代器中的所有元素直到穷尽，然后这个迭代器就不能再使用了。它的缺点是占用很大的内存。"
   ]
  },
  {
   "cell_type": "code",
   "execution_count": 8,
   "metadata": {},
   "outputs": [],
   "source": [
    "# 使用one-shot iterator训练的例子\n",
    "epochs = 10\n",
    "batch_size = 64\n",
    "\n",
    "train_ds = tf.data.TFRecordDataset(train_filenames)\n",
    "train_ds = train_ds.map(_parse_function)\n",
    "train_ds = train_ds.shuffle(60000).repeat(epochs).batch(batch_size)\n",
    "iterator = train_ds.make_one_shot_iterator()\n",
    "\n",
    "data_x, data_y = iterator.get_next()"
   ]
  },
  {
   "cell_type": "code",
   "execution_count": 31,
   "metadata": {},
   "outputs": [],
   "source": [
    "model = Model(data_x, data_y)"
   ]
  },
  {
   "cell_type": "code",
   "execution_count": 32,
   "metadata": {},
   "outputs": [
    {
     "name": "stdout",
     "output_type": "stream",
     "text": [
      "_________________________________________________________________\n",
      "Layer (type)                 Output Shape              Param #   \n",
      "=================================================================\n",
      "Input (InputLayer)           (None, 28, 28, 1)         0         \n",
      "_________________________________________________________________\n",
      "Conv1 (Conv2D)               (None, 24, 24, 20)        520       \n",
      "_________________________________________________________________\n",
      "Pool1 (MaxPooling2D)         (None, 12, 12, 20)        0         \n",
      "_________________________________________________________________\n",
      "Conv2 (Conv2D)               (None, 8, 8, 50)          25050     \n",
      "_________________________________________________________________\n",
      "Pool2 (MaxPooling2D)         (None, 4, 4, 50)          0         \n",
      "_________________________________________________________________\n",
      "Flatten (Flatten)            (None, 800)               0         \n",
      "_________________________________________________________________\n",
      "Dense1 (Dense)               (None, 120)               96120     \n",
      "_________________________________________________________________\n",
      "Dense2 (Dense)               (None, 84)                10164     \n",
      "_________________________________________________________________\n",
      "logits (Dense)               (None, 10)                850       \n",
      "=================================================================\n",
      "Total params: 132,704\n",
      "Trainable params: 132,704\n",
      "Non-trainable params: 0\n",
      "_________________________________________________________________\n"
     ]
    }
   ],
   "source": [
    "model._model_summary()"
   ]
  },
  {
   "cell_type": "code",
   "execution_count": 16,
   "metadata": {},
   "outputs": [],
   "source": [
    "iterations = 60000 * epochs"
   ]
  },
  {
   "cell_type": "code",
   "execution_count": 20,
   "metadata": {},
   "outputs": [],
   "source": [
    "from tqdm import tqdm"
   ]
  },
  {
   "cell_type": "code",
   "execution_count": 21,
   "metadata": {},
   "outputs": [
    {
     "name": "stderr",
     "output_type": "stream",
     "text": [
      "100%|██████████| 600000/600000 [04:25<00:00, 2255.67it/s]"
     ]
    },
    {
     "name": "stdout",
     "output_type": "stream",
     "text": [
      "\n",
      "Average training accuracy: 0.9887\n"
     ]
    },
    {
     "name": "stderr",
     "output_type": "stream",
     "text": [
      "\n"
     ]
    }
   ],
   "source": [
    "with tf.Session() as sess, tqdm(total=iterations) as pbar:\n",
    "    sess.run(tf.global_variables_initializer())\n",
    "    \n",
    "    total_acc = 0\n",
    "    try:\n",
    "        while True:\n",
    "            acc, _ = sess.run([model.accuracy, model.optimizer])\n",
    "            total_acc += acc\n",
    "            pbar.update(batch_size)\n",
    "    except tf.errors.OutOfRangeError:\n",
    "        pass\n",
    "\n",
    "print(\"\\nAverage training accuracy: {:.4f}\".format(total_acc / iterations))"
   ]
  },
  {
   "cell_type": "markdown",
   "metadata": {},
   "source": [
    "#### initializable\n",
    "one-shot iterator的缺点是会在内存中重复同一个训练dataset，并且无法对验证集进行验证。而initializable iterator则克服了这些缺点，在运行之前需要对该迭代器进行初始化。\n",
    "\n",
    "而initializable迭代器的缺点是，训练集和验证集使用的是同一个迭代器管道"
   ]
  },
  {
   "cell_type": "markdown",
   "metadata": {},
   "source": [
    "#### Reinitializable迭代器\n",
    "优点是训练集和验证集可以走不同的管道进行输入，需要注意的是不同的dataset的数据类型要一致"
   ]
  },
  {
   "cell_type": "code",
   "execution_count": 33,
   "metadata": {},
   "outputs": [
    {
     "name": "stdout",
     "output_type": "stream",
     "text": [
      "(TensorShape([Dimension(None), Dimension(28), Dimension(28), Dimension(1)]), TensorShape([Dimension(None)])) (tf.float32, tf.int32)\n"
     ]
    }
   ],
   "source": [
    "# 使用reinitializable迭代器进行训练和验证的例子\n",
    "epochs = 10\n",
    "batch_size = 64\n",
    "\n",
    "# 创建用于训练和验证的dataset\n",
    "train_dataset = tf.data.TFRecordDataset(train_filenames)\n",
    "train_dataset = train_dataset.map(_parse_function).shuffle(60000).batch(batch_size)\n",
    "val_dataset = tf.data.TFRecordDataset(val_filenames)\n",
    "val_dataset = val_dataset.map(_parse_function).batch(batch_size)\n",
    "print(train_dataset.output_shapes, train_dataset.output_types)"
   ]
  },
  {
   "cell_type": "code",
   "execution_count": 34,
   "metadata": {},
   "outputs": [],
   "source": [
    "# 创建迭代器\n",
    "iterator = tf.data.Iterator.from_structure(train_dataset.output_types, train_dataset.output_shapes)\n",
    "data_x, data_y = iterator.get_next()\n",
    "model = Model(data_x, data_y)"
   ]
  },
  {
   "cell_type": "code",
   "execution_count": 35,
   "metadata": {},
   "outputs": [
    {
     "name": "stdout",
     "output_type": "stream",
     "text": [
      "_________________________________________________________________\n",
      "Layer (type)                 Output Shape              Param #   \n",
      "=================================================================\n",
      "Input (InputLayer)           (None, 28, 28, 1)         0         \n",
      "_________________________________________________________________\n",
      "Conv1 (Conv2D)               (None, 24, 24, 20)        520       \n",
      "_________________________________________________________________\n",
      "Pool1 (MaxPooling2D)         (None, 12, 12, 20)        0         \n",
      "_________________________________________________________________\n",
      "Conv2 (Conv2D)               (None, 8, 8, 50)          25050     \n",
      "_________________________________________________________________\n",
      "Pool2 (MaxPooling2D)         (None, 4, 4, 50)          0         \n",
      "_________________________________________________________________\n",
      "Flatten (Flatten)            (None, 800)               0         \n",
      "_________________________________________________________________\n",
      "Dense1 (Dense)               (None, 120)               96120     \n",
      "_________________________________________________________________\n",
      "Dense2 (Dense)               (None, 84)                10164     \n",
      "_________________________________________________________________\n",
      "logits (Dense)               (None, 10)                850       \n",
      "=================================================================\n",
      "Total params: 132,704\n",
      "Trainable params: 132,704\n",
      "Non-trainable params: 0\n",
      "_________________________________________________________________\n"
     ]
    }
   ],
   "source": [
    "model._model_summary()"
   ]
  },
  {
   "cell_type": "code",
   "execution_count": 36,
   "metadata": {},
   "outputs": [],
   "source": [
    "# 使用不同的数据集进行迭代器初始化\n",
    "train_iterator = iterator.make_initializer(train_dataset)\n",
    "val_iterator = iterator.make_initializer(val_dataset)"
   ]
  },
  {
   "cell_type": "code",
   "execution_count": 37,
   "metadata": {},
   "outputs": [
    {
     "name": "stderr",
     "output_type": "stream",
     "text": [
      "60032it [00:26, 2262.99it/s]                           \n",
      "  0%|          | 0/60000 [00:00<?, ?it/s]"
     ]
    },
    {
     "name": "stdout",
     "output_type": "stream",
     "text": [
      "\n",
      "Epoch: 1\n",
      "Train accuracy: 0.9467, loss: 0.0027\n",
      "Val accuracy: 0.9791, loss: 0.0010\n",
      "\n"
     ]
    },
    {
     "name": "stderr",
     "output_type": "stream",
     "text": [
      "60032it [00:26, 2266.18it/s]                           \n",
      "  0%|          | 0/60000 [00:00<?, ?it/s]"
     ]
    },
    {
     "name": "stdout",
     "output_type": "stream",
     "text": [
      "\n",
      "Epoch: 2\n",
      "Train accuracy: 0.9845, loss: 0.0008\n",
      "Val accuracy: 0.9891, loss: 0.0005\n",
      "\n"
     ]
    },
    {
     "name": "stderr",
     "output_type": "stream",
     "text": [
      "60032it [00:26, 2277.06it/s]                           \n",
      "  0%|          | 0/60000 [00:00<?, ?it/s]"
     ]
    },
    {
     "name": "stdout",
     "output_type": "stream",
     "text": [
      "\n",
      "Epoch: 3\n",
      "Train accuracy: 0.9887, loss: 0.0005\n",
      "Val accuracy: 0.9888, loss: 0.0005\n",
      "\n"
     ]
    },
    {
     "name": "stderr",
     "output_type": "stream",
     "text": [
      "60032it [00:26, 2269.12it/s]                           \n",
      "  0%|          | 0/60000 [00:00<?, ?it/s]"
     ]
    },
    {
     "name": "stdout",
     "output_type": "stream",
     "text": [
      "\n",
      "Epoch: 4\n",
      "Train accuracy: 0.9921, loss: 0.0004\n",
      "Val accuracy: 0.9890, loss: 0.0005\n",
      "\n"
     ]
    },
    {
     "name": "stderr",
     "output_type": "stream",
     "text": [
      "60032it [00:26, 2257.29it/s]                           \n",
      "  0%|          | 0/60000 [00:00<?, ?it/s]"
     ]
    },
    {
     "name": "stdout",
     "output_type": "stream",
     "text": [
      "\n",
      "Epoch: 5\n",
      "Train accuracy: 0.9931, loss: 0.0003\n",
      "Val accuracy: 0.9899, loss: 0.0005\n",
      "\n"
     ]
    },
    {
     "name": "stderr",
     "output_type": "stream",
     "text": [
      "60032it [00:26, 2245.40it/s]                           \n",
      "  0%|          | 0/60000 [00:00<?, ?it/s]"
     ]
    },
    {
     "name": "stdout",
     "output_type": "stream",
     "text": [
      "\n",
      "Epoch: 6\n",
      "Train accuracy: 0.9942, loss: 0.0003\n",
      "Val accuracy: 0.9896, loss: 0.0005\n",
      "\n"
     ]
    },
    {
     "name": "stderr",
     "output_type": "stream",
     "text": [
      "60032it [00:26, 2278.65it/s]                           \n",
      "  0%|          | 0/60000 [00:00<?, ?it/s]"
     ]
    },
    {
     "name": "stdout",
     "output_type": "stream",
     "text": [
      "\n",
      "Epoch: 7\n",
      "Train accuracy: 0.9954, loss: 0.0002\n",
      "Val accuracy: 0.9903, loss: 0.0004\n",
      "\n"
     ]
    },
    {
     "name": "stderr",
     "output_type": "stream",
     "text": [
      "60032it [00:25, 2311.83it/s]                           \n",
      "  0%|          | 0/60000 [00:00<?, ?it/s]"
     ]
    },
    {
     "name": "stdout",
     "output_type": "stream",
     "text": [
      "\n",
      "Epoch: 8\n",
      "Train accuracy: 0.9962, loss: 0.0002\n",
      "Val accuracy: 0.9924, loss: 0.0005\n",
      "\n"
     ]
    },
    {
     "name": "stderr",
     "output_type": "stream",
     "text": [
      "60032it [00:26, 2598.09it/s]                           \n",
      "  0%|          | 0/60000 [00:00<?, ?it/s]"
     ]
    },
    {
     "name": "stdout",
     "output_type": "stream",
     "text": [
      "\n",
      "Epoch: 9\n",
      "Train accuracy: 0.9969, loss: 0.0002\n",
      "Val accuracy: 0.9929, loss: 0.0005\n",
      "\n"
     ]
    },
    {
     "name": "stderr",
     "output_type": "stream",
     "text": [
      "60032it [00:25, 2326.98it/s]                           \n"
     ]
    },
    {
     "name": "stdout",
     "output_type": "stream",
     "text": [
      "\n",
      "Epoch: 10\n",
      "Train accuracy: 0.9971, loss: 0.0001\n",
      "Val accuracy: 0.9926, loss: 0.0004\n",
      "\n"
     ]
    }
   ],
   "source": [
    "with tf.Session() as sess:\n",
    "    sess.run(tf.global_variables_initializer())\n",
    "    \n",
    "    for epoch in range(epochs):\n",
    "        train_loss, train_acc = 0, 0\n",
    "        val_loss, val_acc = 0, 0\n",
    "        \n",
    "        # 开始训练\n",
    "        sess.run(train_iterator)\n",
    "        try:\n",
    "            with tqdm(total=60000) as pbar:\n",
    "                while True:\n",
    "                    _, acc, loss = sess.run([model.optimizer, model.accuracy, model.loss])\n",
    "                    train_loss += loss\n",
    "                    train_acc += acc\n",
    "                    pbar.update(batch_size)\n",
    "        except tf.errors.OutOfRangeError:\n",
    "            pass\n",
    "        \n",
    "        # 开始验证\n",
    "        sess.run(val_iterator)\n",
    "        try:\n",
    "            while True:\n",
    "                acc, loss = sess.run([model.accuracy, model.loss])\n",
    "                val_loss += loss\n",
    "                val_acc += acc\n",
    "        except tf.errors.OutOfRangeError:\n",
    "            pass\n",
    "        \n",
    "        print(\"\\nEpoch: {}\".format(epoch + 1))\n",
    "        print(\"Train accuracy: {:.4f}, loss: {:.4f}\".format(train_acc / 60000, train_loss / 60000))\n",
    "        print(\"Val accuracy: {:.4f}, loss: {:.4f}\\n\".format(val_acc / 10000, val_loss / 10000))"
   ]
  },
  {
   "cell_type": "markdown",
   "metadata": {},
   "source": [
    "#### Feedable迭代器\n",
    "它提供的功能与可重新初始化迭代器的相同，但在迭代器之间切换时不需要从数据集的开头初始化迭代器。例如，以上面的同一训练和验证数据集为例，您可以使用 tf.data.Iterator.from_string_handle 定义一个可让您在两个数据集之间切换的可馈送迭代器"
   ]
  },
  {
   "cell_type": "code",
   "execution_count": 14,
   "metadata": {},
   "outputs": [],
   "source": [
    "# 定义模型\n",
    "class Model:\n",
    "    def __init__(self, data_x, data_y):\n",
    "        self.n_classes = 10\n",
    "        self.data_x = data_x\n",
    "        self.data_y = data_y\n",
    "        self._create_architecture(self.data_x, self.data_y)\n",
    "    \n",
    "    def _create_architecture(self, x, y):\n",
    "        y_hot = tf.one_hot(y, self.n_classes)\n",
    "        with tf.name_scope(\"Logits\"):\n",
    "            self.logits = self._create_model(x)\n",
    "        predictions = tf.argmax(self.logits, 1, output_type=tf.int32)\n",
    "        with tf.name_scope(\"Loss\"):\n",
    "            self.loss = tf.reduce_mean(tf.losses.softmax_cross_entropy(onehot_labels=y_hot, logits=self.logits))\n",
    "        with tf.name_scope(\"Train\"):\n",
    "            self.optimizer = tf.train.AdamOptimizer().minimize(self.loss)\n",
    "        with tf.name_scope(\"Accuracy\"):\n",
    "            self.accuracy = tf.reduce_sum(tf.cast(tf.equal(predictions, y), tf.float32))\n",
    "            \n",
    "    def _create_model(self, x):\n",
    "        input_data = tf.keras.layers.Input(shape=[28, 28, 1], tensor=x, name=\"Input\")\n",
    "        net = tf.keras.layers.Conv2D(kernel_size=(5, 5), filters=20, activation='relu', name=\"Conv1\")(input_data)\n",
    "        net = tf.keras.layers.MaxPooling2D(pool_size=(2, 2), strides=2, name=\"Pool1\")(net)\n",
    "        net = tf.keras.layers.Conv2D(kernel_size=(5, 5), filters=50, activation='relu', name=\"Conv2\")(net)\n",
    "        net = tf.keras.layers.MaxPooling2D(pool_size=(2, 2), strides=2, name=\"Pool2\")(net)\n",
    "        net = tf.keras.layers.Flatten(name=\"Flatten\")(net)\n",
    "        net = tf.keras.layers.Dense(120, activation='relu', name=\"Dense1\")(net)\n",
    "        net = tf.keras.layers.Dense(84, activation='relu', name=\"Dense2\")(net)\n",
    "        net = tf.keras.layers.Dense(self.n_classes, activation='linear', name=\"Logits\")(net)\n",
    "        return net\n",
    "    def _model_summary(self):\n",
    "        inputs = tf.keras.layers.Input(shape=[28, 28, 1], name=\"Input\")\n",
    "        outputs = self._create_model(inputs)\n",
    "        model_tmp = tf.keras.models.Model(inputs=inputs, outputs=outputs)\n",
    "        model_tmp.summary()"
   ]
  },
  {
   "cell_type": "code",
   "execution_count": 3,
   "metadata": {},
   "outputs": [],
   "source": [
    "# 准备feedable迭代器\n",
    "import os"
   ]
  },
  {
   "cell_type": "code",
   "execution_count": 5,
   "metadata": {},
   "outputs": [
    {
     "name": "stdout",
     "output_type": "stream",
     "text": [
      "['./train_tfrecords/train.tfrecord-045', './train_tfrecords/train.tfrecord-002', './train_tfrecords/train.tfrecord-033']\n",
      "['./test_tfrecords/test.tfrecord-003', './test_tfrecords/test.tfrecord-001', './test_tfrecords/test.tfrecord-002']\n"
     ]
    }
   ],
   "source": [
    "## 准备tfrecord文件名\n",
    "train_filenames = [os.path.join(\"./train_tfrecords/\", i) for i in os.listdir(\"./train_tfrecords/\")]\n",
    "val_filenames = [os.path.join(\"./test_tfrecords/\", i) for i in os.listdir(\"./test_tfrecords/\")]\n",
    "print(train_filenames[:3])\n",
    "print(val_filenames[:3])"
   ]
  },
  {
   "cell_type": "code",
   "execution_count": 6,
   "metadata": {},
   "outputs": [],
   "source": [
    "## 准备解析函数\n",
    "def _parse_func(record):\n",
    "    keys_to_features = {\"img_raw\": tf.FixedLenFeature((), tf.string, default_value=\"\"), \"label\": tf.FixedLenFeature((), tf.int64, default_value=tf.zeros([], tf.int64))}\n",
    "    parsed = tf.parse_single_example(record, keys_to_features)\n",
    "    images = tf.decode_raw(parsed[\"img_raw\"], tf.uint8)\n",
    "    images = tf.reshape(images, [28, 28, 1])\n",
    "    images = tf.cast(images, tf.float32)\n",
    "    images = tf.divide(images, 255.)\n",
    "    labels = tf.cast(parsed[\"label\"], tf.int32)\n",
    "    return images, labels"
   ]
  },
  {
   "cell_type": "code",
   "execution_count": 7,
   "metadata": {},
   "outputs": [],
   "source": [
    "# 设置超参数\n",
    "epochs = 5\n",
    "batch_size = 100"
   ]
  },
  {
   "cell_type": "code",
   "execution_count": 8,
   "metadata": {},
   "outputs": [],
   "source": [
    "## 分别准备训练和验证数据集\n",
    "train_ds = tf.data.TFRecordDataset(train_filenames)\n",
    "train_ds = train_ds.map(_parse_func)\n",
    "train_ds = train_ds.shuffle(60000).batch(batch_size)\n",
    "\n",
    "val_ds = tf.data.TFRecordDataset(val_filenames)\n",
    "val_ds = val_ds.map(_parse_func)\n",
    "val_ds = val_ds.batch(batch_size)"
   ]
  },
  {
   "cell_type": "code",
   "execution_count": 9,
   "metadata": {},
   "outputs": [
    {
     "name": "stdout",
     "output_type": "stream",
     "text": [
      "(tf.float32, tf.int32)\n",
      "(TensorShape([Dimension(None), Dimension(28), Dimension(28), Dimension(1)]), TensorShape([Dimension(None)]))\n"
     ]
    }
   ],
   "source": [
    "print(train_ds.output_types)\n",
    "print(train_ds.output_shapes)"
   ]
  },
  {
   "cell_type": "code",
   "execution_count": 15,
   "metadata": {},
   "outputs": [],
   "source": [
    "## 可馈送迭代器为每个迭代器赋一个独一无二的字符串句柄\n",
    "handle = tf.placeholder(tf.string, shape=[])\n",
    "iterator = tf.data.Iterator.from_string_handle(handle, train_ds.output_types, train_ds.output_shapes)\n",
    "data_x, data_y = iterator.get_next()\n",
    "model = Model(data_x, data_y)"
   ]
  },
  {
   "cell_type": "code",
   "execution_count": 16,
   "metadata": {},
   "outputs": [
    {
     "name": "stdout",
     "output_type": "stream",
     "text": [
      "_________________________________________________________________\n",
      "Layer (type)                 Output Shape              Param #   \n",
      "=================================================================\n",
      "Input (InputLayer)           (None, 28, 28, 1)         0         \n",
      "_________________________________________________________________\n",
      "Conv1 (Conv2D)               (None, 24, 24, 20)        520       \n",
      "_________________________________________________________________\n",
      "Pool1 (MaxPooling2D)         (None, 12, 12, 20)        0         \n",
      "_________________________________________________________________\n",
      "Conv2 (Conv2D)               (None, 8, 8, 50)          25050     \n",
      "_________________________________________________________________\n",
      "Pool2 (MaxPooling2D)         (None, 4, 4, 50)          0         \n",
      "_________________________________________________________________\n",
      "Flatten (Flatten)            (None, 800)               0         \n",
      "_________________________________________________________________\n",
      "Dense1 (Dense)               (None, 120)               96120     \n",
      "_________________________________________________________________\n",
      "Dense2 (Dense)               (None, 84)                10164     \n",
      "_________________________________________________________________\n",
      "Logits (Dense)               (None, 10)                850       \n",
      "=================================================================\n",
      "Total params: 132,704\n",
      "Trainable params: 132,704\n",
      "Non-trainable params: 0\n",
      "_________________________________________________________________\n"
     ]
    }
   ],
   "source": [
    "model._model_summary()"
   ]
  },
  {
   "cell_type": "code",
   "execution_count": 17,
   "metadata": {},
   "outputs": [],
   "source": [
    "## 为训练集和验证集创建可重新初始化迭代器；如果有测试集，还可以为测试集创建one-shot迭代器\n",
    "train_val_iterator = tf.data.Iterator.from_structure(train_ds.output_types, train_ds.output_shapes)\n",
    "train_iterator = train_val_iterator.make_initializer(train_ds)\n",
    "val_iterator = train_val_iterator.make_initializer(val_ds)\n",
    "\n",
    "# test_iterator = test_ds.make_one_shot_iterator()"
   ]
  },
  {
   "cell_type": "code",
   "execution_count": 18,
   "metadata": {},
   "outputs": [],
   "source": [
    "from tqdm import tqdm"
   ]
  },
  {
   "cell_type": "code",
   "execution_count": 19,
   "metadata": {},
   "outputs": [
    {
     "name": "stderr",
     "output_type": "stream",
     "text": [
      "100%|██████████| 60000/60000 [00:28<00:00, 2107.65it/s]\n",
      "  0%|          | 0/60000 [00:00<?, ?it/s]"
     ]
    },
    {
     "name": "stdout",
     "output_type": "stream",
     "text": [
      "\n",
      "Epoch: 1\n",
      "Training accuracy: 0.9347, loss: 0.0021\n",
      "Val accuracy: 0.9823, loss: 0.0005\n",
      "\n"
     ]
    },
    {
     "name": "stderr",
     "output_type": "stream",
     "text": [
      "100%|██████████| 60000/60000 [00:25<00:00, 2342.88it/s]\n",
      "  0%|          | 0/60000 [00:00<?, ?it/s]"
     ]
    },
    {
     "name": "stdout",
     "output_type": "stream",
     "text": [
      "\n",
      "Epoch: 2\n",
      "Training accuracy: 0.9824, loss: 0.0006\n",
      "Val accuracy: 0.9856, loss: 0.0005\n",
      "\n"
     ]
    },
    {
     "name": "stderr",
     "output_type": "stream",
     "text": [
      "100%|██████████| 60000/60000 [00:25<00:00, 2339.32it/s]\n",
      "  0%|          | 0/60000 [00:00<?, ?it/s]"
     ]
    },
    {
     "name": "stdout",
     "output_type": "stream",
     "text": [
      "\n",
      "Epoch: 3\n",
      "Training accuracy: 0.9870, loss: 0.0004\n",
      "Val accuracy: 0.9860, loss: 0.0004\n",
      "\n"
     ]
    },
    {
     "name": "stderr",
     "output_type": "stream",
     "text": [
      "100%|██████████| 60000/60000 [00:25<00:00, 2312.93it/s]\n",
      "  0%|          | 0/60000 [00:00<?, ?it/s]"
     ]
    },
    {
     "name": "stdout",
     "output_type": "stream",
     "text": [
      "\n",
      "Epoch: 4\n",
      "Training accuracy: 0.9894, loss: 0.0003\n",
      "Val accuracy: 0.9908, loss: 0.0003\n",
      "\n"
     ]
    },
    {
     "name": "stderr",
     "output_type": "stream",
     "text": [
      "100%|██████████| 60000/60000 [00:27<00:00, 2214.84it/s]\n"
     ]
    },
    {
     "name": "stdout",
     "output_type": "stream",
     "text": [
      "\n",
      "Epoch: 5\n",
      "Training accuracy: 0.9921, loss: 0.0002\n",
      "Val accuracy: 0.9904, loss: 0.0003\n",
      "\n"
     ]
    }
   ],
   "source": [
    "## 创建会话\n",
    "with tf.Session() as sess:\n",
    "    sess.run(tf.global_variables_initializer())\n",
    "    # 创建句柄\n",
    "    train_val_string = sess.run(train_val_iterator.string_handle())\n",
    "    # test_string = sess.run(test_iterator.string_handle())\n",
    "    \n",
    "    for epoch in range(epochs):\n",
    "        train_loss, train_acc = 0, 0\n",
    "        val_loss, val_acc = 0, 0\n",
    "        \n",
    "        # 开始训练\n",
    "        sess.run(train_iterator)\n",
    "        try:\n",
    "            with tqdm(total=60000) as pbar:\n",
    "                while True:\n",
    "                    _, loss, acc = sess.run([model.optimizer, model.loss, model.accuracy], feed_dict={handle: train_val_string})\n",
    "                    train_loss += loss\n",
    "                    train_acc += acc\n",
    "                    pbar.update(batch_size)\n",
    "        except tf.errors.OutOfRangeError:\n",
    "            pass\n",
    "        \n",
    "        # 开始验证\n",
    "        sess.run(val_iterator)\n",
    "        try:\n",
    "            while True:\n",
    "                loss, acc = sess.run([model.loss, model.accuracy], feed_dict={handle: train_val_string})\n",
    "                val_loss += loss\n",
    "                val_acc += acc\n",
    "        except tf.errors.OutOfRangeError:\n",
    "            pass\n",
    "        \n",
    "        print(\"\\nEpoch: {}\".format(epoch + 1))\n",
    "        print(\"Training accuracy: {:.4f}, loss: {:.4f}\".format(train_acc / 60000, train_loss / 60000))\n",
    "        print(\"Val accuracy: {:.4f}, loss: {:.4f}\\n\".format(val_acc / 10000, val_loss / 10000))\n",
    "        \n",
    "#     test_loss, test_acc = 0, 0\n",
    "#     try:\n",
    "#         while True:\n",
    "#             loss, acc = sess.run([model.loss, model.accuracy], feed_dict={handle: test_string})\n",
    "#             test_loss += loss\n",
    "#             test_acc += acc\n",
    "#     except tf.errors.OutOfRangeError:\n",
    "#         pass\n",
    "# print(\"\\nTest accuracy: {:.4f}, loss: {:.4f}\".format(test_acc / len(y_test), test_loss / len(y_test)))"
   ]
  },
  {
   "cell_type": "code",
   "execution_count": null,
   "metadata": {},
   "outputs": [],
   "source": []
  }
 ],
 "metadata": {
  "kernelspec": {
   "display_name": "Python 3",
   "language": "python",
   "name": "python3"
  },
  "language_info": {
   "codemirror_mode": {
    "name": "ipython",
    "version": 3
   },
   "file_extension": ".py",
   "mimetype": "text/x-python",
   "name": "python",
   "nbconvert_exporter": "python",
   "pygments_lexer": "ipython3",
   "version": "3.5.2"
  }
 },
 "nbformat": 4,
 "nbformat_minor": 2
}
