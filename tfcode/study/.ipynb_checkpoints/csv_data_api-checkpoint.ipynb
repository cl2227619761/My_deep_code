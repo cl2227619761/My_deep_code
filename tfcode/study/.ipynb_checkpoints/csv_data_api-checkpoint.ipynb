{
 "cells": [
  {
   "cell_type": "code",
   "execution_count": 1,
   "metadata": {},
   "outputs": [],
   "source": [
    "import tensorflow as tf\n",
    "import os\n",
    "import numpy as np"
   ]
  },
  {
   "cell_type": "code",
   "execution_count": 2,
   "metadata": {},
   "outputs": [],
   "source": [
    "train_val_files = np.array([os.path.join(\"./mnist_train/\", i, j) for i in os.listdir(\"./mnist_train/\") for j in os.listdir(os.path.join(\"./mnist_train/\", i))])"
   ]
  },
  {
   "cell_type": "code",
   "execution_count": 3,
   "metadata": {},
   "outputs": [
    {
     "data": {
      "text/plain": [
       "60000"
      ]
     },
     "execution_count": 3,
     "metadata": {},
     "output_type": "execute_result"
    }
   ],
   "source": [
    "len(train_val_files)"
   ]
  },
  {
   "cell_type": "code",
   "execution_count": 4,
   "metadata": {},
   "outputs": [
    {
     "name": "stdout",
     "output_type": "stream",
     "text": [
      "['./mnist_train/4/mnist_train_43608.png'\n",
      " './mnist_train/4/mnist_train_39324.png'\n",
      " './mnist_train/4/mnist_train_50389.png']\n"
     ]
    }
   ],
   "source": [
    "print(train_val_files[:3])"
   ]
  },
  {
   "cell_type": "code",
   "execution_count": 5,
   "metadata": {},
   "outputs": [],
   "source": [
    "train_val_labels = np.array([i.split(\"/\")[2] for i in train_val_files]).astype(np.int32)"
   ]
  },
  {
   "cell_type": "code",
   "execution_count": 7,
   "metadata": {},
   "outputs": [
    {
     "data": {
      "text/plain": [
       "60000"
      ]
     },
     "execution_count": 7,
     "metadata": {},
     "output_type": "execute_result"
    }
   ],
   "source": [
    "len(train_val_labels)"
   ]
  },
  {
   "cell_type": "code",
   "execution_count": 8,
   "metadata": {},
   "outputs": [],
   "source": [
    "# 训练集和验证集的划分\n",
    "from sklearn.model_selection import train_test_split\n",
    "\n",
    "train_files, val_files, train_labels, val_labels = train_test_split(train_val_files, train_val_labels, test_size=0.2, random_state=1234)"
   ]
  },
  {
   "cell_type": "code",
   "execution_count": 9,
   "metadata": {},
   "outputs": [
    {
     "name": "stdout",
     "output_type": "stream",
     "text": [
      "['./mnist_train/3/mnist_train_37167.png'\n",
      " './mnist_train/4/mnist_train_4346.png'\n",
      " './mnist_train/6/mnist_train_46003.png']\n",
      "(48000,)\n"
     ]
    }
   ],
   "source": [
    "print(train_files[:3])\n",
    "print(train_files.shape)"
   ]
  },
  {
   "cell_type": "code",
   "execution_count": 10,
   "metadata": {},
   "outputs": [
    {
     "name": "stdout",
     "output_type": "stream",
     "text": [
      "[3 4 6]\n",
      "(48000,)\n"
     ]
    }
   ],
   "source": [
    "print(train_labels[:3])\n",
    "print(train_labels.shape)"
   ]
  },
  {
   "cell_type": "code",
   "execution_count": 11,
   "metadata": {},
   "outputs": [],
   "source": [
    "train_file_label = np.column_stack((train_files, train_labels))"
   ]
  },
  {
   "cell_type": "code",
   "execution_count": 12,
   "metadata": {},
   "outputs": [],
   "source": [
    "val_file_label = np.column_stack((val_files, val_labels))"
   ]
  },
  {
   "cell_type": "code",
   "execution_count": 13,
   "metadata": {},
   "outputs": [
    {
     "name": "stdout",
     "output_type": "stream",
     "text": [
      "(48000, 2)\n",
      "[['./mnist_train/3/mnist_train_37167.png' '3']\n",
      " ['./mnist_train/4/mnist_train_4346.png' '4']\n",
      " ['./mnist_train/6/mnist_train_46003.png' '6']]\n"
     ]
    }
   ],
   "source": [
    "print(train_file_label.shape)\n",
    "print(train_file_label[:3])"
   ]
  },
  {
   "cell_type": "code",
   "execution_count": 14,
   "metadata": {},
   "outputs": [
    {
     "name": "stdout",
     "output_type": "stream",
     "text": [
      "(12000, 2)\n",
      "[['./mnist_train/7/mnist_train_59646.png' '7']\n",
      " ['./mnist_train/9/mnist_train_27780.png' '9']\n",
      " ['./mnist_train/7/mnist_train_53253.png' '7']]\n"
     ]
    }
   ],
   "source": [
    "print(val_file_label.shape)\n",
    "print(val_file_label[:3])"
   ]
  },
  {
   "cell_type": "code",
   "execution_count": 15,
   "metadata": {},
   "outputs": [],
   "source": [
    "np.savetxt(\"./train.csv\", train_file_label, delimiter=\",\", fmt=\"%s\")"
   ]
  },
  {
   "cell_type": "code",
   "execution_count": 16,
   "metadata": {},
   "outputs": [],
   "source": [
    "np.savetxt(\"./val.csv\", val_file_label, delimiter=\",\", fmt=\"%s\")"
   ]
  },
  {
   "cell_type": "code",
   "execution_count": 44,
   "metadata": {},
   "outputs": [
    {
     "name": "stdout",
     "output_type": "stream",
     "text": [
      "(10000,)\n",
      "['./mnist_test/4/mnist_test_9871.png' './mnist_test/4/mnist_test_6715.png'\n",
      " './mnist_test/4/mnist_test_3410.png']\n"
     ]
    }
   ],
   "source": [
    "test_files = np.array([os.path.join(\"./mnist_test/\", i, j) for i in os.listdir(\"./mnist_test/\") for j in os.listdir(os.path.join(\"./mnist_test/\", i))])\n",
    "print(test_files.shape)\n",
    "print(test_files[:3])"
   ]
  },
  {
   "cell_type": "code",
   "execution_count": 45,
   "metadata": {},
   "outputs": [
    {
     "name": "stdout",
     "output_type": "stream",
     "text": [
      "(10000,)\n",
      "['4' '4' '4']\n"
     ]
    }
   ],
   "source": [
    "test_labels = np.array([i.split(\"/\")[2] for i in test_files])\n",
    "print(test_labels.shape)\n",
    "print(test_labels[:3])"
   ]
  },
  {
   "cell_type": "code",
   "execution_count": 46,
   "metadata": {},
   "outputs": [
    {
     "name": "stdout",
     "output_type": "stream",
     "text": [
      "(10000, 2)\n",
      "[['./mnist_test/4/mnist_test_9871.png' '4']\n",
      " ['./mnist_test/4/mnist_test_6715.png' '4']\n",
      " ['./mnist_test/4/mnist_test_3410.png' '4']]\n"
     ]
    }
   ],
   "source": [
    "test_file_label = np.column_stack((test_files, test_labels))\n",
    "print(test_file_label.shape)\n",
    "print(test_file_label[:3])"
   ]
  },
  {
   "cell_type": "code",
   "execution_count": 47,
   "metadata": {},
   "outputs": [],
   "source": [
    "np.savetxt(\"test.csv\", test_file_label, delimiter=\",\", fmt=\"%s\")"
   ]
  },
  {
   "cell_type": "code",
   "execution_count": 17,
   "metadata": {},
   "outputs": [],
   "source": [
    "# 构建训练集的dataset\n",
    "train_names = [\"./train.csv\"]\n",
    "record_defaults = [tf.string, tf.int32]\n",
    "train_ds = tf.data.experimental.CsvDataset(train_names, record_defaults)"
   ]
  },
  {
   "cell_type": "code",
   "execution_count": 18,
   "metadata": {},
   "outputs": [
    {
     "data": {
      "text/plain": [
       "(tf.string, tf.int32)"
      ]
     },
     "execution_count": 18,
     "metadata": {},
     "output_type": "execute_result"
    }
   ],
   "source": [
    "train_ds.output_types"
   ]
  },
  {
   "cell_type": "code",
   "execution_count": 19,
   "metadata": {},
   "outputs": [
    {
     "data": {
      "text/plain": [
       "(TensorShape([]), TensorShape([]))"
      ]
     },
     "execution_count": 19,
     "metadata": {},
     "output_type": "execute_result"
    }
   ],
   "source": [
    "train_ds.output_shapes"
   ]
  },
  {
   "cell_type": "code",
   "execution_count": 8,
   "metadata": {},
   "outputs": [
    {
     "name": "stdout",
     "output_type": "stream",
     "text": [
      "b'./mnist_train/4/mnist_train_43608.png'\n",
      "4\n",
      "Tensor(\"DecodePng_1:0\", shape=(?, ?, ?), dtype=uint8)\n"
     ]
    },
    {
     "data": {
      "image/png": "[encoded data removed]",
      "text/plain": [
       "<Figure size 432x288 with 1 Axes>"
      ]
     },
     "metadata": {
      "needs_background": "light"
     },
     "output_type": "display_data"
    }
   ],
   "source": [
    "# 检查数据集对不对\n",
    "# iterator = train_ds.make_one_shot_iterator()\n",
    "# next_element = iterator.get_next()\n",
    "# import matplotlib.pyplot as plt\n",
    "\n",
    "# with tf.Session() as sess:\n",
    "#     for i in range(1):\n",
    "#         img, label = sess.run(next_element)\n",
    "#         print(img)\n",
    "#         print(label)\n",
    "#         im_string = tf.read_file(img)\n",
    "#         im = tf.image.decode_png(im_string)\n",
    "#         print(im)\n",
    "#         img = sess.run(im)\n",
    "#         img = img.squeeze()\n",
    "#         plt.imshow(img, cmap=\"gray\")\n",
    "#         plt.show()"
   ]
  },
  {
   "cell_type": "code",
   "execution_count": 20,
   "metadata": {},
   "outputs": [],
   "source": [
    "# 构建验证集的dataset\n",
    "val_names = [\"./val.csv\"]\n",
    "record_defaults = [tf.string, tf.int32]\n",
    "val_ds = tf.data.experimental.CsvDataset(val_names, record_defaults)"
   ]
  },
  {
   "cell_type": "code",
   "execution_count": 21,
   "metadata": {},
   "outputs": [],
   "source": [
    "# 构建测试集的dataset\n",
    "test_names = [\"./test.csv\"]\n",
    "record_defaults = [tf.string, tf.int32]\n",
    "test_ds = tf.data.experimental.CsvDataset(test_names, record_defaults)"
   ]
  },
  {
   "cell_type": "code",
   "execution_count": 22,
   "metadata": {},
   "outputs": [
    {
     "name": "stdout",
     "output_type": "stream",
     "text": [
      "(tf.string, tf.int32)\n",
      "(TensorShape([]), TensorShape([]))\n"
     ]
    }
   ],
   "source": [
    "print(test_ds.output_types)\n",
    "print(test_ds.output_shapes)"
   ]
  },
  {
   "cell_type": "code",
   "execution_count": 13,
   "metadata": {},
   "outputs": [
    {
     "name": "stdout",
     "output_type": "stream",
     "text": [
      "b'./mnist_test/4/mnist_test_9871.png'\n",
      "4\n"
     ]
    },
    {
     "data": {
      "image/png": "[encoded data removed]",
      "text/plain": [
       "<Figure size 432x288 with 1 Axes>"
      ]
     },
     "metadata": {
      "needs_background": "light"
     },
     "output_type": "display_data"
    }
   ],
   "source": [
    "# 测试集dataset的对错\n",
    "# iterator = test_ds.make_one_shot_iterator()\n",
    "# next_element = iterator.get_next()\n",
    "\n",
    "# with tf.Session() as sess:\n",
    "#     for i in range(1):\n",
    "#         im, lab = sess.run(next_element)\n",
    "#         print(im)\n",
    "#         print(lab)\n",
    "#         im_string = tf.read_file(im)\n",
    "#         img = tf.image.decode_png(im_string)\n",
    "#         img = tf.cast(img, tf.float32)\n",
    "#         img = tf.squeeze(img)\n",
    "#         img = sess.run(img)\n",
    "#         plt.imshow(img, cmap=\"gray\")\n",
    "#         plt.show()"
   ]
  },
  {
   "cell_type": "code",
   "execution_count": 23,
   "metadata": {},
   "outputs": [],
   "source": [
    "# dataset转换函数\n",
    "def _parse_image(filename, label):\n",
    "    \"\"\"dataset转换函数\"\"\"\n",
    "    image_string = tf.read_file(filename)\n",
    "    image_decoded = tf.image.decode_png(image_string)\n",
    "    image_reshape = tf.reshape(image_decoded, [28, 28, 1])\n",
    "    image_converted = tf.cast(image_reshape, tf.float32)\n",
    "    image_scaled = tf.divide(image_converted, 255.)\n",
    "    return image_scaled, label"
   ]
  },
  {
   "cell_type": "code",
   "execution_count": 24,
   "metadata": {},
   "outputs": [],
   "source": [
    "# 训练集dataset和测试集dataset转换\n",
    "import multiprocessing as mt\n",
    "\n",
    "train_ds = train_ds.map(_parse_image, num_parallel_calls=mt.cpu_count())\n",
    "val_ds = val_ds.map(_parse_image, num_parallel_calls=mt.cpu_count())\n",
    "test_ds = test_ds.map(_parse_image, num_parallel_calls=mt.cpu_count())"
   ]
  },
  {
   "cell_type": "code",
   "execution_count": 25,
   "metadata": {},
   "outputs": [
    {
     "name": "stdout",
     "output_type": "stream",
     "text": [
      "(TensorShape([Dimension(28), Dimension(28), Dimension(1)]), TensorShape([]))\n",
      "(tf.float32, tf.int32)\n"
     ]
    }
   ],
   "source": [
    "print(train_ds.output_shapes)\n",
    "print(train_ds.output_types)"
   ]
  },
  {
   "cell_type": "code",
   "execution_count": 26,
   "metadata": {},
   "outputs": [],
   "source": [
    "train_ds = train_ds.shuffle(48000).batch(100)\n",
    "val_ds = val_ds.shuffle(12000).batch(100)"
   ]
  },
  {
   "cell_type": "code",
   "execution_count": 27,
   "metadata": {},
   "outputs": [
    {
     "name": "stdout",
     "output_type": "stream",
     "text": [
      "(tf.float32, tf.int32)\n",
      "(TensorShape([Dimension(None), Dimension(28), Dimension(28), Dimension(1)]), TensorShape([Dimension(None)]))\n"
     ]
    }
   ],
   "source": [
    "print(train_ds.output_types)\n",
    "print(train_ds.output_shapes)"
   ]
  },
  {
   "cell_type": "code",
   "execution_count": 28,
   "metadata": {},
   "outputs": [],
   "source": [
    "# 创建可馈送迭代器句柄\n",
    "handle = tf.placeholder(tf.string, shape=[])\n",
    "iterator = tf.data.Iterator.from_string_handle(handle, train_ds.output_types, train_ds.output_shapes)\n",
    "data_x, data_y = iterator.get_next()"
   ]
  },
  {
   "cell_type": "code",
   "execution_count": 29,
   "metadata": {},
   "outputs": [],
   "source": [
    "# 为训练集和验证集创建可重新初始化迭代器，为测试集创建one-shot迭代器\n",
    "train_val_iterator = tf.data.Iterator.from_structure(train_ds.output_types, train_ds.output_shapes)\n",
    "train_iterator = train_val_iterator.make_initializer(train_ds)\n",
    "val_iterator = train_val_iterator.make_initializer(val_ds)\n",
    "test_iterator = test_ds.make_one_shot_iterator()"
   ]
  },
  {
   "cell_type": "code",
   "execution_count": null,
   "metadata": {},
   "outputs": [],
   "source": [
    "# 创建LeNet-5模型\n",
    "class MyModel:\n",
    "    def __init__(self, data_x, data_y):\n",
    "        self.n_classes = 10\n",
    "    \n",
    "    def _create_architecture(self, x, y):\n",
    "    \n",
    "    def _create_model(self, x):"
   ]
  }
 ],
 "metadata": {
  "kernelspec": {
   "display_name": "Python 3",
   "language": "python",
   "name": "python3"
  },
  "language_info": {
   "codemirror_mode": {
    "name": "ipython",
    "version": 3
   },
   "file_extension": ".py",
   "mimetype": "text/x-python",
   "name": "python",
   "nbconvert_exporter": "python",
   "pygments_lexer": "ipython3",
   "version": "3.5.2"
  }
 },
 "nbformat": 4,
 "nbformat_minor": 2
}
