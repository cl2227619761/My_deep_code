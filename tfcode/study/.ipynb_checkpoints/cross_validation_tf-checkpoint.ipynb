{
 "cells": [
  {
   "cell_type": "code",
   "execution_count": 1,
   "metadata": {},
   "outputs": [],
   "source": [
    "import tensorflow as tf\n",
    "import numpy as np\n",
    "from sklearn.model_selection import LeaveOneOut, KFold"
   ]
  },
  {
   "cell_type": "code",
   "execution_count": 2,
   "metadata": {},
   "outputs": [],
   "source": [
    "train_files_labels = np.loadtxt(\"./train.csv\", dtype=str, delimiter=\",\").tolist()"
   ]
  },
  {
   "cell_type": "code",
   "execution_count": 3,
   "metadata": {},
   "outputs": [
    {
     "name": "stdout",
     "output_type": "stream",
     "text": [
      "[['./mnist_train/3/mnist_train_37167.png', '3'], ['./mnist_train/4/mnist_train_4346.png', '4'], ['./mnist_train/6/mnist_train_46003.png', '6']]\n"
     ]
    }
   ],
   "source": [
    "print(train_files_labels[:3])"
   ]
  },
  {
   "cell_type": "code",
   "execution_count": 4,
   "metadata": {},
   "outputs": [],
   "source": [
    "files, labels = zip(*[(l[0], int(l[1])) for l in train_files_labels])"
   ]
  },
  {
   "cell_type": "code",
   "execution_count": 5,
   "metadata": {},
   "outputs": [
    {
     "name": "stdout",
     "output_type": "stream",
     "text": [
      "('./mnist_train/3/mnist_train_37167.png', './mnist_train/4/mnist_train_4346.png', './mnist_train/6/mnist_train_46003.png')\n",
      "(3, 4, 6)\n"
     ]
    }
   ],
   "source": [
    "print(files[:3])\n",
    "print(labels[:3])"
   ]
  },
  {
   "cell_type": "code",
   "execution_count": 6,
   "metadata": {},
   "outputs": [
    {
     "name": "stdout",
     "output_type": "stream",
     "text": [
      "['./mnist_train/5/mnist_train_50019.png'\n",
      " './mnist_train/1/mnist_train_54675.png'\n",
      " './mnist_train/7/mnist_train_28781.png' ...\n",
      " './mnist_train/7/mnist_train_17533.png'\n",
      " './mnist_train/1/mnist_train_58991.png'\n",
      " './mnist_train/0/mnist_train_28101.png']\n",
      "['./mnist_train/3/mnist_train_37167.png'\n",
      " './mnist_train/4/mnist_train_4346.png'\n",
      " './mnist_train/6/mnist_train_46003.png' ...\n",
      " './mnist_train/2/mnist_train_39739.png'\n",
      " './mnist_train/4/mnist_train_24810.png'\n",
      " './mnist_train/8/mnist_train_29729.png']\n",
      "(32000,)\n",
      "(16000,)\n",
      "------------------------------------------------\n",
      "['./mnist_train/3/mnist_train_37167.png'\n",
      " './mnist_train/4/mnist_train_4346.png'\n",
      " './mnist_train/6/mnist_train_46003.png' ...\n",
      " './mnist_train/7/mnist_train_17533.png'\n",
      " './mnist_train/1/mnist_train_58991.png'\n",
      " './mnist_train/0/mnist_train_28101.png']\n",
      "['./mnist_train/5/mnist_train_50019.png'\n",
      " './mnist_train/1/mnist_train_54675.png'\n",
      " './mnist_train/7/mnist_train_28781.png' ...\n",
      " './mnist_train/0/mnist_train_1625.png'\n",
      " './mnist_train/1/mnist_train_53310.png'\n",
      " './mnist_train/5/mnist_train_13331.png']\n",
      "(32000,)\n",
      "(16000,)\n",
      "------------------------------------------------\n",
      "['./mnist_train/3/mnist_train_37167.png'\n",
      " './mnist_train/4/mnist_train_4346.png'\n",
      " './mnist_train/6/mnist_train_46003.png' ...\n",
      " './mnist_train/0/mnist_train_1625.png'\n",
      " './mnist_train/1/mnist_train_53310.png'\n",
      " './mnist_train/5/mnist_train_13331.png']\n",
      "['./mnist_train/5/mnist_train_39964.png'\n",
      " './mnist_train/6/mnist_train_23905.png'\n",
      " './mnist_train/2/mnist_train_48420.png' ...\n",
      " './mnist_train/7/mnist_train_17533.png'\n",
      " './mnist_train/1/mnist_train_58991.png'\n",
      " './mnist_train/0/mnist_train_28101.png']\n",
      "(32000,)\n",
      "(16000,)\n",
      "------------------------------------------------\n"
     ]
    }
   ],
   "source": [
    "for train_index, test_index in KFold(3).split(files):\n",
    "    print(np.array(files)[train_index])\n",
    "    print(np.array(files)[test_index])\n",
    "    print(np.array(files)[train_index].shape)\n",
    "    print(np.array(files)[test_index].shape)\n",
    "    print(\"------------------------------------------------\")"
   ]
  },
  {
   "cell_type": "code",
   "execution_count": 26,
   "metadata": {},
   "outputs": [],
   "source": [
    "# 从iterator创建数据集，好处是使用交叉验证进行处理数据\n",
    "def make_dataset(x_data, y_data, n_splits):\n",
    "    x_trains = []\n",
    "    y_trains = []\n",
    "    x_tests = []\n",
    "    y_tests = []\n",
    "    for train_index, test_index in KFold(n_splits).split(x_data):\n",
    "        x_train, x_test = np.array(x_data)[train_index], np.array(x_data)[test_index]\n",
    "        y_train, y_test = np.array(y_data)[train_index], np.array(y_data)[test_index]\n",
    "        x_trains.append(x_train)\n",
    "        y_trains.append(y_train)\n",
    "        x_tests.append(x_test)\n",
    "        y_tests.append(y_test)\n",
    "    return np.array(x_trains), np.array(y_trains), np.array(x_tests), np.array(y_tests)"
   ]
  },
  {
   "cell_type": "code",
   "execution_count": 27,
   "metadata": {},
   "outputs": [],
   "source": [
    "x_train, y_train, x_test, y_test = make_dataset(files, labels, 3)"
   ]
  },
  {
   "cell_type": "code",
   "execution_count": 29,
   "metadata": {},
   "outputs": [
    {
     "name": "stdout",
     "output_type": "stream",
     "text": [
      "[['./mnist_train/5/mnist_train_50019.png'\n",
      "  './mnist_train/1/mnist_train_54675.png'\n",
      "  './mnist_train/7/mnist_train_28781.png' ...\n",
      "  './mnist_train/7/mnist_train_17533.png'\n",
      "  './mnist_train/1/mnist_train_58991.png'\n",
      "  './mnist_train/0/mnist_train_28101.png']\n",
      " ['./mnist_train/3/mnist_train_37167.png'\n",
      "  './mnist_train/4/mnist_train_4346.png'\n",
      "  './mnist_train/6/mnist_train_46003.png' ...\n",
      "  './mnist_train/7/mnist_train_17533.png'\n",
      "  './mnist_train/1/mnist_train_58991.png'\n",
      "  './mnist_train/0/mnist_train_28101.png']\n",
      " ['./mnist_train/3/mnist_train_37167.png'\n",
      "  './mnist_train/4/mnist_train_4346.png'\n",
      "  './mnist_train/6/mnist_train_46003.png' ...\n",
      "  './mnist_train/0/mnist_train_1625.png'\n",
      "  './mnist_train/1/mnist_train_53310.png'\n",
      "  './mnist_train/5/mnist_train_13331.png']]\n",
      "(3, 32000)\n"
     ]
    }
   ],
   "source": [
    "print(x_train)\n",
    "print(x_train.shape)"
   ]
  },
  {
   "cell_type": "code",
   "execution_count": 30,
   "metadata": {},
   "outputs": [
    {
     "name": "stdout",
     "output_type": "stream",
     "text": [
      "[[5 1 7 ... 7 1 0]\n",
      " [3 4 6 ... 7 1 0]\n",
      " [3 4 6 ... 0 1 5]]\n",
      "(3, 32000)\n"
     ]
    }
   ],
   "source": [
    "print(y_train)\n",
    "print(y_train.shape)"
   ]
  },
  {
   "cell_type": "code",
   "execution_count": 33,
   "metadata": {},
   "outputs": [
    {
     "data": {
      "text/plain": [
       "array([['./mnist_train/5/mnist_train_50019.png', '5'],\n",
       "       ['./mnist_train/1/mnist_train_54675.png', '1'],\n",
       "       ['./mnist_train/7/mnist_train_28781.png', '7'],\n",
       "       ...,\n",
       "       ['./mnist_train/7/mnist_train_17533.png', '7'],\n",
       "       ['./mnist_train/1/mnist_train_58991.png', '1'],\n",
       "       ['./mnist_train/0/mnist_train_28101.png', '0']], dtype='<U37')"
      ]
     },
     "execution_count": 33,
     "metadata": {},
     "output_type": "execute_result"
    }
   ],
   "source": [
    "np.column_stack((x_train[0], y_train[0]))"
   ]
  },
  {
   "cell_type": "code",
   "execution_count": 34,
   "metadata": {},
   "outputs": [],
   "source": [
    "def _parse_image(filename, label):\n",
    "    image_string = tf.read_file(filename)\n",
    "    image_decoded = tf.image.decode_png(image_string)\n",
    "    image_reshaped = tf.reshape(image_decoded, [28, 28, 1])\n",
    "    image_converted = tf.cast(image_reshaped, tf.float32)\n",
    "    image_scaled = tf.divide(image_converted, 255.)\n",
    "    labels = tf.cast(label, tf.int32)\n",
    "    return image_scaled, labels"
   ]
  },
  {
   "cell_type": "code",
   "execution_count": 35,
   "metadata": {},
   "outputs": [],
   "source": [
    "train_ds_1 = tf.data.Dataset.from_tensor_slices((x_train[0], y_train[0]))"
   ]
  },
  {
   "cell_type": "code",
   "execution_count": 36,
   "metadata": {},
   "outputs": [
    {
     "name": "stdout",
     "output_type": "stream",
     "text": [
      "(TensorShape([]), TensorShape([]))\n",
      "(tf.string, tf.int64)\n"
     ]
    }
   ],
   "source": [
    "print(train_ds_1.output_shapes)\n",
    "print(train_ds_1.output_types)"
   ]
  },
  {
   "cell_type": "code",
   "execution_count": 37,
   "metadata": {},
   "outputs": [
    {
     "name": "stdout",
     "output_type": "stream",
     "text": [
      "(b'./mnist_train/5/mnist_train_50019.png', 5)\n"
     ]
    }
   ],
   "source": [
    "iterator = train_ds_1.make_one_shot_iterator()\n",
    "next_element = iterator.get_next()\n",
    "with tf.Session() as sess:\n",
    "    for i in range(1):\n",
    "        print(sess.run(next_element))"
   ]
  },
  {
   "cell_type": "code",
   "execution_count": 38,
   "metadata": {},
   "outputs": [
    {
     "name": "stdout",
     "output_type": "stream",
     "text": [
      "(TensorShape([Dimension(28), Dimension(28), Dimension(1)]), TensorShape([]))\n",
      "(tf.float32, tf.int32)\n"
     ]
    }
   ],
   "source": [
    "import multiprocessing as mt\n",
    "\n",
    "train_ds_1 = train_ds_1.map(_parse_image, num_parallel_calls=mt.cpu_count())\n",
    "print(train_ds_1.output_shapes)\n",
    "print(train_ds_1.output_types)"
   ]
  },
  {
   "cell_type": "code",
   "execution_count": 41,
   "metadata": {},
   "outputs": [],
   "source": [
    "iterator = train_ds_1.make_one_shot_iterator()\n",
    "next_element = iterator.get_next()"
   ]
  },
  {
   "cell_type": "code",
   "execution_count": 47,
   "metadata": {},
   "outputs": [
    {
     "name": "stdout",
     "output_type": "stream",
     "text": [
      "5\n",
      "------------------------------------\n"
     ]
    },
    {
     "data": {
      "image/png": "[encoded data removed]",
      "text/plain": [
       "<Figure size 432x288 with 1 Axes>"
      ]
     },
     "metadata": {
      "needs_background": "light"
     },
     "output_type": "display_data"
    }
   ],
   "source": [
    "import matplotlib.pyplot as plt\n",
    "\n",
    "with tf.Session() as sess:\n",
    "    for i in range(1):\n",
    "        tmp_im, tmp_label = sess.run(next_element)\n",
    "        tmp_im = tmp_im.squeeze()\n",
    "        print(tmp_label)\n",
    "        print(\"------------------------------------\")\n",
    "        plt.imshow(tmp_im, cmap=\"gray\")\n",
    "        plt.show()"
   ]
  },
  {
   "cell_type": "code",
   "execution_count": 49,
   "metadata": {},
   "outputs": [],
   "source": [
    "# 创建LeNet-5模型\n",
    "class MyModel:\n",
    "    def __init__(self, data_x, data_y):\n",
    "        self.n_classes = 10\n",
    "        self._create_architecture(data_x, data_y)\n",
    "        \n",
    "    def _create_architecture(self, x, y):\n",
    "        self.logits = self._create_model(x)\n",
    "        predictions = tf.argmax(self.logits, 1, output_type=tf.int32)\n",
    "        self.loss = tf.reduce_mean(tf.losses.sparse_softmax_cross_entropy(labels=y, logits=self.logits))\n",
    "        self.train_step = tf.train.AdamOptimizer().minimize(self.loss)\n",
    "        self.accuracy = tf.reduce_sum(tf.cast(tf.equal(predictions, y), tf.float32))\n",
    "        \n",
    "    def _create_model(self, x):\n",
    "        input_tensor = tf.keras.layers.Input(shape=[28, 28, 1], tensor=x, name=\"Input\")\n",
    "        net = tf.keras.layers.Conv2D(kernel_size=(5, 5), filters=20, activation=\"relu\", name=\"Conv1\")(input_tensor)\n",
    "        net = tf.keras.layers.MaxPooling2D(pool_size=(2, 2), name=\"Pool1\")(net)\n",
    "        net = tf.keras.layers.Conv2D(kernel_size=(5, 5), filters=50, activation=\"relu\", name=\"Conv2\")(net)\n",
    "        net = tf.keras.layers.MaxPooling2D(pool_size=(2, 2), name=\"Pool2\")(net)\n",
    "        net = tf.keras.layers.Flatten(name=\"Flatten\")(net)\n",
    "        net = tf.keras.layers.Dense(120, activation=\"relu\", name=\"relu\")(net)\n",
    "        net = tf.keras.layers.Dense(84, activation=\"relu\", name=\"relu\")(net)\n",
    "        net = tf.keras.layers.Dense(self.n_classes, activation=\"linear\", name=\"Logits\")(net)\n",
    "        return net"
   ]
  },
  {
   "cell_type": "code",
   "execution_count": 50,
   "metadata": {},
   "outputs": [],
   "source": [
    "from tqdm import tqdm"
   ]
  },
  {
   "cell_type": "markdown",
   "metadata": {},
   "source": [
    "### 交叉验证的tensorflow实现"
   ]
  },
  {
   "cell_type": "code",
   "execution_count": 51,
   "metadata": {},
   "outputs": [
    {
     "name": "stdout",
     "output_type": "stream",
     "text": [
      "######Fold: 1########\n"
     ]
    },
    {
     "name": "stderr",
     "output_type": "stream",
     "text": [
      "100%|██████████| 32000/32000 [04:11<00:00, 127.48it/s] \n",
      "  0%|          | 0/32000 [00:00<?, ?it/s]"
     ]
    },
    {
     "name": "stdout",
     "output_type": "stream",
     "text": [
      "Epoch: 1\n",
      "Training accuracy: 0.9009, loss: 0.0032\n",
      "Val accuracy: 0.9686, loss: 0.0010\n",
      "\n"
     ]
    },
    {
     "name": "stderr",
     "output_type": "stream",
     "text": [
      "100%|██████████| 32000/32000 [00:15<00:00, 2130.09it/s]\n",
      "  0%|          | 0/32000 [00:00<?, ?it/s]"
     ]
    },
    {
     "name": "stdout",
     "output_type": "stream",
     "text": [
      "Epoch: 2\n",
      "Training accuracy: 0.9758, loss: 0.0008\n",
      "Val accuracy: 0.9764, loss: 0.0007\n",
      "\n"
     ]
    },
    {
     "name": "stderr",
     "output_type": "stream",
     "text": [
      "100%|██████████| 32000/32000 [00:15<00:00, 2112.53it/s]\n",
      "  0%|          | 0/32000 [00:00<?, ?it/s]"
     ]
    },
    {
     "name": "stdout",
     "output_type": "stream",
     "text": [
      "Epoch: 3\n",
      "Training accuracy: 0.9836, loss: 0.0005\n",
      "Val accuracy: 0.9829, loss: 0.0005\n",
      "\n"
     ]
    },
    {
     "name": "stderr",
     "output_type": "stream",
     "text": [
      "100%|██████████| 32000/32000 [00:15<00:00, 2132.87it/s]\n",
      "  0%|          | 0/32000 [00:00<?, ?it/s]"
     ]
    },
    {
     "name": "stdout",
     "output_type": "stream",
     "text": [
      "Epoch: 4\n",
      "Training accuracy: 0.9871, loss: 0.0004\n",
      "Val accuracy: 0.9826, loss: 0.0006\n",
      "\n"
     ]
    },
    {
     "name": "stderr",
     "output_type": "stream",
     "text": [
      "100%|██████████| 32000/32000 [00:14<00:00, 2151.52it/s]\n"
     ]
    },
    {
     "name": "stdout",
     "output_type": "stream",
     "text": [
      "Epoch: 5\n",
      "Training accuracy: 0.9895, loss: 0.0003\n",
      "Val accuracy: 0.9856, loss: 0.0005\n",
      "\n",
      "######Fold: 2########\n"
     ]
    },
    {
     "name": "stderr",
     "output_type": "stream",
     "text": [
      "100%|██████████| 32000/32000 [00:15<00:00, 2088.15it/s]\n",
      "  0%|          | 0/32000 [00:00<?, ?it/s]"
     ]
    },
    {
     "name": "stdout",
     "output_type": "stream",
     "text": [
      "Epoch: 1\n",
      "Training accuracy: 0.9056, loss: 0.0032\n",
      "Val accuracy: 0.9659, loss: 0.0011\n",
      "\n"
     ]
    },
    {
     "name": "stderr",
     "output_type": "stream",
     "text": [
      "100%|██████████| 32000/32000 [00:15<00:00, 2094.68it/s]\n",
      "  0%|          | 0/32000 [00:00<?, ?it/s]"
     ]
    },
    {
     "name": "stdout",
     "output_type": "stream",
     "text": [
      "Epoch: 2\n",
      "Training accuracy: 0.9746, loss: 0.0009\n",
      "Val accuracy: 0.9798, loss: 0.0007\n",
      "\n"
     ]
    },
    {
     "name": "stderr",
     "output_type": "stream",
     "text": [
      "100%|██████████| 32000/32000 [00:15<00:00, 2127.82it/s]\n",
      "  0%|          | 0/32000 [00:00<?, ?it/s]"
     ]
    },
    {
     "name": "stdout",
     "output_type": "stream",
     "text": [
      "Epoch: 3\n",
      "Training accuracy: 0.9827, loss: 0.0006\n",
      "Val accuracy: 0.9825, loss: 0.0005\n",
      "\n"
     ]
    },
    {
     "name": "stderr",
     "output_type": "stream",
     "text": [
      "100%|██████████| 32000/32000 [00:14<00:00, 2139.27it/s]\n",
      "  0%|          | 0/32000 [00:00<?, ?it/s]"
     ]
    },
    {
     "name": "stdout",
     "output_type": "stream",
     "text": [
      "Epoch: 4\n",
      "Training accuracy: 0.9864, loss: 0.0004\n",
      "Val accuracy: 0.9862, loss: 0.0004\n",
      "\n"
     ]
    },
    {
     "name": "stderr",
     "output_type": "stream",
     "text": [
      "100%|██████████| 32000/32000 [00:14<00:00, 2160.92it/s]\n"
     ]
    },
    {
     "name": "stdout",
     "output_type": "stream",
     "text": [
      "Epoch: 5\n",
      "Training accuracy: 0.9890, loss: 0.0003\n",
      "Val accuracy: 0.9847, loss: 0.0005\n",
      "\n",
      "######Fold: 3########\n"
     ]
    },
    {
     "name": "stderr",
     "output_type": "stream",
     "text": [
      "100%|██████████| 32000/32000 [00:15<00:00, 2130.87it/s]\n",
      "  0%|          | 0/32000 [00:00<?, ?it/s]"
     ]
    },
    {
     "name": "stdout",
     "output_type": "stream",
     "text": [
      "Epoch: 1\n",
      "Training accuracy: 0.9045, loss: 0.0032\n",
      "Val accuracy: 0.9690, loss: 0.0011\n",
      "\n"
     ]
    },
    {
     "name": "stderr",
     "output_type": "stream",
     "text": [
      "100%|██████████| 32000/32000 [00:15<00:00, 2127.41it/s]\n",
      "  0%|          | 0/32000 [00:00<?, ?it/s]"
     ]
    },
    {
     "name": "stdout",
     "output_type": "stream",
     "text": [
      "Epoch: 2\n",
      "Training accuracy: 0.9754, loss: 0.0008\n",
      "Val accuracy: 0.9762, loss: 0.0008\n",
      "\n"
     ]
    },
    {
     "name": "stderr",
     "output_type": "stream",
     "text": [
      "100%|██████████| 32000/32000 [00:14<00:00, 2135.81it/s]\n",
      "  0%|          | 0/32000 [00:00<?, ?it/s]"
     ]
    },
    {
     "name": "stdout",
     "output_type": "stream",
     "text": [
      "Epoch: 3\n",
      "Training accuracy: 0.9832, loss: 0.0005\n",
      "Val accuracy: 0.9834, loss: 0.0005\n",
      "\n"
     ]
    },
    {
     "name": "stderr",
     "output_type": "stream",
     "text": [
      "100%|██████████| 32000/32000 [00:14<00:00, 2144.82it/s]\n",
      "  0%|          | 0/32000 [00:00<?, ?it/s]"
     ]
    },
    {
     "name": "stdout",
     "output_type": "stream",
     "text": [
      "Epoch: 4\n",
      "Training accuracy: 0.9878, loss: 0.0004\n",
      "Val accuracy: 0.9854, loss: 0.0005\n",
      "\n"
     ]
    },
    {
     "name": "stderr",
     "output_type": "stream",
     "text": [
      "100%|██████████| 32000/32000 [00:14<00:00, 2147.06it/s]\n"
     ]
    },
    {
     "name": "stdout",
     "output_type": "stream",
     "text": [
      "Epoch: 5\n",
      "Training accuracy: 0.9893, loss: 0.0003\n",
      "Val accuracy: 0.9867, loss: 0.0005\n",
      "\n"
     ]
    }
   ],
   "source": [
    "# 实施交叉验证\n",
    "for i in range(len(x_train)):\n",
    "    print(\"######Fold: {}########\".format(i + 1))\n",
    "    train_ds = tf.data.Dataset.from_tensor_slices((x_train[i], y_train[i]))\n",
    "    train_ds = train_ds.map(_parse_image, num_parallel_calls=mt.cpu_count())\n",
    "    train_ds = train_ds.shuffle(32000).batch(100)\n",
    "    \n",
    "    val_ds = tf.data.Dataset.from_tensor_slices((x_test[i], y_test[i]))\n",
    "    val_ds = val_ds.map(_parse_image, num_parallel_calls=mt.cpu_count())\n",
    "    val_ds = val_ds.batch(100)\n",
    "    \n",
    "    # 创建句柄\n",
    "    handle = tf.placeholder(tf.string, shape=[])\n",
    "    iterator = tf.data.Iterator.from_string_handle(handle, train_ds.output_types, train_ds.output_shapes)\n",
    "    data_x, data_y = iterator.get_next()\n",
    "    model = MyModel(data_x, data_y)\n",
    "    \n",
    "    # 可重新初始化迭代器\n",
    "    train_val_iterator = tf.data.Iterator.from_structure(train_ds.output_types, train_ds.output_shapes)\n",
    "    train_iterator = train_val_iterator.make_initializer(train_ds)\n",
    "    val_iterator = train_val_iterator.make_initializer(val_ds)\n",
    "    \n",
    "    # 创建会话\n",
    "    with tf.Session() as sess:\n",
    "        sess.run(tf.global_variables_initializer())\n",
    "        train_val_string = sess.run(train_val_iterator.string_handle())\n",
    "        \n",
    "        for epoch in range(5):\n",
    "            train_loss, train_acc = 0, 0\n",
    "            val_loss, val_acc = 0, 0\n",
    "            \n",
    "            # 开始训练\n",
    "            sess.run(train_iterator)\n",
    "            try:\n",
    "                with tqdm(total=32000) as pbar:\n",
    "                    while True:\n",
    "                        _, loss, acc = sess.run([model.train_step, model.loss, model.accuracy], feed_dict={handle: train_val_string})\n",
    "                        train_loss += loss\n",
    "                        train_acc += acc\n",
    "                        pbar.update(100)\n",
    "            except tf.errors.OutOfRangeError:\n",
    "                pass\n",
    "            \n",
    "            # 开始验证\n",
    "            sess.run(val_iterator)\n",
    "            try:\n",
    "                while True:\n",
    "                    loss, acc = sess.run([model.loss, model.accuracy], feed_dict={handle: train_val_string})\n",
    "                    val_loss += loss\n",
    "                    val_acc += acc\n",
    "            except tf.errors.OutOfRangeError:\n",
    "                pass\n",
    "            \n",
    "            print(\"Epoch: {}\".format(epoch + 1))\n",
    "            print(\"Training accuracy: {:.4f}, loss: {:.4f}\".format(train_acc / 32000, train_loss / 32000))\n",
    "            print(\"Val accuracy: {:.4f}, loss: {:.4f}\\n\".format(val_acc / 16000, val_loss / 16000))"
   ]
  },
  {
   "cell_type": "code",
   "execution_count": null,
   "metadata": {},
   "outputs": [],
   "source": []
  }
 ],
 "metadata": {
  "kernelspec": {
   "display_name": "Python 3",
   "language": "python",
   "name": "python3"
  },
  "language_info": {
   "codemirror_mode": {
    "name": "ipython",
    "version": 3
   },
   "file_extension": ".py",
   "mimetype": "text/x-python",
   "name": "python",
   "nbconvert_exporter": "python",
   "pygments_lexer": "ipython3",
   "version": "3.5.2"
  }
 },
 "nbformat": 4,
 "nbformat_minor": 2
}
