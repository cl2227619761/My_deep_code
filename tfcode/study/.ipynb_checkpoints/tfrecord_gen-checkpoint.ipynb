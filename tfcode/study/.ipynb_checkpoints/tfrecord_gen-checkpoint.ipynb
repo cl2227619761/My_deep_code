{
 "cells": [
  {
   "cell_type": "markdown",
   "metadata": {},
   "source": [
    "## TFRecord文件的生成"
   ]
  },
  {
   "cell_type": "code",
   "execution_count": 1,
   "metadata": {},
   "outputs": [],
   "source": [
    "import os\n",
    "import tensorflow as tf\n",
    "from PIL import Image"
   ]
  },
  {
   "cell_type": "code",
   "execution_count": 2,
   "metadata": {},
   "outputs": [],
   "source": [
    "# image path\n",
    "cwd = \"./mnist_train/\"\n",
    "# tfrecord file path\n",
    "recordPath = \"./train_record/\"\n",
    "# best number of images stored in each tfrecord\n",
    "bestNum = 1000\n",
    "# index of images flowing into each tfrecord\n",
    "num = 0\n",
    "# index of tfrecord file\n",
    "recordFileNum = 0"
   ]
  },
  {
   "cell_type": "code",
   "execution_count": 3,
   "metadata": {},
   "outputs": [
    {
     "name": "stdout",
     "output_type": "stream",
     "text": [
      "['0', '1', '2', '3', '4', '5', '6', '7', '8', '9']\n",
      "[0, 1, 2, 3, 4, 5, 6, 7, 8, 9]\n",
      "{'6': 6, '4': 4, '7': 7, '3': 3, '5': 5, '8': 8, '1': 1, '9': 9, '0': 0, '2': 2}\n"
     ]
    }
   ],
   "source": [
    "# classes of images\n",
    "keys = [str(i) for i in list(range(10))]\n",
    "print(keys)\n",
    "values = [i for i in list(range(10))]\n",
    "print(values)\n",
    "classes = dict(zip(keys, values))\n",
    "print(classes)"
   ]
  },
  {
   "cell_type": "code",
   "execution_count": 4,
   "metadata": {},
   "outputs": [],
   "source": [
    "# tfrecord file name format\n",
    "tfrecordFileName = (\"train.tfrecords-%.3d\" % recordFileNum)\n",
    "writer = tf.io.TFRecordWriter(recordPath + tfrecordFileName)"
   ]
  },
  {
   "cell_type": "code",
   "execution_count": 5,
   "metadata": {},
   "outputs": [
    {
     "name": "stdout",
     "output_type": "stream",
     "text": [
      "Creating the 000 tfrecord file\n",
      "6\n",
      "6\n",
      "Creating the 001 tfrecord file\n",
      "Creating the 002 tfrecord file\n",
      "Creating the 003 tfrecord file\n",
      "Creating the 004 tfrecord file\n",
      "Creating the 005 tfrecord file\n",
      "4\n",
      "4\n",
      "Creating the 006 tfrecord file\n",
      "Creating the 007 tfrecord file\n",
      "Creating the 008 tfrecord file\n",
      "Creating the 009 tfrecord file\n",
      "Creating the 010 tfrecord file\n",
      "Creating the 011 tfrecord file\n",
      "7\n",
      "7\n",
      "Creating the 012 tfrecord file\n",
      "Creating the 013 tfrecord file\n",
      "Creating the 014 tfrecord file\n",
      "Creating the 015 tfrecord file\n",
      "Creating the 016 tfrecord file\n",
      "Creating the 017 tfrecord file\n",
      "Creating the 018 tfrecord file\n",
      "3\n",
      "3\n",
      "Creating the 019 tfrecord file\n",
      "Creating the 020 tfrecord file\n",
      "Creating the 021 tfrecord file\n",
      "Creating the 022 tfrecord file\n",
      "Creating the 023 tfrecord file\n",
      "Creating the 024 tfrecord file\n",
      "5\n",
      "5\n",
      "Creating the 025 tfrecord file\n",
      "Creating the 026 tfrecord file\n",
      "Creating the 027 tfrecord file\n",
      "Creating the 028 tfrecord file\n",
      "Creating the 029 tfrecord file\n",
      "8\n",
      "8\n",
      "Creating the 030 tfrecord file\n",
      "Creating the 031 tfrecord file\n",
      "Creating the 032 tfrecord file\n",
      "Creating the 033 tfrecord file\n",
      "Creating the 034 tfrecord file\n",
      "Creating the 035 tfrecord file\n",
      "1\n",
      "1\n",
      "Creating the 036 tfrecord file\n",
      "Creating the 037 tfrecord file\n",
      "Creating the 038 tfrecord file\n",
      "Creating the 039 tfrecord file\n",
      "Creating the 040 tfrecord file\n",
      "Creating the 041 tfrecord file\n",
      "Creating the 042 tfrecord file\n",
      "9\n",
      "9\n",
      "Creating the 043 tfrecord file\n",
      "Creating the 044 tfrecord file\n",
      "Creating the 045 tfrecord file\n",
      "Creating the 046 tfrecord file\n",
      "Creating the 047 tfrecord file\n",
      "Creating the 048 tfrecord file\n",
      "0\n",
      "0\n",
      "Creating the 049 tfrecord file\n",
      "Creating the 050 tfrecord file\n",
      "Creating the 051 tfrecord file\n",
      "Creating the 052 tfrecord file\n",
      "Creating the 053 tfrecord file\n",
      "Creating the 054 tfrecord file\n",
      "2\n",
      "2\n",
      "Creating the 055 tfrecord file\n",
      "Creating the 056 tfrecord file\n",
      "Creating the 057 tfrecord file\n",
      "Creating the 058 tfrecord file\n",
      "Creating the 059 tfrecord file\n"
     ]
    }
   ],
   "source": [
    "# create tfrecord files\n",
    "print(\"Creating the 000 tfrecord file\")\n",
    "for name, label in classes.items():\n",
    "    print(name)\n",
    "    print(label)\n",
    "    class_path = os.path.join(cwd, name)\n",
    "    # print(class_path)\n",
    "    for img_name in os.listdir(class_path):\n",
    "        num += 1\n",
    "        if num > bestNum:\n",
    "            num = 1\n",
    "            recordFileNum += 1\n",
    "            # tfrecord file name\n",
    "            tfrecordFileName = (\"train.tfrecords-%.3d\" % recordFileNum)\n",
    "            writer = tf.io.TFRecordWriter(recordPath + tfrecordFileName)\n",
    "            print(\"Creating the %.3d tfrecord file\" % recordFileNum)\n",
    "        img_path = os.path.join(class_path, img_name)\n",
    "        img = Image.open(img_path, \"r\")\n",
    "        img_raw = img.tobytes()\n",
    "        \n",
    "        example = tf.train.Example(features=tf.train.Features(feature={\n",
    "            \"label\": tf.train.Feature(int64_list=tf.train.Int64List(value=[label])),\n",
    "            \"img_raw\": tf.train.Feature(bytes_list=tf.train.BytesList(value=[img_raw]))\n",
    "        }))\n",
    "        writer.write(example.SerializeToString())\n",
    "writer.close()"
   ]
  },
  {
   "cell_type": "code",
   "execution_count": null,
   "metadata": {},
   "outputs": [],
   "source": []
  },
  {
   "cell_type": "code",
   "execution_count": null,
   "metadata": {},
   "outputs": [],
   "source": []
  }
 ],
 "metadata": {
  "kernelspec": {
   "display_name": "Python 3",
   "language": "python",
   "name": "python3"
  },
  "language_info": {
   "codemirror_mode": {
    "name": "ipython",
    "version": 3
   },
   "file_extension": ".py",
   "mimetype": "text/x-python",
   "name": "python",
   "nbconvert_exporter": "python",
   "pygments_lexer": "ipython3",
   "version": "3.5.2"
  }
 },
 "nbformat": 4,
 "nbformat_minor": 2
}
