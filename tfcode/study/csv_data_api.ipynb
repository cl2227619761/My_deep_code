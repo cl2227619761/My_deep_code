{
 "cells": [
  {
   "cell_type": "code",
   "execution_count": 1,
   "metadata": {},
   "outputs": [],
   "source": [
    "import tensorflow as tf\n",
    "import os\n",
    "import numpy as np"
   ]
  },
  {
   "cell_type": "code",
   "execution_count": 23,
   "metadata": {},
   "outputs": [],
   "source": [
    "train_files = np.array([os.path.join(\"./mnist_train/\", i, j) for i in os.listdir(\"./mnist_train/\") for j in os.listdir(os.path.join(\"./mnist_train/\", i))])"
   ]
  },
  {
   "cell_type": "code",
   "execution_count": 24,
   "metadata": {},
   "outputs": [
    {
     "data": {
      "text/plain": [
       "60000"
      ]
     },
     "execution_count": 24,
     "metadata": {},
     "output_type": "execute_result"
    }
   ],
   "source": [
    "len(train_files)"
   ]
  },
  {
   "cell_type": "code",
   "execution_count": 25,
   "metadata": {},
   "outputs": [
    {
     "name": "stdout",
     "output_type": "stream",
     "text": [
      "['./mnist_train/4/mnist_train_43608.png'\n",
      " './mnist_train/4/mnist_train_39324.png'\n",
      " './mnist_train/4/mnist_train_50389.png']\n"
     ]
    }
   ],
   "source": [
    "print(train_files[:3])"
   ]
  },
  {
   "cell_type": "code",
   "execution_count": 19,
   "metadata": {},
   "outputs": [],
   "source": [
    "train_labels = np.array([i.split(\"/\")[2] for i in train_files]).astype(np.int32)"
   ]
  },
  {
   "cell_type": "code",
   "execution_count": 20,
   "metadata": {},
   "outputs": [
    {
     "data": {
      "text/plain": [
       "60000"
      ]
     },
     "execution_count": 20,
     "metadata": {},
     "output_type": "execute_result"
    }
   ],
   "source": [
    "len(train_labels)"
   ]
  },
  {
   "cell_type": "code",
   "execution_count": 22,
   "metadata": {},
   "outputs": [
    {
     "name": "stdout",
     "output_type": "stream",
     "text": [
      "[4 4 4]\n",
      "(60000,)\n"
     ]
    }
   ],
   "source": [
    "print(train_labels[:3])\n",
    "print(train_labels.shape)"
   ]
  },
  {
   "cell_type": "code",
   "execution_count": 40,
   "metadata": {},
   "outputs": [],
   "source": [
    "train_file_label = np.column_stack((train_files, train_labels))"
   ]
  },
  {
   "cell_type": "code",
   "execution_count": 41,
   "metadata": {},
   "outputs": [
    {
     "name": "stdout",
     "output_type": "stream",
     "text": [
      "(60000, 2)\n",
      "[['./mnist_train/4/mnist_train_43608.png' '4']\n",
      " ['./mnist_train/4/mnist_train_39324.png' '4']\n",
      " ['./mnist_train/4/mnist_train_50389.png' '4']]\n"
     ]
    }
   ],
   "source": [
    "print(train_file_label.shape)\n",
    "print(train_file_label[:3])"
   ]
  },
  {
   "cell_type": "code",
   "execution_count": 43,
   "metadata": {},
   "outputs": [],
   "source": [
    "np.savetxt(\"./train.csv\", train_file_label, delimiter=\",\", fmt=\"%s\")"
   ]
  },
  {
   "cell_type": "code",
   "execution_count": 44,
   "metadata": {},
   "outputs": [
    {
     "name": "stdout",
     "output_type": "stream",
     "text": [
      "(10000,)\n",
      "['./mnist_test/4/mnist_test_9871.png' './mnist_test/4/mnist_test_6715.png'\n",
      " './mnist_test/4/mnist_test_3410.png']\n"
     ]
    }
   ],
   "source": [
    "test_files = np.array([os.path.join(\"./mnist_test/\", i, j) for i in os.listdir(\"./mnist_test/\") for j in os.listdir(os.path.join(\"./mnist_test/\", i))])\n",
    "print(test_files.shape)\n",
    "print(test_files[:3])"
   ]
  },
  {
   "cell_type": "code",
   "execution_count": 45,
   "metadata": {},
   "outputs": [
    {
     "name": "stdout",
     "output_type": "stream",
     "text": [
      "(10000,)\n",
      "['4' '4' '4']\n"
     ]
    }
   ],
   "source": [
    "test_labels = np.array([i.split(\"/\")[2] for i in test_files])\n",
    "print(test_labels.shape)\n",
    "print(test_labels[:3])"
   ]
  },
  {
   "cell_type": "code",
   "execution_count": 46,
   "metadata": {},
   "outputs": [
    {
     "name": "stdout",
     "output_type": "stream",
     "text": [
      "(10000, 2)\n",
      "[['./mnist_test/4/mnist_test_9871.png' '4']\n",
      " ['./mnist_test/4/mnist_test_6715.png' '4']\n",
      " ['./mnist_test/4/mnist_test_3410.png' '4']]\n"
     ]
    }
   ],
   "source": [
    "test_file_label = np.column_stack((test_files, test_labels))\n",
    "print(test_file_label.shape)\n",
    "print(test_file_label[:3])"
   ]
  },
  {
   "cell_type": "code",
   "execution_count": 47,
   "metadata": {},
   "outputs": [],
   "source": [
    "np.savetxt(\"test.csv\", test_file_label, delimiter=\",\", fmt=\"%s\")"
   ]
  },
  {
   "cell_type": "code",
   "execution_count": 75,
   "metadata": {},
   "outputs": [],
   "source": [
    "train_names = [\"./train.csv\"]\n",
    "record_defaults = [tf.string, tf.int32]\n",
    "train_ds = tf.data.experimental.CsvDataset(train_names, record_defaults)"
   ]
  },
  {
   "cell_type": "code",
   "execution_count": 76,
   "metadata": {},
   "outputs": [
    {
     "data": {
      "text/plain": [
       "(tf.string, tf.int32)"
      ]
     },
     "execution_count": 76,
     "metadata": {},
     "output_type": "execute_result"
    }
   ],
   "source": [
    "train_ds.output_types"
   ]
  },
  {
   "cell_type": "code",
   "execution_count": 77,
   "metadata": {},
   "outputs": [
    {
     "data": {
      "text/plain": [
       "(TensorShape([]), TensorShape([]))"
      ]
     },
     "execution_count": 77,
     "metadata": {},
     "output_type": "execute_result"
    }
   ],
   "source": [
    "train_ds.output_shapes"
   ]
  },
  {
   "cell_type": "code",
   "execution_count": 87,
   "metadata": {},
   "outputs": [
    {
     "name": "stdout",
     "output_type": "stream",
     "text": [
      "b'./mnist_train/4/mnist_train_43608.png'\n",
      "4\n",
      "Tensor(\"DecodePng_4:0\", shape=(?, ?, ?), dtype=uint8)\n"
     ]
    },
    {
     "data": {
      "image/png": "[encoded data removed]",
      "text/plain": [
       "<Figure size 432x288 with 1 Axes>"
      ]
     },
     "metadata": {
      "needs_background": "light"
     },
     "output_type": "display_data"
    }
   ],
   "source": [
    "# 检查数据集对不对\n",
    "# iterator = train_ds.make_one_shot_iterator()\n",
    "# next_element = iterator.get_next()\n",
    "# import matplotlib.pyplot as plt\n",
    "\n",
    "# with tf.Session() as sess:\n",
    "#     for i in range(1):\n",
    "#         img, label = sess.run(next_element)\n",
    "#         print(img)\n",
    "#         print(label)\n",
    "#         im_string = tf.read_file(img)\n",
    "#         im = tf.image.decode_png(im_string)\n",
    "#         print(im)\n",
    "#         img = sess.run(im)\n",
    "#         img = img.squeeze()\n",
    "#         plt.imshow(img, cmap=\"gray\")\n",
    "#         plt.show()"
   ]
  },
  {
   "cell_type": "code",
   "execution_count": null,
   "metadata": {},
   "outputs": [],
   "source": []
  }
 ],
 "metadata": {
  "kernelspec": {
   "display_name": "Python 3",
   "language": "python",
   "name": "python3"
  },
  "language_info": {
   "codemirror_mode": {
    "name": "ipython",
    "version": 3
   },
   "file_extension": ".py",
   "mimetype": "text/x-python",
   "name": "python",
   "nbconvert_exporter": "python",
   "pygments_lexer": "ipython3",
   "version": "3.5.2"
  }
 },
 "nbformat": 4,
 "nbformat_minor": 2
}
