{
 "cells": [
  {
   "cell_type": "code",
   "execution_count": 1,
   "metadata": {},
   "outputs": [],
   "source": [
    "# 矩阵操作"
   ]
  },
  {
   "cell_type": "code",
   "execution_count": 1,
   "metadata": {},
   "outputs": [],
   "source": [
    "import tensorflow as tf"
   ]
  },
  {
   "cell_type": "code",
   "execution_count": 2,
   "metadata": {},
   "outputs": [],
   "source": [
    "sess = tf.Session()"
   ]
  },
  {
   "cell_type": "code",
   "execution_count": 4,
   "metadata": {},
   "outputs": [],
   "source": [
    "# 创建矩阵"
   ]
  },
  {
   "cell_type": "code",
   "execution_count": 5,
   "metadata": {},
   "outputs": [
    {
     "name": "stdout",
     "output_type": "stream",
     "text": [
      "Help on function diag in module tensorflow.python.ops.gen_array_ops:\n",
      "\n",
      "diag(diagonal, name=None)\n",
      "    Returns a diagonal tensor with a given diagonal values.\n",
      "    \n",
      "    Given a `diagonal`, this operation returns a tensor with the `diagonal` and\n",
      "    everything else padded with zeros. The diagonal is computed as follows:\n",
      "    \n",
      "    Assume `diagonal` has dimensions [D1,..., Dk], then the output is a tensor of\n",
      "    rank 2k with dimensions [D1,..., Dk, D1,..., Dk] where:\n",
      "    \n",
      "    `output[i1,..., ik, i1,..., ik] = diagonal[i1, ..., ik]` and 0 everywhere else.\n",
      "    \n",
      "    For example:\n",
      "    \n",
      "    ```\n",
      "    # 'diagonal' is [1, 2, 3, 4]\n",
      "    tf.diag(diagonal) ==> [[1, 0, 0, 0]\n",
      "                           [0, 2, 0, 0]\n",
      "                           [0, 0, 3, 0]\n",
      "                           [0, 0, 0, 4]]\n",
      "    ```\n",
      "    \n",
      "    Args:\n",
      "      diagonal: A `Tensor`. Must be one of the following types: `bfloat16`, `half`, `float32`, `float64`, `int32`, `int64`, `complex64`, `complex128`.\n",
      "        Rank k tensor where k is at most 1.\n",
      "      name: A name for the operation (optional).\n",
      "    \n",
      "    Returns:\n",
      "      A `Tensor`. Has the same type as `diagonal`.\n",
      "\n"
     ]
    }
   ],
   "source": [
    "# 对角矩阵\n",
    "help(tf.diag)"
   ]
  },
  {
   "cell_type": "code",
   "execution_count": 6,
   "metadata": {},
   "outputs": [
    {
     "name": "stdout",
     "output_type": "stream",
     "text": [
      "[[1. 0. 0.]\n",
      " [0. 1. 0.]\n",
      " [0. 0. 1.]]\n"
     ]
    }
   ],
   "source": [
    "identity_matrix = tf.diag([1., 1.,1.])\n",
    "print(sess.run(identity_matrix))"
   ]
  },
  {
   "cell_type": "code",
   "execution_count": 7,
   "metadata": {},
   "outputs": [
    {
     "name": "stdout",
     "output_type": "stream",
     "text": [
      "[[0. 0. 0.]\n",
      " [0. 0. 0.]]\n"
     ]
    }
   ],
   "source": [
    "A = tf.zeros(shape=[2, 3], dtype=tf.float32)\n",
    "print(sess.run(A))"
   ]
  },
  {
   "cell_type": "code",
   "execution_count": 8,
   "metadata": {},
   "outputs": [
    {
     "name": "stdout",
     "output_type": "stream",
     "text": [
      "[[1. 1. 1.]\n",
      " [1. 1. 1.]\n",
      " [1. 1. 1.]]\n"
     ]
    }
   ],
   "source": [
    "B = tf.ones(shape=[3, 3], dtype=tf.float32)\n",
    "print(sess.run(B))"
   ]
  },
  {
   "cell_type": "code",
   "execution_count": 11,
   "metadata": {},
   "outputs": [
    {
     "name": "stdout",
     "output_type": "stream",
     "text": [
      "[[2 2 2]\n",
      " [2 2 2]\n",
      " [2 2 2]]\n"
     ]
    }
   ],
   "source": [
    "C = tf.fill([3, 3], 2)\n",
    "print(sess.run(C))"
   ]
  },
  {
   "cell_type": "code",
   "execution_count": 12,
   "metadata": {},
   "outputs": [
    {
     "name": "stdout",
     "output_type": "stream",
     "text": [
      "[[2 3 4]\n",
      " [4 5 6]]\n"
     ]
    }
   ],
   "source": [
    "D = tf.constant([[2, 3, 4], [4, 5, 6]])\n",
    "print(sess.run(D))"
   ]
  },
  {
   "cell_type": "code",
   "execution_count": 14,
   "metadata": {},
   "outputs": [
    {
     "name": "stdout",
     "output_type": "stream",
     "text": [
      "[[1.696614   0.64714265 0.6134002 ]\n",
      " [0.13939953 1.827713   0.34095812]\n",
      " [0.5667424  0.7125411  1.0831125 ]]\n"
     ]
    }
   ],
   "source": [
    "E = tf.random_uniform([3, 3], minval=0, maxval=2, dtype=tf.float32, seed=1234)\n",
    "print(sess.run(E))"
   ]
  },
  {
   "cell_type": "code",
   "execution_count": 15,
   "metadata": {},
   "outputs": [
    {
     "name": "stdout",
     "output_type": "stream",
     "text": [
      "[[ 0.51340485 -0.255814    0.6519913 ]\n",
      " [ 1.3923638   0.37256798  0.20336303]\n",
      " [ 1.2470183  -0.98333126  0.5043986 ]]\n"
     ]
    }
   ],
   "source": [
    "F = tf.random_normal([3, 3], mean=0., stddev=1., dtype=tf.float32, seed=1234)\n",
    "print(sess.run(F))"
   ]
  },
  {
   "cell_type": "code",
   "execution_count": 16,
   "metadata": {},
   "outputs": [
    {
     "name": "stdout",
     "output_type": "stream",
     "text": [
      "[[ 0.51340485 -0.255814    0.6519913 ]\n",
      " [ 1.3923638   0.1662533  -0.9161797 ]\n",
      " [ 0.10719004  0.32142618 -0.4303575 ]]\n"
     ]
    }
   ],
   "source": [
    "G = tf.truncated_normal([3, 3], mean=0., stddev=1., dtype=tf.float32, seed=1234)\n",
    "print(sess.run(G))"
   ]
  },
  {
   "cell_type": "code",
   "execution_count": 17,
   "metadata": {},
   "outputs": [
    {
     "name": "stdout",
     "output_type": "stream",
     "text": [
      "[[1 2 3]\n",
      " [4 5 6]\n",
      " [9 8 7]]\n",
      "-----------------------\n",
      "[[1 2 3]\n",
      " [4 5 6]\n",
      " [9 8 7]]\n"
     ]
    }
   ],
   "source": [
    "# 还可以直接从numpy数组或者列表转为张量矩阵\n",
    "import numpy as np\n",
    "\n",
    "H = np.array([[1, 2, 3], [4, 5, 6], [9, 8, 7]])\n",
    "H_tsr = tf.convert_to_tensor(H)\n",
    "print(H)\n",
    "print('-----------------------')\n",
    "print(sess.run(H_tsr))"
   ]
  },
  {
   "cell_type": "code",
   "execution_count": 21,
   "metadata": {},
   "outputs": [
    {
     "name": "stdout",
     "output_type": "stream",
     "text": [
      "[[2, 3, 4], [5, 4, 3], [5, 3, 1]]\n"
     ]
    }
   ],
   "source": [
    "I = [[2, 3, 4], [5, 4, 3], [5, 3, 1]]\n",
    "print(I)"
   ]
  },
  {
   "cell_type": "code",
   "execution_count": 22,
   "metadata": {},
   "outputs": [
    {
     "name": "stdout",
     "output_type": "stream",
     "text": [
      "[[2 3 4]\n",
      " [5 4 3]\n",
      " [5 3 1]]\n"
     ]
    }
   ],
   "source": [
    "I_tsr = tf.convert_to_tensor(I)\n",
    "print(sess.run(I_tsr))"
   ]
  },
  {
   "cell_type": "code",
   "execution_count": 3,
   "metadata": {},
   "outputs": [
    {
     "name": "stdout",
     "output_type": "stream",
     "text": [
      "[[ 0.4106862   0.15785116 -0.34511495]\n",
      " [ 0.6949497  -0.8491212  -1.844407  ]]\n",
      "=================\n",
      "[[5. 5. 5.]\n",
      " [5. 5. 5.]]\n"
     ]
    }
   ],
   "source": [
    "# 矩阵的加，减，乘运算\n",
    "A = tf.truncated_normal([2, 3])\n",
    "B = tf.fill([2, 3], 5.)\n",
    "print(sess.run(A))\n",
    "print('=================')\n",
    "print(sess.run(B))"
   ]
  },
  {
   "cell_type": "code",
   "execution_count": 4,
   "metadata": {},
   "outputs": [
    {
     "name": "stdout",
     "output_type": "stream",
     "text": [
      "[[5.7266054 4.67933   5.744187 ]\n",
      " [6.290207  5.538105  4.1336303]]\n"
     ]
    }
   ],
   "source": [
    "add_ = A + B\n",
    "print(sess.run(add_))"
   ]
  },
  {
   "cell_type": "code",
   "execution_count": 5,
   "metadata": {},
   "outputs": [
    {
     "name": "stdout",
     "output_type": "stream",
     "text": [
      "[[0. 0. 0.]\n",
      " [0. 0. 0.]]\n"
     ]
    }
   ],
   "source": [
    "sub_ = B - B\n",
    "print(sess.run(sub_))"
   ]
  },
  {
   "cell_type": "code",
   "execution_count": 6,
   "metadata": {},
   "outputs": [
    {
     "name": "stdout",
     "output_type": "stream",
     "text": [
      "[[5. 5. 5.]\n",
      " [5. 5. 5.]]\n"
     ]
    }
   ],
   "source": [
    "identity_matrix = tf.diag([1., 1., 1.])\n",
    "mul_ = tf.matmul(B, identity_matrix)\n",
    "print(sess.run(mul_))"
   ]
  },
  {
   "cell_type": "code",
   "execution_count": 7,
   "metadata": {},
   "outputs": [
    {
     "name": "stdout",
     "output_type": "stream",
     "text": [
      "Help on function matmul in module tensorflow.python.ops.math_ops:\n",
      "\n",
      "matmul(a, b, transpose_a=False, transpose_b=False, adjoint_a=False, adjoint_b=False, a_is_sparse=False, b_is_sparse=False, name=None)\n",
      "    Multiplies matrix `a` by matrix `b`, producing `a` * `b`.\n",
      "    \n",
      "    The inputs must, following any transpositions, be tensors of rank >= 2\n",
      "    where the inner 2 dimensions specify valid matrix multiplication arguments,\n",
      "    and any further outer dimensions match.\n",
      "    \n",
      "    Both matrices must be of the same type. The supported types are:\n",
      "    `float16`, `float32`, `float64`, `int32`, `complex64`, `complex128`.\n",
      "    \n",
      "    Either matrix can be transposed or adjointed (conjugated and transposed) on\n",
      "    the fly by setting one of the corresponding flag to `True`. These are `False`\n",
      "    by default.\n",
      "    \n",
      "    If one or both of the matrices contain a lot of zeros, a more efficient\n",
      "    multiplication algorithm can be used by setting the corresponding\n",
      "    `a_is_sparse` or `b_is_sparse` flag to `True`. These are `False` by default.\n",
      "    This optimization is only available for plain matrices (rank-2 tensors) with\n",
      "    datatypes `bfloat16` or `float32`.\n",
      "    \n",
      "    For example:\n",
      "    \n",
      "    ```python\n",
      "    # 2-D tensor `a`\n",
      "    # [[1, 2, 3],\n",
      "    #  [4, 5, 6]]\n",
      "    a = tf.constant([1, 2, 3, 4, 5, 6], shape=[2, 3])\n",
      "    \n",
      "    # 2-D tensor `b`\n",
      "    # [[ 7,  8],\n",
      "    #  [ 9, 10],\n",
      "    #  [11, 12]]\n",
      "    b = tf.constant([7, 8, 9, 10, 11, 12], shape=[3, 2])\n",
      "    \n",
      "    # `a` * `b`\n",
      "    # [[ 58,  64],\n",
      "    #  [139, 154]]\n",
      "    c = tf.matmul(a, b)\n",
      "    \n",
      "    \n",
      "    # 3-D tensor `a`\n",
      "    # [[[ 1,  2,  3],\n",
      "    #   [ 4,  5,  6]],\n",
      "    #  [[ 7,  8,  9],\n",
      "    #   [10, 11, 12]]]\n",
      "    a = tf.constant(np.arange(1, 13, dtype=np.int32),\n",
      "                    shape=[2, 2, 3])\n",
      "    \n",
      "    # 3-D tensor `b`\n",
      "    # [[[13, 14],\n",
      "    #   [15, 16],\n",
      "    #   [17, 18]],\n",
      "    #  [[19, 20],\n",
      "    #   [21, 22],\n",
      "    #   [23, 24]]]\n",
      "    b = tf.constant(np.arange(13, 25, dtype=np.int32),\n",
      "                    shape=[2, 3, 2])\n",
      "    \n",
      "    # `a` * `b`\n",
      "    # [[[ 94, 100],\n",
      "    #   [229, 244]],\n",
      "    #  [[508, 532],\n",
      "    #   [697, 730]]]\n",
      "    c = tf.matmul(a, b)\n",
      "    \n",
      "    # Since python >= 3.5 the @ operator is supported (see PEP 465).\n",
      "    # In TensorFlow, it simply calls the `tf.matmul()` function, so the\n",
      "    # following lines are equivalent:\n",
      "    d = a @ b @ [[10.], [11.]]\n",
      "    d = tf.matmul(tf.matmul(a, b), [[10.], [11.]])\n",
      "    ```\n",
      "    \n",
      "    Args:\n",
      "      a: `Tensor` of type `float16`, `float32`, `float64`, `int32`, `complex64`,\n",
      "        `complex128` and rank > 1.\n",
      "      b: `Tensor` with same type and rank as `a`.\n",
      "      transpose_a: If `True`, `a` is transposed before multiplication.\n",
      "      transpose_b: If `True`, `b` is transposed before multiplication.\n",
      "      adjoint_a: If `True`, `a` is conjugated and transposed before\n",
      "        multiplication.\n",
      "      adjoint_b: If `True`, `b` is conjugated and transposed before\n",
      "        multiplication.\n",
      "      a_is_sparse: If `True`, `a` is treated as a sparse matrix.\n",
      "      b_is_sparse: If `True`, `b` is treated as a sparse matrix.\n",
      "      name: Name for the operation (optional).\n",
      "    \n",
      "    Returns:\n",
      "      A `Tensor` of the same type as `a` and `b` where each inner-most matrix is\n",
      "      the product of the corresponding matrices in `a` and `b`, e.g. if all\n",
      "      transpose or adjoint attributes are `False`:\n",
      "    \n",
      "      `output`[..., i, j] = sum_k (`a`[..., i, k] * `b`[..., k, j]),\n",
      "      for all indices i, j.\n",
      "    \n",
      "      Note: This is matrix product, not element-wise product.\n",
      "    \n",
      "    \n",
      "    Raises:\n",
      "      ValueError: If transpose_a and adjoint_a, or transpose_b and adjoint_b\n",
      "        are both set to True.\n",
      "\n"
     ]
    }
   ],
   "source": [
    "help(tf.matmul)"
   ]
  },
  {
   "cell_type": "code",
   "execution_count": 8,
   "metadata": {},
   "outputs": [
    {
     "name": "stdout",
     "output_type": "stream",
     "text": [
      "(2, 3)\n",
      "(3, 3)\n"
     ]
    }
   ],
   "source": [
    "print(B.shape)\n",
    "print(identity_matrix.shape)"
   ]
  },
  {
   "cell_type": "code",
   "execution_count": 9,
   "metadata": {},
   "outputs": [
    {
     "name": "stdout",
     "output_type": "stream",
     "text": [
      "[[1. 0. 0.]\n",
      " [0. 1. 0.]\n",
      " [0. 0. 1.]]\n"
     ]
    }
   ],
   "source": [
    "print(sess.run(identity_matrix))"
   ]
  },
  {
   "cell_type": "code",
   "execution_count": 11,
   "metadata": {},
   "outputs": [
    {
     "name": "stdout",
     "output_type": "stream",
     "text": [
      "[[ 0.51340485 -0.255814  ]\n",
      " [ 0.6519913   1.3923638 ]\n",
      " [ 0.37256798  0.20336303]]\n",
      "-------------------------------\n",
      "[[0.96462417 0.24251089 1.6574976 ]\n",
      " [0.34291974 1.0578597  0.8210897 ]]\n"
     ]
    }
   ],
   "source": [
    "# 矩阵的转置\n",
    "C = tf.random_normal([3, 2], seed=1234)\n",
    "print(sess.run(C))\n",
    "print('-------------------------------')\n",
    "C_t = tf.transpose(C)\n",
    "print(sess.run(C_t))"
   ]
  },
  {
   "cell_type": "code",
   "execution_count": 14,
   "metadata": {},
   "outputs": [
    {
     "name": "stdout",
     "output_type": "stream",
     "text": [
      "[[1. 2. 3.]\n",
      " [4. 5. 6.]\n",
      " [7. 8. 9.]]\n",
      "---------------------------------\n",
      "[[1. 4. 7.]\n",
      " [2. 5. 8.]\n",
      " [3. 6. 9.]]\n"
     ]
    }
   ],
   "source": [
    "D = tf.constant([[1, 2, 3], [4, 5, 6], [7, 8, 9]], dtype=tf.float32)\n",
    "print(sess.run(D))\n",
    "print('---------------------------------')\n",
    "D_t = tf.transpose(D)\n",
    "print(sess.run(D_t))"
   ]
  },
  {
   "cell_type": "code",
   "execution_count": 15,
   "metadata": {},
   "outputs": [
    {
     "name": "stdout",
     "output_type": "stream",
     "text": [
      "0.0\n"
     ]
    }
   ],
   "source": [
    "# 计算行列式\n",
    "res = tf.matrix_determinant(D)\n",
    "print(sess.run(res))"
   ]
  },
  {
   "cell_type": "code",
   "execution_count": 18,
   "metadata": {},
   "outputs": [
    {
     "name": "stdout",
     "output_type": "stream",
     "text": [
      "[[-0.03059805 -1.4001659   0.5701229 ]\n",
      " [-0.30465177  0.59667075  0.19589916]\n",
      " [ 0.5366438   1.1479018  -0.62800497]]\n"
     ]
    }
   ],
   "source": [
    "# 矩阵的逆\n",
    "A = tf.random_uniform([3, 3], minval=0., maxval=3)\n",
    "A_inv = tf.matrix_inverse(A)\n",
    "print(sess.run(A_inv))"
   ]
  },
  {
   "cell_type": "code",
   "execution_count": 19,
   "metadata": {},
   "outputs": [
    {
     "name": "stdout",
     "output_type": "stream",
     "text": [
      "[[1.0000000e+00 4.7683716e-07 0.0000000e+00]\n",
      " [0.0000000e+00 1.0000010e+00 2.3841858e-07]\n",
      " [0.0000000e+00 0.0000000e+00 1.0000000e+00]]\n"
     ]
    }
   ],
   "source": [
    "res = tf.matmul(A, A_inv)\n",
    "print(sess.run(res))"
   ]
  },
  {
   "cell_type": "code",
   "execution_count": 20,
   "metadata": {},
   "outputs": [],
   "source": [
    "sess.close()"
   ]
  },
  {
   "cell_type": "code",
   "execution_count": null,
   "metadata": {},
   "outputs": [],
   "source": []
  }
 ],
 "metadata": {
  "kernelspec": {
   "display_name": "Python 3",
   "language": "python",
   "name": "python3"
  },
  "language_info": {
   "codemirror_mode": {
    "name": "ipython",
    "version": 3
   },
   "file_extension": ".py",
   "mimetype": "text/x-python",
   "name": "python",
   "nbconvert_exporter": "python",
   "pygments_lexer": "ipython3",
   "version": "3.5.2"
  }
 },
 "nbformat": 4,
 "nbformat_minor": 2
}
