{
 "cells": [
  {
   "cell_type": "code",
   "execution_count": 1,
   "metadata": {},
   "outputs": [],
   "source": [
    "# batch loss和stochastic loss\n",
    "import tensorflow as tf\n",
    "import matplotlib.pyplot as plt\n",
    "import numpy as np\n",
    "\n",
    "sess = tf.Session()"
   ]
  },
  {
   "cell_type": "code",
   "execution_count": 2,
   "metadata": {},
   "outputs": [],
   "source": [
    "# 先来看batch loss\n",
    "batch_size = 20\n",
    "\n",
    "x_vals = np.random.normal(1, 0.1, 100)\n",
    "y_vals = np.repeat(10., 100)\n",
    "x_data = tf.placeholder(tf.float32, shape=[None, 1])\n",
    "y_data = tf.placeholder(tf.float32, shape=[None, 1])\n",
    "A = tf.Variable(tf.random_normal(shape=[1, 1]))"
   ]
  },
  {
   "cell_type": "code",
   "execution_count": 3,
   "metadata": {},
   "outputs": [],
   "source": [
    "my_out = tf.matmul(x_data, A)"
   ]
  },
  {
   "cell_type": "code",
   "execution_count": 4,
   "metadata": {},
   "outputs": [],
   "source": [
    "loss = tf.reduce_mean(tf.square(my_out - y_data))"
   ]
  },
  {
   "cell_type": "code",
   "execution_count": 5,
   "metadata": {},
   "outputs": [],
   "source": [
    "opt = tf.train.GradientDescentOptimizer(learning_rate=0.02).minimize(loss)"
   ]
  },
  {
   "cell_type": "code",
   "execution_count": 6,
   "metadata": {},
   "outputs": [],
   "source": [
    "init = tf.global_variables_initializer()\n",
    "sess.run(init)"
   ]
  },
  {
   "cell_type": "code",
   "execution_count": 25,
   "metadata": {},
   "outputs": [
    {
     "name": "stdout",
     "output_type": "stream",
     "text": [
      "Step 5: A=[[0.89832795]], loss=82.78218078613281\n",
      "Step 10: A=[[2.569922]], loss=54.40137481689453\n",
      "Step 15: A=[[3.928395]], loss=37.805931091308594\n",
      "Step 20: A=[[5.0372]], loss=23.594093322753906\n",
      "Step 25: A=[[5.939293]], loss=17.137451171875\n",
      "Step 30: A=[[6.684844]], loss=11.918516159057617\n",
      "Step 35: A=[[7.2876654]], loss=8.437074661254883\n",
      "Step 40: A=[[7.7651315]], loss=5.1757354736328125\n",
      "Step 45: A=[[8.167384]], loss=3.7577693462371826\n",
      "Step 50: A=[[8.481405]], loss=3.401569366455078\n",
      "Step 55: A=[[8.736911]], loss=2.5022218227386475\n",
      "Step 60: A=[[8.962654]], loss=1.6076425313949585\n",
      "Step 65: A=[[9.14713]], loss=1.7966060638427734\n",
      "Step 70: A=[[9.256249]], loss=1.8779213428497314\n",
      "Step 75: A=[[9.343517]], loss=1.3926405906677246\n",
      "Step 80: A=[[9.481859]], loss=2.227358341217041\n",
      "Step 85: A=[[9.558128]], loss=1.917108178138733\n",
      "Step 90: A=[[9.613633]], loss=0.9593175649642944\n",
      "Step 95: A=[[9.650459]], loss=1.236607313156128\n",
      "Step 100: A=[[9.677151]], loss=0.709941029548645\n"
     ]
    }
   ],
   "source": [
    "loss_batch = []\n",
    "for i in range(100):\n",
    "    rand_index = np.random.choice(100, size=batch_size)\n",
    "    rand_x = np.transpose([x_vals[rand_index]])\n",
    "    rand_y = np.transpose([y_vals[rand_index]])\n",
    "    sess.run(opt, feed_dict={x_data: rand_x, y_data: rand_y})\n",
    "    if (i + 1) % 5 == 0:\n",
    "        A_, loss_ = sess.run([A, loss], feed_dict={x_data: rand_x, y_data: rand_y})\n",
    "        print('Step {0}: A={1}, loss={2}'.format(i+1, A_, loss_))\n",
    "        loss_batch.append(loss_)"
   ]
  },
  {
   "cell_type": "code",
   "execution_count": 30,
   "metadata": {},
   "outputs": [],
   "source": [
    "x_vals = np.random.normal(1, 0.1, 100)\n",
    "y_vals = np.repeat(10., 100)\n",
    "x_data = tf.placeholder(tf.float32, shape=[1])\n",
    "y_data = tf.placeholder(tf.float32, shape=[1])\n",
    "A = tf.Variable(tf.random_normal(shape=[1]))\n",
    "my_out = tf.multiply(A, x_data)"
   ]
  },
  {
   "cell_type": "code",
   "execution_count": 31,
   "metadata": {},
   "outputs": [],
   "source": [
    "loss = tf.square(my_out - y_data)\n",
    "opt = tf.train.GradientDescentOptimizer(0.02).minimize(loss)\n",
    "init = tf.global_variables_initializer()\n",
    "sess.run(init)"
   ]
  },
  {
   "cell_type": "code",
   "execution_count": 32,
   "metadata": {},
   "outputs": [
    {
     "name": "stdout",
     "output_type": "stream",
     "text": [
      "Step 5: A=[2.2563274], loss=[55.46611]\n",
      "Step 10: A=[3.6870093], loss=[32.619522]\n",
      "Step 15: A=[4.852468], loss=[32.686337]\n",
      "Step 20: A=[5.7817035], loss=[15.965659]\n",
      "Step 25: A=[6.564938], loss=[12.565375]\n",
      "Step 30: A=[7.191327], loss=[12.107576]\n",
      "Step 35: A=[7.7334433], loss=[6.5454626]\n",
      "Step 40: A=[8.146915], loss=[3.5346837]\n",
      "Step 45: A=[8.477221], loss=[0.26361194]\n",
      "Step 50: A=[8.792919], loss=[1.905069]\n",
      "Step 55: A=[8.962446], loss=[0.38256437]\n",
      "Step 60: A=[9.217003], loss=[0.3123275]\n",
      "Step 65: A=[9.416468], loss=[1.1772002]\n",
      "Step 70: A=[9.481389], loss=[0.07763694]\n",
      "Step 75: A=[9.648579], loss=[1.0987505]\n",
      "Step 80: A=[9.626884], loss=[0.60680133]\n",
      "Step 85: A=[9.639753], loss=[0.10123856]\n",
      "Step 90: A=[9.716104], loss=[0.42428792]\n",
      "Step 95: A=[9.942445], loss=[2.4075499]\n",
      "Step 100: A=[9.935249], loss=[0.0312757]\n"
     ]
    }
   ],
   "source": [
    "# 再来看stochastic loss\n",
    "loss_stochastic = []\n",
    "for i in range(100):\n",
    "    rand_index = np.random.choice(100)\n",
    "    rand_x = [x_vals[rand_index]]\n",
    "    rand_y = [y_vals[rand_index]]\n",
    "    sess.run(opt, feed_dict={x_data: rand_x, y_data: rand_y})\n",
    "    if (i + 1) % 5 == 0:\n",
    "        A_, loss_ = sess.run([A, loss], feed_dict={x_data: rand_x, y_data: rand_y})\n",
    "        print('Step {0}: A={1}, loss={2}'.format(i+1, A_, loss_))\n",
    "        loss_stochastic.append(loss_)"
   ]
  },
  {
   "cell_type": "code",
   "execution_count": 35,
   "metadata": {},
   "outputs": [
    {
     "data": {
      "image/png": "[encoded data removed]",
      "text/plain": [
       "<Figure size 432x288 with 1 Axes>"
      ]
     },
     "metadata": {
      "needs_background": "light"
     },
     "output_type": "display_data"
    }
   ],
   "source": [
    "plt.plot(range(0, 100, 5), loss_batch, 'b-', label='batch loss, size=20')\n",
    "plt.plot(range(0, 100, 5), loss_stochastic, 'r--', label='stochastic loss')\n",
    "plt.legend()\n",
    "plt.show()"
   ]
  },
  {
   "cell_type": "code",
   "execution_count": null,
   "metadata": {},
   "outputs": [],
   "source": []
  }
 ],
 "metadata": {
  "kernelspec": {
   "display_name": "Python 3",
   "language": "python",
   "name": "python3"
  },
  "language_info": {
   "codemirror_mode": {
    "name": "ipython",
    "version": 3
   },
   "file_extension": ".py",
   "mimetype": "text/x-python",
   "name": "python",
   "nbconvert_exporter": "python",
   "pygments_lexer": "ipython3",
   "version": "3.5.2"
  }
 },
 "nbformat": 4,
 "nbformat_minor": 2
}
