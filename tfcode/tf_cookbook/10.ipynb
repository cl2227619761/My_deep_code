{
 "cells": [
  {
   "cell_type": "code",
   "execution_count": 1,
   "metadata": {},
   "outputs": [],
   "source": [
    "# 评估模型\n",
    "import tensorflow as tf\n",
    "import numpy as np\n",
    "import matplotlib.pyplot as plt\n",
    "\n",
    "sess = tf.Session()"
   ]
  },
  {
   "cell_type": "code",
   "execution_count": 2,
   "metadata": {},
   "outputs": [],
   "source": [
    "x_vals = np.random.normal(1., 0.1, 100)\n",
    "y_vals = np.repeat(10., 100)\n",
    "x_data = tf.placeholder(tf.float32, shape=[None, 1])\n",
    "y_data = tf.placeholder(tf.float32, shape=[None, 1])\n",
    "batch_size = 25"
   ]
  },
  {
   "cell_type": "code",
   "execution_count": 4,
   "metadata": {},
   "outputs": [],
   "source": [
    "train_index = np.random.choice(len(x_vals), round(len(x_vals) * 0.8), replace=False)\n",
    "test_index = np.array(list(set(range(len(x_vals))) - set(train_index)))\n",
    "\n",
    "x_vals_train = x_vals[train_index]\n",
    "x_vals_test = x_vals[test_index]\n",
    "y_vals_train = y_vals[train_index]\n",
    "y_vals_test = y_vals[test_index]\n",
    "\n",
    "A = tf.Variable(tf.random_normal(shape=[1, 1]))"
   ]
  },
  {
   "cell_type": "code",
   "execution_count": 5,
   "metadata": {},
   "outputs": [
    {
     "name": "stdout",
     "output_type": "stream",
     "text": [
      "(80,)\n",
      "(80,)\n"
     ]
    }
   ],
   "source": [
    "print(x_vals_train.shape)\n",
    "print(y_vals_train.shape)"
   ]
  },
  {
   "cell_type": "code",
   "execution_count": 6,
   "metadata": {},
   "outputs": [],
   "source": [
    "my_out = tf.matmul(x_data, A)\n",
    "loss = tf.reduce_mean(tf.square(my_out - y_data))\n",
    "opt = tf.train.GradientDescentOptimizer(0.02).minimize(loss)"
   ]
  },
  {
   "cell_type": "code",
   "execution_count": 7,
   "metadata": {},
   "outputs": [],
   "source": [
    "init = tf.global_variables_initializer()\n",
    "sess.run(init)"
   ]
  },
  {
   "cell_type": "code",
   "execution_count": 8,
   "metadata": {},
   "outputs": [
    {
     "name": "stdout",
     "output_type": "stream",
     "text": [
      "Step 5: A=[[1.8817257]], loss=65.89517211914062\n",
      "Step 10: A=[[3.3658118]], loss=47.285526275634766\n",
      "Step 15: A=[[4.57765]], loss=30.402511596679688\n",
      "Step 20: A=[[5.5687227]], loss=20.710651397705078\n",
      "Step 25: A=[[6.375975]], loss=14.305688858032227\n",
      "Step 30: A=[[7.035851]], loss=9.218694686889648\n",
      "Step 35: A=[[7.58456]], loss=7.685013294219971\n",
      "Step 40: A=[[8.034323]], loss=4.4182305335998535\n",
      "Step 45: A=[[8.393141]], loss=2.9336342811584473\n",
      "Step 50: A=[[8.721506]], loss=2.6710829734802246\n",
      "Step 55: A=[[8.974696]], loss=2.784404993057251\n",
      "Step 60: A=[[9.184366]], loss=1.5915379524230957\n",
      "Step 65: A=[[9.340497]], loss=1.3350536823272705\n",
      "Step 70: A=[[9.498196]], loss=2.0585625171661377\n",
      "Step 75: A=[[9.590573]], loss=1.7842403650283813\n",
      "Step 80: A=[[9.680416]], loss=1.3108047246932983\n",
      "Step 85: A=[[9.775564]], loss=1.6551893949508667\n",
      "Step 90: A=[[9.839929]], loss=1.4373621940612793\n",
      "Step 95: A=[[9.852784]], loss=1.3576122522354126\n",
      "Step 100: A=[[9.889973]], loss=1.5245922803878784\n",
      "Finished\n"
     ]
    }
   ],
   "source": [
    "for i in range(100):\n",
    "    rand_index = np.random.choice(len(x_vals_train), batch_size)\n",
    "    rand_x = np.transpose([x_vals_train[rand_index]])\n",
    "    rand_y = np.transpose([y_vals_train[rand_index]])\n",
    "    sess.run(opt, feed_dict={x_data: rand_x, y_data: rand_y})\n",
    "    if (i + 1) % 5 == 0:\n",
    "        loss_, A_ = sess.run([loss, A], feed_dict={x_data: rand_x, y_data: rand_y})\n",
    "        print('Step {0}: A={1}, loss={2}'.format(i+1, A_, loss_))\n",
    "print('Finished')"
   ]
  },
  {
   "cell_type": "code",
   "execution_count": 9,
   "metadata": {},
   "outputs": [],
   "source": [
    "# 评估在训练集和测试集上的表现\n",
    "mse_test = sess.run(loss, feed_dict={x_data: np.transpose([x_vals_test]), y_data: np.transpose([y_vals_test])})\n",
    "mse_train = sess.run(loss, feed_dict={x_data: np.transpose([x_vals_train]), y_data: np.transpose([y_vals_train])})"
   ]
  },
  {
   "cell_type": "code",
   "execution_count": 10,
   "metadata": {},
   "outputs": [
    {
     "name": "stdout",
     "output_type": "stream",
     "text": [
      "MSE on test: 0.76890504\n",
      "MSE on train: 1.272562\n"
     ]
    }
   ],
   "source": [
    "print('MSE on test:', mse_test)\n",
    "print('MSE on train:', mse_train)"
   ]
  },
  {
   "cell_type": "code",
   "execution_count": 13,
   "metadata": {},
   "outputs": [
    {
     "data": {
      "text/plain": [
       "(1, 20)"
      ]
     },
     "execution_count": 13,
     "metadata": {},
     "output_type": "execute_result"
    }
   ],
   "source": [
    "np.array([x_vals_test]).shape"
   ]
  },
  {
   "cell_type": "code",
   "execution_count": 14,
   "metadata": {},
   "outputs": [
    {
     "data": {
      "text/plain": [
       "(20, 1)"
      ]
     },
     "execution_count": 14,
     "metadata": {},
     "output_type": "execute_result"
    }
   ],
   "source": [
    "np.transpose([x_vals_test]).shape"
   ]
  },
  {
   "cell_type": "code",
   "execution_count": 4,
   "metadata": {},
   "outputs": [],
   "source": [
    "from tensorflow.python.framework import ops\n",
    "import tensorflow as tf\n",
    "import numpy as np\n",
    "\n",
    "ops.reset_default_graph()\n",
    "sess = tf.Session()"
   ]
  },
  {
   "cell_type": "code",
   "execution_count": 5,
   "metadata": {},
   "outputs": [],
   "source": [
    "x_vals = np.concatenate((np.random.normal(-1, 1, 50), np.random.normal(2, 1, 50)))\n",
    "y_vals = np.concatenate((np.repeat(0., 50), np.repeat(1., 50)))\n",
    "\n",
    "x_data = tf.placeholder(tf.float32, shape=[None, 1])\n",
    "y_data = tf.placeholder(tf.float32, shape=[None, 1])\n",
    "batch_size = 25\n",
    "\n",
    "train_index = np.random.choice(len(x_vals), round(len(x_vals) * 0.8), replace=False)\n",
    "test_index = np.array(list(set(range(len(x_vals))) - set(train_index)))\n",
    "\n",
    "x_vals_train = x_vals[train_index]\n",
    "x_vals_test = x_vals[test_index]\n",
    "y_vals_train = y_vals[train_index]\n",
    "y_vals_test = y_vals[test_index]\n",
    "\n",
    "A = tf.Variable(tf.random_normal(mean=10, shape=[1]))"
   ]
  },
  {
   "cell_type": "code",
   "execution_count": 6,
   "metadata": {},
   "outputs": [
    {
     "name": "stdout",
     "output_type": "stream",
     "text": [
      "Tensor(\"Add:0\", shape=(?, 1), dtype=float32)\n"
     ]
    }
   ],
   "source": [
    "my_out = tf.add(x_data, A)\n",
    "print(my_out)"
   ]
  },
  {
   "cell_type": "code",
   "execution_count": 7,
   "metadata": {},
   "outputs": [
    {
     "name": "stdout",
     "output_type": "stream",
     "text": [
      "Tensor(\"Mean:0\", shape=(), dtype=float32)\n",
      "name: \"GradientDescent\"\n",
      "op: \"NoOp\"\n",
      "input: \"^GradientDescent/update_Variable/ApplyGradientDescent\"\n",
      "\n"
     ]
    }
   ],
   "source": [
    "loss = tf.reduce_mean(tf.nn.sigmoid_cross_entropy_with_logits(logits=my_out, labels=y_data))\n",
    "opt = tf.train.GradientDescentOptimizer(0.05).minimize(loss)"
   ]
  },
  {
   "cell_type": "code",
   "execution_count": 8,
   "metadata": {},
   "outputs": [
    {
     "name": "stdout",
     "output_type": "stream",
     "text": [
      "Tensor(\"Mean:0\", shape=(), dtype=float32)\n",
      "-------------------------------------\n",
      "name: \"GradientDescent\"\n",
      "op: \"NoOp\"\n",
      "input: \"^GradientDescent/update_Variable/ApplyGradientDescent\"\n",
      "\n"
     ]
    }
   ],
   "source": [
    "print(loss)\n",
    "print('-------------------------------------')\n",
    "print(opt)"
   ]
  },
  {
   "cell_type": "code",
   "execution_count": 9,
   "metadata": {},
   "outputs": [],
   "source": [
    "init = tf.global_variables_initializer()\n",
    "sess.run(init)"
   ]
  },
  {
   "cell_type": "code",
   "execution_count": 11,
   "metadata": {},
   "outputs": [
    {
     "name": "stdout",
     "output_type": "stream",
     "text": [
      "(10,)\n",
      "(1, 10)\n"
     ]
    }
   ],
   "source": [
    "tmp = np.random.choice(100, 10)\n",
    "tmp_ = x_vals[tmp]\n",
    "print(tmp_.shape)\n",
    "print(np.array([tmp_]).shape)"
   ]
  },
  {
   "cell_type": "code",
   "execution_count": 12,
   "metadata": {},
   "outputs": [
    {
     "name": "stdout",
     "output_type": "stream",
     "text": [
      "Step 200: A=[4.623106], loss=2.1438746452331543\n",
      "Step 400: A=[0.8710772], loss=0.3599775433540344\n",
      "Step 600: A=[-0.15273455], loss=0.22346951067447662\n",
      "Step 800: A=[-0.4083303], loss=0.23356124758720398\n",
      "Step 1000: A=[-0.4776391], loss=0.15017089247703552\n",
      "Step 1200: A=[-0.50432235], loss=0.20340144634246826\n",
      "Step 1400: A=[-0.47417352], loss=0.23660489916801453\n",
      "Step 1600: A=[-0.52241707], loss=0.19117319583892822\n",
      "Step 1800: A=[-0.49674094], loss=0.18998399376869202\n"
     ]
    }
   ],
   "source": [
    "for i in range(1800):\n",
    "    rand_index = np.random.choice(len(x_vals_train), batch_size)\n",
    "    rand_x = np.transpose([x_vals_train[rand_index]])\n",
    "    rand_y = np.transpose([y_vals_train[rand_index]])\n",
    "    sess.run(opt, feed_dict={x_data: rand_x, y_data: rand_y})\n",
    "    if (i + 1) % 200 == 0:\n",
    "        loss_, A_ = sess.run([loss, A], feed_dict={x_data: rand_x, y_data: rand_y})\n",
    "        print('Step {0}: A={1}, loss={2}'.format(i+1, A_, loss_))"
   ]
  },
  {
   "cell_type": "code",
   "execution_count": 15,
   "metadata": {},
   "outputs": [
    {
     "data": {
      "text/plain": [
       "TensorShape([Dimension(None), Dimension(1)])"
      ]
     },
     "execution_count": 15,
     "metadata": {},
     "output_type": "execute_result"
    }
   ],
   "source": [
    "y_data.shape"
   ]
  },
  {
   "cell_type": "code",
   "execution_count": 16,
   "metadata": {},
   "outputs": [
    {
     "data": {
      "text/plain": [
       "TensorShape([Dimension(None), Dimension(1)])"
      ]
     },
     "execution_count": 16,
     "metadata": {},
     "output_type": "execute_result"
    }
   ],
   "source": [
    "y_pred = tf.round(tf.nn.sigmoid(tf.add(x_data, A)))\n",
    "y_pred.shape"
   ]
  },
  {
   "cell_type": "code",
   "execution_count": 26,
   "metadata": {},
   "outputs": [
    {
     "name": "stdout",
     "output_type": "stream",
     "text": [
      "Train accuarcy: 0.975\n",
      "Test accuracy: 1.0\n"
     ]
    }
   ],
   "source": [
    "correct_prediction = tf.equal(y_pred, y_data)\n",
    "accuracy = tf.reduce_mean(tf.cast(correct_prediction, tf.float32))\n",
    "acc_train = sess.run(accuracy, feed_dict={x_data: np.transpose([x_vals_train]), y_data: np.transpose([y_vals_train])})\n",
    "acc_test = sess.run(accuracy, feed_dict={x_data: np.transpose([x_vals_test]), y_data: np.transpose([y_vals_test])})\n",
    "print('Train accuarcy:', acc_train)\n",
    "print('Test accuracy:', acc_test)"
   ]
  },
  {
   "cell_type": "code",
   "execution_count": null,
   "metadata": {},
   "outputs": [],
   "source": []
  }
 ],
 "metadata": {
  "kernelspec": {
   "display_name": "Python 3",
   "language": "python",
   "name": "python3"
  },
  "language_info": {
   "codemirror_mode": {
    "name": "ipython",
    "version": 3
   },
   "file_extension": ".py",
   "mimetype": "text/x-python",
   "name": "python",
   "nbconvert_exporter": "python",
   "pygments_lexer": "ipython3",
   "version": "3.5.2"
  }
 },
 "nbformat": 4,
 "nbformat_minor": 2
}
