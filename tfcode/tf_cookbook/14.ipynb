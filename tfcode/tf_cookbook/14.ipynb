{
 "cells": [
  {
   "cell_type": "code",
   "execution_count": 46,
   "metadata": {},
   "outputs": [],
   "source": [
    "# 使用Tensorflow进行线性回归的求解\n",
    "import tensorflow as tf\n",
    "import matplotlib.pyplot as plt\n",
    "import numpy as np\n",
    "from sklearn import datasets"
   ]
  },
  {
   "cell_type": "code",
   "execution_count": 47,
   "metadata": {},
   "outputs": [],
   "source": [
    "sess = tf.Session()"
   ]
  },
  {
   "cell_type": "code",
   "execution_count": 48,
   "metadata": {},
   "outputs": [],
   "source": [
    "iris = datasets.load_iris()"
   ]
  },
  {
   "cell_type": "code",
   "execution_count": 49,
   "metadata": {},
   "outputs": [],
   "source": [
    "x_vals = np.array([[x[3] for x in iris.data]])\n",
    "y_vals = np.array([[x[0] for x in iris.data]])"
   ]
  },
  {
   "cell_type": "code",
   "execution_count": 50,
   "metadata": {},
   "outputs": [
    {
     "name": "stdout",
     "output_type": "stream",
     "text": [
      "(1, 150)\n",
      "(1, 150)\n"
     ]
    }
   ],
   "source": [
    "print(x_vals.shape)\n",
    "print(y_vals.shape)"
   ]
  },
  {
   "cell_type": "code",
   "execution_count": 51,
   "metadata": {},
   "outputs": [],
   "source": [
    "x_vals_column = np.transpose(x_vals)\n",
    "y_vals_column = np.transpose(y_vals)"
   ]
  },
  {
   "cell_type": "code",
   "execution_count": 52,
   "metadata": {},
   "outputs": [
    {
     "name": "stdout",
     "output_type": "stream",
     "text": [
      "(150, 1)\n",
      "(150, 1)\n"
     ]
    }
   ],
   "source": [
    "print(x_vals_column.shape)\n",
    "print(y_vals_column.shape)"
   ]
  },
  {
   "cell_type": "code",
   "execution_count": 53,
   "metadata": {},
   "outputs": [
    {
     "name": "stdout",
     "output_type": "stream",
     "text": [
      "[[0.2]\n",
      " [0.2]\n",
      " [0.2]\n",
      " [0.2]\n",
      " [0.2]\n",
      " [0.4]\n",
      " [0.3]\n",
      " [0.2]]\n"
     ]
    }
   ],
   "source": [
    "print(x_vals_column[:8, :])"
   ]
  },
  {
   "cell_type": "code",
   "execution_count": 54,
   "metadata": {},
   "outputs": [
    {
     "name": "stdout",
     "output_type": "stream",
     "text": [
      "(8, 1)\n"
     ]
    }
   ],
   "source": [
    "print(x_vals_column[:8].shape)"
   ]
  },
  {
   "cell_type": "code",
   "execution_count": 55,
   "metadata": {},
   "outputs": [],
   "source": [
    "learning_rate = 0.05\n",
    "batch_size = 25\n",
    "\n",
    "x_data = tf.placeholder(shape=[None, 1], dtype=tf.float32)\n",
    "y_data = tf.placeholder(shape=[None, 1], dtype=tf.float32)\n",
    "A = tf.Variable(tf.random_normal(shape=[1, 1]))\n",
    "b = tf.Variable(tf.random_normal(shape=[1]))"
   ]
  },
  {
   "cell_type": "code",
   "execution_count": 56,
   "metadata": {},
   "outputs": [
    {
     "name": "stdout",
     "output_type": "stream",
     "text": [
      "<tf.Variable 'Variable_4:0' shape=(1, 1) dtype=float32_ref>\n",
      "<tf.Variable 'Variable_5:0' shape=(1,) dtype=float32_ref>\n"
     ]
    }
   ],
   "source": [
    "print(A)\n",
    "print(b)"
   ]
  },
  {
   "cell_type": "code",
   "execution_count": 57,
   "metadata": {},
   "outputs": [],
   "source": [
    "model_out = tf.add(tf.matmul(x_data, A), b)"
   ]
  },
  {
   "cell_type": "code",
   "execution_count": 58,
   "metadata": {},
   "outputs": [
    {
     "name": "stdout",
     "output_type": "stream",
     "text": [
      "Tensor(\"Add_2:0\", shape=(?, 1), dtype=float32)\n"
     ]
    }
   ],
   "source": [
    "print(model_out)"
   ]
  },
  {
   "cell_type": "code",
   "execution_count": 59,
   "metadata": {},
   "outputs": [],
   "source": [
    "loss = tf.reduce_mean(tf.square(y_data - model_out))"
   ]
  },
  {
   "cell_type": "code",
   "execution_count": 60,
   "metadata": {},
   "outputs": [
    {
     "name": "stdout",
     "output_type": "stream",
     "text": [
      "Tensor(\"Mean_2:0\", shape=(), dtype=float32)\n"
     ]
    }
   ],
   "source": [
    "print(loss)"
   ]
  },
  {
   "cell_type": "code",
   "execution_count": 61,
   "metadata": {},
   "outputs": [],
   "source": [
    "opt = tf.train.GradientDescentOptimizer(learning_rate=learning_rate).minimize(loss)"
   ]
  },
  {
   "cell_type": "code",
   "execution_count": 62,
   "metadata": {},
   "outputs": [],
   "source": [
    "init = tf.global_variables_initializer()\n",
    "sess.run(init)"
   ]
  },
  {
   "cell_type": "code",
   "execution_count": 63,
   "metadata": {},
   "outputs": [
    {
     "name": "stdout",
     "output_type": "stream",
     "text": [
      "Step # 25: A=[[0.42301857]], b=[4.622227]\n",
      "loss= 0.19254951\n",
      "Step # 50: A=[[0.49377206]], b=[4.9759936]\n",
      "loss= 0.00079425366\n",
      "Step # 75: A=[[0.4983164]], b=[4.9987154]\n",
      "loss= 3.2746414e-06\n",
      "Step # 100: A=[[0.4986081]], b=[5.000174]\n",
      "loss= 1.3648105e-08\n"
     ]
    }
   ],
   "source": [
    "loss_vec = []\n",
    "for i in range(100):\n",
    "    rand_index = np.random.choice(len(x_vals), batch_size)\n",
    "    rand_x = x_vals_column[rand_index]\n",
    "    rand_y = y_vals_column[rand_index]\n",
    "    _, tmp_loss, A_, b_= sess.run([opt, loss, A, b], feed_dict={x_data: rand_x, y_data: rand_y})\n",
    "    loss_vec.append(tmp_loss)\n",
    "    if (i+1) % 25 == 0:\n",
    "        print('Step # {0}: A={1}, b={2}'.format(i+1, A_, b_))\n",
    "        print('loss=', tmp_loss)"
   ]
  },
  {
   "cell_type": "code",
   "execution_count": 73,
   "metadata": {},
   "outputs": [],
   "source": [
    "[[slope]] = sess.run(A)\n",
    "[intercept] = sess.run(b)"
   ]
  },
  {
   "cell_type": "code",
   "execution_count": 74,
   "metadata": {},
   "outputs": [
    {
     "name": "stdout",
     "output_type": "stream",
     "text": [
      "0.4986081\n",
      "5.000174\n"
     ]
    }
   ],
   "source": [
    "print(slope)\n",
    "print(intercept)"
   ]
  },
  {
   "cell_type": "code",
   "execution_count": 83,
   "metadata": {},
   "outputs": [],
   "source": [
    "best_fit = []\n",
    "for i in x_vals_column:\n",
    "    best_fit.append(slope * i + intercept)"
   ]
  },
  {
   "cell_type": "code",
   "execution_count": 88,
   "metadata": {},
   "outputs": [
    {
     "data": {
      "image/png": "[encoded data removed]",
      "text/plain": [
       "<Figure size 432x288 with 1 Axes>"
      ]
     },
     "metadata": {
      "needs_background": "light"
     },
     "output_type": "display_data"
    }
   ],
   "source": [
    "plt.plot(x_vals_column, y_vals_column, 'o', label='Data')\n",
    "plt.plot(x_vals_column, best_fit, 'r-', label='Fit line')\n",
    "plt.legend()\n",
    "plt.show()"
   ]
  },
  {
   "cell_type": "code",
   "execution_count": 89,
   "metadata": {},
   "outputs": [],
   "source": [
    "sess.close()"
   ]
  },
  {
   "cell_type": "code",
   "execution_count": 91,
   "metadata": {},
   "outputs": [
    {
     "data": {
      "image/png": "[encoded data removed]",
      "text/plain": [
       "<Figure size 432x288 with 1 Axes>"
      ]
     },
     "metadata": {
      "needs_background": "light"
     },
     "output_type": "display_data"
    }
   ],
   "source": [
    "plt.plot(loss_vec)\n",
    "plt.xlabel('Step')\n",
    "plt.ylabel('Loss value')\n",
    "plt.show()"
   ]
  },
  {
   "cell_type": "code",
   "execution_count": 92,
   "metadata": {},
   "outputs": [],
   "source": [
    "# 使用l1损失损失进行计算"
   ]
  },
  {
   "cell_type": "code",
   "execution_count": 106,
   "metadata": {},
   "outputs": [],
   "source": [
    "tf.reset_default_graph()\n",
    "sess = tf.Session()"
   ]
  },
  {
   "cell_type": "code",
   "execution_count": 107,
   "metadata": {},
   "outputs": [],
   "source": [
    "x_vals = np.array([[x[3] for x in iris.data]])\n",
    "y_vals = np.array([[y[0] for y in iris.data]])"
   ]
  },
  {
   "cell_type": "code",
   "execution_count": 108,
   "metadata": {},
   "outputs": [
    {
     "name": "stdout",
     "output_type": "stream",
     "text": [
      "(1, 150)\n",
      "(1, 150)\n"
     ]
    }
   ],
   "source": [
    "print(x_vals.shape)\n",
    "print(y_vals.shape)"
   ]
  },
  {
   "cell_type": "code",
   "execution_count": 109,
   "metadata": {},
   "outputs": [],
   "source": [
    "x_vals_column = np.transpose(x_vals)\n",
    "y_vals_column = np.transpose(y_vals)"
   ]
  },
  {
   "cell_type": "code",
   "execution_count": 112,
   "metadata": {},
   "outputs": [
    {
     "name": "stdout",
     "output_type": "stream",
     "text": [
      "(150, 1)\n"
     ]
    }
   ],
   "source": [
    "print(x_vals_column.shape)"
   ]
  },
  {
   "cell_type": "code",
   "execution_count": 113,
   "metadata": {},
   "outputs": [
    {
     "name": "stdout",
     "output_type": "stream",
     "text": [
      "<tf.Variable 'Variable_2:0' shape=(1, 1) dtype=float32_ref>\n",
      "<tf.Variable 'Variable_3:0' shape=(1,) dtype=float32_ref>\n"
     ]
    }
   ],
   "source": [
    "batch_size = 25\n",
    "lr = 0.01\n",
    "iterations = 100\n",
    "\n",
    "A = tf.Variable(tf.random_normal(shape=[1, 1]))\n",
    "b = tf.Variable(tf.random_normal(shape=[1]))\n",
    "print(A)\n",
    "print(b)"
   ]
  },
  {
   "cell_type": "code",
   "execution_count": 114,
   "metadata": {},
   "outputs": [],
   "source": [
    "x_data = tf.placeholder(shape=[None, 1], dtype=tf.float32)\n",
    "y_data = tf.placeholder(shape=[None, 1], dtype=tf.float32)"
   ]
  },
  {
   "cell_type": "code",
   "execution_count": 115,
   "metadata": {},
   "outputs": [
    {
     "name": "stdout",
     "output_type": "stream",
     "text": [
      "Tensor(\"Add:0\", shape=(?, 1), dtype=float32)\n"
     ]
    }
   ],
   "source": [
    "model_out = tf.add(tf.matmul(x_data, A), b)\n",
    "print(model_out)"
   ]
  },
  {
   "cell_type": "code",
   "execution_count": 116,
   "metadata": {},
   "outputs": [
    {
     "name": "stdout",
     "output_type": "stream",
     "text": [
      "Tensor(\"Mean:0\", shape=(), dtype=float32)\n"
     ]
    }
   ],
   "source": [
    "loss = tf.reduce_mean(tf.abs(y_data - model_out))\n",
    "print(loss)"
   ]
  },
  {
   "cell_type": "code",
   "execution_count": 117,
   "metadata": {},
   "outputs": [
    {
     "name": "stdout",
     "output_type": "stream",
     "text": [
      "name: \"GradientDescent\"\n",
      "op: \"NoOp\"\n",
      "input: \"^GradientDescent/update_Variable_2/ApplyGradientDescent\"\n",
      "input: \"^GradientDescent/update_Variable_3/ApplyGradientDescent\"\n",
      "\n"
     ]
    }
   ],
   "source": [
    "opt = tf.train.GradientDescentOptimizer(lr).minimize(loss)\n",
    "print(opt)"
   ]
  },
  {
   "cell_type": "code",
   "execution_count": 118,
   "metadata": {},
   "outputs": [],
   "source": [
    "init = tf.global_variables_initializer()\n",
    "sess.run(init)"
   ]
  },
  {
   "cell_type": "code",
   "execution_count": 119,
   "metadata": {},
   "outputs": [
    {
     "name": "stdout",
     "output_type": "stream",
     "text": [
      "Step # 25: A=[[0.36626425]], b=[0.31105807]\n",
      "Loss= 5.1556983\n",
      "Step # 50: A=[[0.6666242]], b=[0.56105787]\n",
      "Loss= 4.549519\n",
      "Step # 75: A=[[0.97102416]], b=[0.8110576]\n",
      "Loss= 3.8621027\n",
      "Step # 100: A=[[1.2737843]], b=[1.0610574]\n",
      "Loss= 3.2478013\n"
     ]
    }
   ],
   "source": [
    "loss_vec2 = []\n",
    "for i in range(iterations):\n",
    "    rand_index = np.random.choice(len(x_vals_column), batch_size)\n",
    "    rand_x = x_vals_column[rand_index]\n",
    "    rand_y = y_vals_column[rand_index]\n",
    "    _, loss_, A_, b_ = sess.run([opt, loss, A, b], feed_dict={x_data: rand_x, y_data: rand_y})\n",
    "    loss_vec2.append(loss_)\n",
    "    if (i + 1) % 25 == 0:\n",
    "        print('Step # {0}: A={1}, b={2}'.format(i+1, A_, b_))\n",
    "        print('Loss=', loss_)"
   ]
  },
  {
   "cell_type": "code",
   "execution_count": 120,
   "metadata": {},
   "outputs": [
    {
     "data": {
      "image/png": "[encoded data removed]",
      "text/plain": [
       "<Figure size 432x288 with 1 Axes>"
      ]
     },
     "metadata": {
      "needs_background": "light"
     },
     "output_type": "display_data"
    }
   ],
   "source": [
    "plt.plot(loss_vec, 'k-', label='L2 loss')\n",
    "plt.plot(loss_vec2, 'r--', label='L1 loss')\n",
    "plt.legend()\n",
    "plt.xlabel('Iterations')\n",
    "plt.ylabel('loss value')\n",
    "plt.show()"
   ]
  },
  {
   "cell_type": "code",
   "execution_count": 122,
   "metadata": {},
   "outputs": [],
   "source": [
    "sess.close()"
   ]
  },
  {
   "cell_type": "code",
   "execution_count": 121,
   "metadata": {},
   "outputs": [],
   "source": [
    "# 岭回归"
   ]
  },
  {
   "cell_type": "code",
   "execution_count": 123,
   "metadata": {},
   "outputs": [],
   "source": [
    "tf.reset_default_graph()"
   ]
  },
  {
   "cell_type": "code",
   "execution_count": 124,
   "metadata": {},
   "outputs": [],
   "source": [
    "import tensorflow as tf\n",
    "import matplotlib.pyplot as plt\n",
    "import numpy as np\n",
    "from sklearn import datasets"
   ]
  },
  {
   "cell_type": "code",
   "execution_count": 125,
   "metadata": {},
   "outputs": [],
   "source": [
    "sess = tf.Session()"
   ]
  },
  {
   "cell_type": "code",
   "execution_count": 126,
   "metadata": {},
   "outputs": [],
   "source": [
    "iris = datasets.load_iris()"
   ]
  },
  {
   "cell_type": "code",
   "execution_count": 127,
   "metadata": {},
   "outputs": [],
   "source": [
    "x_vals = np.array([[x[3] for x in iris.data]])\n",
    "y_vals = np.array([[y[0] for y in iris.data]])"
   ]
  },
  {
   "cell_type": "code",
   "execution_count": 128,
   "metadata": {},
   "outputs": [
    {
     "name": "stdout",
     "output_type": "stream",
     "text": [
      "(1, 150)\n",
      "(1, 150)\n"
     ]
    }
   ],
   "source": [
    "print(x_vals.shape)\n",
    "print(y_vals.shape)"
   ]
  },
  {
   "cell_type": "code",
   "execution_count": 129,
   "metadata": {},
   "outputs": [],
   "source": [
    "x_vals_column = np.transpose(x_vals)\n",
    "y_vals_column = np.transpose(y_vals)"
   ]
  },
  {
   "cell_type": "code",
   "execution_count": 130,
   "metadata": {},
   "outputs": [
    {
     "name": "stdout",
     "output_type": "stream",
     "text": [
      "[[0.2]\n",
      " [0.2]\n",
      " [0.2]]\n"
     ]
    }
   ],
   "source": [
    "print(x_vals_column[:3])"
   ]
  },
  {
   "cell_type": "code",
   "execution_count": 131,
   "metadata": {},
   "outputs": [
    {
     "name": "stdout",
     "output_type": "stream",
     "text": [
      "[[5.1]\n",
      " [4.9]\n",
      " [4.7]]\n"
     ]
    }
   ],
   "source": [
    "print(y_vals_column[:3])"
   ]
  },
  {
   "cell_type": "code",
   "execution_count": 132,
   "metadata": {},
   "outputs": [],
   "source": [
    "batch_size = 50\n",
    "lr = 0.1\n",
    "iterations = 250\n",
    "\n",
    "x_data = tf.placeholder(shape=[None, 1], dtype=tf.float32)\n",
    "y_data = tf.placeholder(shape=[None, 1], dtype=tf.float32)\n",
    "A = tf.Variable(tf.random_normal(shape=[1, 1]))\n",
    "b = tf.Variable(tf.random_normal(shape=[1, 1]))\n",
    "model_out = tf.add(tf.matmul(x_data, A), b)"
   ]
  },
  {
   "cell_type": "code",
   "execution_count": 133,
   "metadata": {},
   "outputs": [
    {
     "name": "stdout",
     "output_type": "stream",
     "text": [
      "Tensor(\"Add:0\", shape=(?, 1), dtype=float32)\n"
     ]
    }
   ],
   "source": [
    "print(model_out)"
   ]
  },
  {
   "cell_type": "code",
   "execution_count": 137,
   "metadata": {},
   "outputs": [],
   "source": [
    "# 定义损失函数\n",
    "deming_numerator = tf.abs(tf.subtract(y_data, tf.add(tf.matmul(x_data, A), b)))\n",
    "deming_denominator = tf.sqrt(tf.add(tf.square(A), 1))\n",
    "loss = tf.reduce_mean(tf.truediv(deming_numerator, deming_denominator))"
   ]
  },
  {
   "cell_type": "code",
   "execution_count": 138,
   "metadata": {},
   "outputs": [
    {
     "name": "stdout",
     "output_type": "stream",
     "text": [
      "name: \"GradientDescent\"\n",
      "op: \"NoOp\"\n",
      "input: \"^GradientDescent/update_Variable/ApplyGradientDescent\"\n",
      "input: \"^GradientDescent/update_Variable_1/ApplyGradientDescent\"\n",
      "\n"
     ]
    }
   ],
   "source": [
    "opt = tf.train.GradientDescentOptimizer(lr).minimize(loss)\n",
    "print(opt)"
   ]
  },
  {
   "cell_type": "code",
   "execution_count": 139,
   "metadata": {},
   "outputs": [],
   "source": [
    "init = tf.global_variables_initializer()\n",
    "sess.run(init)"
   ]
  },
  {
   "cell_type": "code",
   "execution_count": 140,
   "metadata": {},
   "outputs": [
    {
     "name": "stdout",
     "output_type": "stream",
     "text": [
      "Step # 25: A=[[3.0402195]], b=[[0.70481443]]\n",
      "loss= 0.6794238\n",
      "Step # 50: A=[[3.375026]], b=[[0.9856215]]\n",
      "loss= 0.461687\n",
      "Step # 75: A=[[3.474507]], b=[[1.1430961]]\n",
      "loss= 0.40717912\n",
      "Step # 100: A=[[3.4557545]], b=[[1.2169344]]\n",
      "loss= 0.40649432\n",
      "Step # 125: A=[[3.4284503]], b=[[1.2941208]]\n",
      "loss= 0.47604284\n",
      "Step # 150: A=[[3.3945274]], b=[[1.362654]]\n",
      "loss= 0.43359634\n",
      "Step # 175: A=[[3.3175142]], b=[[1.3981267]]\n",
      "loss= 0.46745324\n",
      "Step # 200: A=[[3.2756333]], b=[[1.4711288]]\n",
      "loss= 0.3571404\n",
      "Step # 225: A=[[3.231778]], b=[[1.5442514]]\n",
      "loss= 0.4606045\n",
      "Step # 250: A=[[3.1890213]], b=[[1.6189439]]\n",
      "loss= 0.40237045\n"
     ]
    }
   ],
   "source": [
    "loss_vec3 = []\n",
    "for i in range(iterations):\n",
    "    rand_index = np.random.choice(len(x_vals_column), batch_size)\n",
    "    rand_x = x_vals_column[rand_index]\n",
    "    rand_y = y_vals_column[rand_index]\n",
    "    _, loss_, A_, b_ = sess.run([opt, loss, A, b], feed_dict={x_data: rand_x, y_data: rand_y})\n",
    "    loss_vec3.append(loss_)\n",
    "    if (i + 1) % 25 == 0:\n",
    "        print('Step # {0}: A={1}, b={2}'.format(i+1, A_, b_))\n",
    "        print('loss=', loss_)"
   ]
  },
  {
   "cell_type": "code",
   "execution_count": 142,
   "metadata": {},
   "outputs": [
    {
     "name": "stdout",
     "output_type": "stream",
     "text": [
      "3.1890213\n",
      "1.6189439\n"
     ]
    }
   ],
   "source": [
    "[[slope]] = sess.run(A)\n",
    "[[intercept]] = sess.run(b)\n",
    "print(slope)\n",
    "print(intercept)"
   ]
  },
  {
   "cell_type": "code",
   "execution_count": 143,
   "metadata": {},
   "outputs": [],
   "source": [
    "best_fit = []\n",
    "for i in x_vals_column:\n",
    "    best_fit.append(slope * i + intercept)"
   ]
  },
  {
   "cell_type": "code",
   "execution_count": 164,
   "metadata": {},
   "outputs": [
    {
     "data": {
      "image/png": "[encoded data removed]",
      "text/plain": [
       "<Figure size 432x288 with 1 Axes>"
      ]
     },
     "metadata": {
      "needs_background": "light"
     },
     "output_type": "display_data"
    }
   ],
   "source": [
    "plt.plot(x_vals_column, y_vals_column, 'o', label='Data')\n",
    "plt.plot(x_vals_column, best_fit, 'r-', label='Fit line')\n",
    "plt.legend()\n",
    "plt.show()"
   ]
  },
  {
   "cell_type": "code",
   "execution_count": 162,
   "metadata": {},
   "outputs": [
    {
     "data": {
      "image/png": "[encoded data removed]",
      "text/plain": [
       "<Figure size 432x288 with 1 Axes>"
      ]
     },
     "metadata": {
      "needs_background": "light"
     },
     "output_type": "display_data"
    }
   ],
   "source": [
    "plt.plot(loss_vec3)\n",
    "plt.show()"
   ]
  },
  {
   "cell_type": "code",
   "execution_count": 165,
   "metadata": {},
   "outputs": [],
   "source": [
    "sess.close()"
   ]
  },
  {
   "cell_type": "code",
   "execution_count": 217,
   "metadata": {},
   "outputs": [],
   "source": [
    "tf.reset_default_graph()\n",
    "sess = tf.Session()"
   ]
  },
  {
   "cell_type": "code",
   "execution_count": 218,
   "metadata": {},
   "outputs": [],
   "source": [
    "iris = datasets.load_iris() \n",
    "x_vals = np.array([[x[3] for x in iris.data]]) \n",
    "y_vals = np.array([[y[0] for y in iris.data]]) \n",
    "batch_size = 50 \n",
    "learning_rate = 0.001 \n",
    "x_data = tf.placeholder(shape=[None, 1], dtype=tf.float32) \n",
    "y_target = tf.placeholder(shape=[None, 1], dtype=tf.float32) \n",
    "A = tf.Variable(tf.random_normal(shape=[1,1])) \n",
    "b = tf.Variable(tf.random_normal(shape=[1,1])) \n",
    "model_output = tf.add(tf.matmul(x_data, A), b)"
   ]
  },
  {
   "cell_type": "code",
   "execution_count": 219,
   "metadata": {},
   "outputs": [],
   "source": [
    "x_vals_column = np.transpose(x_vals)\n",
    "y_vals_column = np.transpose(y_vals)"
   ]
  },
  {
   "cell_type": "code",
   "execution_count": 220,
   "metadata": {},
   "outputs": [
    {
     "name": "stdout",
     "output_type": "stream",
     "text": [
      "(150, 1)\n",
      "(150, 1)\n"
     ]
    }
   ],
   "source": [
    "print(x_vals_column.shape)\n",
    "print(y_vals_column.shape)"
   ]
  },
  {
   "cell_type": "code",
   "execution_count": 221,
   "metadata": {},
   "outputs": [],
   "source": [
    "lasso_param = tf.constant(0.9) \n",
    "heavyside_step = tf.truediv(1., tf.add(1., tf.exp(tf.multiply(-100., tf.subtract(A, lasso_param))))) \n",
    "regularization_param = tf.multiply(heavyside_step, 99.) \n",
    "loss = tf.add(tf.reduce_mean(tf.square(y_target - model_output)), regularization_param)"
   ]
  },
  {
   "cell_type": "code",
   "execution_count": 222,
   "metadata": {},
   "outputs": [],
   "source": [
    "init = tf.global_variables_initializer() \n",
    "sess.run(init) \n",
    "my_opt = tf.train.GradientDescentOptimizer(learning_rate) \n",
    "train_step = my_opt.minimize(loss)"
   ]
  },
  {
   "cell_type": "code",
   "execution_count": 223,
   "metadata": {},
   "outputs": [
    {
     "name": "stdout",
     "output_type": "stream",
     "text": [
      "Step #300 A = [[0.79076856]] b = [[1.935511]]\n",
      "Loss = [[9.039837]]\n",
      "Step #600 A = [[0.80411994]] b = [[3.2915382]]\n",
      "Loss = [[2.7214954]]\n",
      "Step #900 A = [[0.7983446]] b = [[4.0357633]]\n",
      "Loss = [[0.82205147]]\n",
      "Step #1200 A = [[0.7927269]] b = [[4.444472]]\n",
      "Loss = [[0.24916345]]\n",
      "Step #1500 A = [[0.7873459]] b = [[4.669136]]\n",
      "Loss = [[0.0760126]]\n"
     ]
    }
   ],
   "source": [
    "loss_vec4 = [] \n",
    "for i in range(1500): \n",
    "    rand_index = np.random.choice(len(x_vals), size=batch_size) \n",
    "    rand_x = x_vals_column[rand_index]\n",
    "    rand_y = y_vals_column[rand_index] \n",
    "    sess.run(train_step, feed_dict={x_data: rand_x, y_target: rand_y}) \n",
    "    temp_loss = sess.run(loss, feed_dict={x_data: rand_x, y_target: rand_y}) \n",
    "    loss_vec4.append(temp_loss[0]) \n",
    "    if (i+1)%300==0: \n",
    "        print('Step #' + str(i+1) + ' A = ' + str(sess.run(A)) + ' b = ' + str(sess.run(b))) \n",
    "        print('Loss = ' + str(temp_loss))"
   ]
  },
  {
   "cell_type": "code",
   "execution_count": 226,
   "metadata": {},
   "outputs": [
    {
     "data": {
      "image/png": "[encoded data removed]",
      "text/plain": [
       "<Figure size 432x288 with 1 Axes>"
      ]
     },
     "metadata": {
      "needs_background": "light"
     },
     "output_type": "display_data"
    }
   ],
   "source": [
    "plt.plot(loss_vec4, label='lasso loss')\n",
    "plt.show()"
   ]
  },
  {
   "cell_type": "code",
   "execution_count": 227,
   "metadata": {},
   "outputs": [],
   "source": [
    "# 岭回归"
   ]
  },
  {
   "cell_type": "code",
   "execution_count": 228,
   "metadata": {},
   "outputs": [],
   "source": [
    "tf.reset_default_graph()\n",
    "sess = tf.Session()"
   ]
  },
  {
   "cell_type": "code",
   "execution_count": 229,
   "metadata": {},
   "outputs": [],
   "source": [
    "iris = datasets.load_iris()"
   ]
  },
  {
   "cell_type": "code",
   "execution_count": 230,
   "metadata": {},
   "outputs": [
    {
     "name": "stdout",
     "output_type": "stream",
     "text": [
      "(1, 150)\n",
      "(1, 150)\n"
     ]
    }
   ],
   "source": [
    "x_vals = np.array([[x[3] for x in iris.data]])\n",
    "y_vals = np.array([[y[0] for y in iris.data]])\n",
    "print(x_vals.shape)\n",
    "print(y_vals.shape)"
   ]
  },
  {
   "cell_type": "code",
   "execution_count": 231,
   "metadata": {},
   "outputs": [
    {
     "name": "stdout",
     "output_type": "stream",
     "text": [
      "(150, 1)\n",
      "(150, 1)\n"
     ]
    }
   ],
   "source": [
    "x_vals_column = np.transpose(x_vals)\n",
    "y_vals_column = np.transpose(y_vals)\n",
    "print(x_vals_column.shape)\n",
    "print(y_vals_column.shape)"
   ]
  },
  {
   "cell_type": "code",
   "execution_count": 232,
   "metadata": {},
   "outputs": [],
   "source": [
    "x_data = tf.placeholder(shape=[None, 1], dtype=tf.float32)\n",
    "y_data = tf.placeholder(shape=[None, 1], dtype=tf.float32)\n",
    "\n",
    "A = tf.Variable(tf.random_normal(shape=[1, 1]))\n",
    "b = tf.Variable(tf.random_normal(shape=[1, 1]))\n",
    "model_out = tf.add(tf.matmul(x_data, A), b)"
   ]
  },
  {
   "cell_type": "code",
   "execution_count": 233,
   "metadata": {},
   "outputs": [],
   "source": [
    "batch_size = 50\n",
    "lr = 0.001"
   ]
  },
  {
   "cell_type": "code",
   "execution_count": 234,
   "metadata": {},
   "outputs": [],
   "source": [
    "lasso_param = tf.constant(1.)\n",
    "lasso_loss = tf.reduce_mean(tf.abs(A))\n",
    "loss = tf.add(tf.reduce_mean(tf.square(y_data - model_out)), tf.multiply(lasso_param, lasso_loss))"
   ]
  },
  {
   "cell_type": "code",
   "execution_count": 235,
   "metadata": {},
   "outputs": [
    {
     "name": "stdout",
     "output_type": "stream",
     "text": [
      "Tensor(\"Add_1:0\", shape=(), dtype=float32)\n"
     ]
    }
   ],
   "source": [
    "print(loss)"
   ]
  },
  {
   "cell_type": "code",
   "execution_count": 236,
   "metadata": {},
   "outputs": [],
   "source": [
    "loss = tf.expand_dims(loss, 0)"
   ]
  },
  {
   "cell_type": "code",
   "execution_count": 237,
   "metadata": {},
   "outputs": [
    {
     "name": "stdout",
     "output_type": "stream",
     "text": [
      "Tensor(\"ExpandDims:0\", shape=(1,), dtype=float32)\n"
     ]
    }
   ],
   "source": [
    "print(loss)"
   ]
  },
  {
   "cell_type": "code",
   "execution_count": 238,
   "metadata": {},
   "outputs": [],
   "source": [
    "opt = tf.train.GradientDescentOptimizer(lr).minimize(loss)"
   ]
  },
  {
   "cell_type": "code",
   "execution_count": 240,
   "metadata": {},
   "outputs": [],
   "source": [
    "init = tf.global_variables_initializer()\n",
    "sess.run(init)"
   ]
  },
  {
   "cell_type": "code",
   "execution_count": 241,
   "metadata": {},
   "outputs": [
    {
     "name": "stdout",
     "output_type": "stream",
     "text": [
      "Step # 250: A=[[2.197365]], b=[[0.7662017]]\n",
      "Loss= [9.115616]\n",
      "Step # 500: A=[[2.5205271]], b=[[1.6204653]]\n",
      "Loss= [4.867153]\n",
      "Step # 750: A=[[2.4091084]], b=[[2.1172602]]\n",
      "Loss= [4.5344763]\n",
      "Step # 1000: A=[[2.2039073]], b=[[2.5003963]]\n",
      "Loss= [4.0056763]\n"
     ]
    }
   ],
   "source": [
    "loss_vec5 = []\n",
    "for i in range(1000):\n",
    "    rand_index = np.random.choice(len(x_vals_column), batch_size)\n",
    "    rand_x = x_vals_column[rand_index]\n",
    "    rand_y = y_vals_column[rand_index]\n",
    "    _, loss_, A_, b_ = sess.run([opt, loss, A, b], feed_dict={x_data: rand_x, y_data: rand_y})\n",
    "    loss_vec5.append(loss_)\n",
    "    if (i + 1) % 250 == 0:\n",
    "        print('Step # {0}: A={1}, b={2}'.format(i+1, A_, b_))\n",
    "        print('Loss=', loss_)"
   ]
  },
  {
   "cell_type": "code",
   "execution_count": 242,
   "metadata": {},
   "outputs": [
    {
     "data": {
      "image/png": "[encoded data removed]",
      "text/plain": [
       "<Figure size 432x288 with 1 Axes>"
      ]
     },
     "metadata": {
      "needs_background": "light"
     },
     "output_type": "display_data"
    }
   ],
   "source": [
    "plt.plot(loss_vec5)\n",
    "plt.show()"
   ]
  },
  {
   "cell_type": "code",
   "execution_count": 243,
   "metadata": {},
   "outputs": [],
   "source": [
    "[[slope]] = sess.run(A)\n",
    "[[intercept]] = sess.run(b)"
   ]
  },
  {
   "cell_type": "code",
   "execution_count": 254,
   "metadata": {},
   "outputs": [],
   "source": [
    "best_fit = []\n",
    "for i in x_vals_column:\n",
    "    best_fit.append(slope * i + intercept)"
   ]
  },
  {
   "cell_type": "code",
   "execution_count": 258,
   "metadata": {},
   "outputs": [
    {
     "data": {
      "image/png": "[encoded data removed]",
      "text/plain": [
       "<Figure size 432x288 with 1 Axes>"
      ]
     },
     "metadata": {
      "needs_background": "light"
     },
     "output_type": "display_data"
    }
   ],
   "source": [
    "plt.plot(x_vals_column, y_vals_column, 'o', label='Data')\n",
    "plt.plot(x_vals_column, best_fit, 'r-', label='Fit line', linewidth=3)\n",
    "plt.legend()\n",
    "plt.show()"
   ]
  },
  {
   "cell_type": "code",
   "execution_count": 259,
   "metadata": {},
   "outputs": [],
   "source": [
    "sess.close()"
   ]
  },
  {
   "cell_type": "code",
   "execution_count": 260,
   "metadata": {},
   "outputs": [],
   "source": [
    "tf.reset_default_graph()"
   ]
  },
  {
   "cell_type": "code",
   "execution_count": 261,
   "metadata": {},
   "outputs": [],
   "source": [
    "sess = tf.Session()"
   ]
  },
  {
   "cell_type": "code",
   "execution_count": 262,
   "metadata": {},
   "outputs": [],
   "source": [
    "x_data = tf.placeholder(shape=[None, 1], dtype=tf.float32)\n",
    "y_data = tf.placeholder(shape=[None, 1], dtype=tf.float32)\n",
    "\n",
    "A = tf.Variable(tf.random_normal(shape=[1, 1]))\n",
    "b = tf.Variable(tf.random_normal(shape=[1, 1]))\n",
    "model_out = tf.add(tf.matmul(x_data, A), b)"
   ]
  },
  {
   "cell_type": "code",
   "execution_count": 263,
   "metadata": {},
   "outputs": [
    {
     "name": "stdout",
     "output_type": "stream",
     "text": [
      "Tensor(\"Add:0\", shape=(?, 1), dtype=float32)\n"
     ]
    }
   ],
   "source": [
    "print(model_out)"
   ]
  },
  {
   "cell_type": "code",
   "execution_count": 264,
   "metadata": {},
   "outputs": [],
   "source": [
    "ridge_param = tf.constant(1.)\n",
    "ridge_loss = tf.reduce_mean(tf.square(A))\n",
    "loss = tf.add(tf.reduce_mean(tf.square(y_data - model_out)), tf.multiply(ridge_param, ridge_loss))"
   ]
  },
  {
   "cell_type": "code",
   "execution_count": 265,
   "metadata": {},
   "outputs": [
    {
     "name": "stdout",
     "output_type": "stream",
     "text": [
      "Tensor(\"Add_1:0\", shape=(), dtype=float32)\n"
     ]
    }
   ],
   "source": [
    "print(loss)"
   ]
  },
  {
   "cell_type": "code",
   "execution_count": 266,
   "metadata": {},
   "outputs": [],
   "source": [
    "opt = tf.train.GradientDescentOptimizer(0.001).minimize(loss)"
   ]
  },
  {
   "cell_type": "code",
   "execution_count": 268,
   "metadata": {},
   "outputs": [],
   "source": [
    "init = tf.global_variables_initializer()\n",
    "sess.run(init)"
   ]
  },
  {
   "cell_type": "code",
   "execution_count": 269,
   "metadata": {},
   "outputs": [
    {
     "name": "stdout",
     "output_type": "stream",
     "text": [
      "Step # 250: A=[[1.663347]], b=[[1.5995272]]\n",
      "Loss= 9.532628\n",
      "Step # 500: A=[[1.6396548]], b=[[2.470891]]\n",
      "Loss= 5.1508627\n",
      "Step # 750: A=[[1.418108]], b=[[3.0804267]]\n",
      "Loss= 3.1744576\n",
      "Step # 1000: A=[[1.2066435]], b=[[3.5522282]]\n",
      "Loss= 2.5568316\n"
     ]
    }
   ],
   "source": [
    "loss_vec6 = []\n",
    "for i in range(1000):\n",
    "    rand_index = np.random.choice(len(x_vals_column), 50)\n",
    "    rand_x = x_vals_column[rand_index]\n",
    "    rand_y = y_vals_column[rand_index]\n",
    "    _, loss_, A_, b_ = sess.run([opt, loss, A, b], feed_dict={x_data: rand_x, y_data: rand_y})\n",
    "    loss_vec6.append(loss_)\n",
    "    if (i + 1) % 250 == 0:\n",
    "        print('Step # {0}: A={1}, b={2}'.format(i+1, A_, b_))\n",
    "        print('Loss=', loss_)"
   ]
  },
  {
   "cell_type": "code",
   "execution_count": 270,
   "metadata": {},
   "outputs": [
    {
     "data": {
      "image/png": "[encoded data removed]",
      "text/plain": [
       "<Figure size 432x288 with 1 Axes>"
      ]
     },
     "metadata": {
      "needs_background": "light"
     },
     "output_type": "display_data"
    }
   ],
   "source": [
    "plt.plot(loss_vec5, label='lasso loss')\n",
    "plt.plot(loss_vec6, label='ridge loss')\n",
    "plt.legend()\n",
    "plt.show()"
   ]
  },
  {
   "cell_type": "code",
   "execution_count": null,
   "metadata": {},
   "outputs": [],
   "source": []
  }
 ],
 "metadata": {
  "kernelspec": {
   "display_name": "Python 3",
   "language": "python",
   "name": "python3"
  },
  "language_info": {
   "codemirror_mode": {
    "name": "ipython",
    "version": 3
   },
   "file_extension": ".py",
   "mimetype": "text/x-python",
   "name": "python",
   "nbconvert_exporter": "python",
   "pygments_lexer": "ipython3",
   "version": "3.5.2"
  }
 },
 "nbformat": 4,
 "nbformat_minor": 2
}
