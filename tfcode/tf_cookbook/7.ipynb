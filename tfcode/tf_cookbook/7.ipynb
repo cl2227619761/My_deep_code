{
 "cells": [
  {
   "cell_type": "code",
   "execution_count": 1,
   "metadata": {},
   "outputs": [],
   "source": [
    "# 进行反向传播\n",
    "# Tensorflow的好处就是能够追踪运算，并且利用反向传播自动更新模型\n",
    "import tensorflow as tf\n",
    "import numpy as np\n",
    "\n",
    "sess = tf.Session()"
   ]
  },
  {
   "cell_type": "code",
   "execution_count": 27,
   "metadata": {},
   "outputs": [],
   "source": [
    "# 准备数据和变量，占位符\n",
    "x_vals = np.random.normal(1., 0.1, 100)\n",
    "y_vals = np.repeat(10., 100)\n",
    "x_data = tf.placeholder(tf.float32, shape=[1, ])\n",
    "y_target = tf.placeholder(tf.float32, shape=[1, ])\n",
    "A = tf.Variable(tf.random_normal(shape=[1]))"
   ]
  },
  {
   "cell_type": "code",
   "execution_count": 28,
   "metadata": {},
   "outputs": [],
   "source": [
    "model_out = tf.multiply(A, x_data)"
   ]
  },
  {
   "cell_type": "code",
   "execution_count": 29,
   "metadata": {},
   "outputs": [],
   "source": [
    "# 损失函数L2损失\n",
    "loss = tf.square(model_out - y_target)"
   ]
  },
  {
   "cell_type": "code",
   "execution_count": 30,
   "metadata": {},
   "outputs": [],
   "source": [
    "# 优化器\n",
    "opt = tf.train.GradientDescentOptimizer(learning_rate=0.02).minimize(loss)"
   ]
  },
  {
   "cell_type": "code",
   "execution_count": 31,
   "metadata": {},
   "outputs": [],
   "source": [
    "init = tf.global_variables_initializer()\n",
    "sess.run(init)"
   ]
  },
  {
   "cell_type": "code",
   "execution_count": 38,
   "metadata": {},
   "outputs": [
    {
     "name": "stdout",
     "output_type": "stream",
     "text": [
      "Step 25: A=[9.635802], loss=[8.762944]\n",
      "Step 50: A=[9.725661], loss=[0.34017506]\n",
      "Step 75: A=[9.69019], loss=[0.39676917]\n",
      "Step 100: A=[9.713978], loss=[3.0477078]\n"
     ]
    }
   ],
   "source": [
    "for i in range(100):\n",
    "    random_index = np.random.choice(100)\n",
    "    rand_x = [x_vals[random_index]]\n",
    "    rand_y = [y_vals[random_index]]\n",
    "    sess.run(opt, feed_dict={x_data: rand_x, y_target: rand_y})\n",
    "    if (i+1) % 25 == 0:\n",
    "        loss_, A_ = sess.run([loss, A], feed_dict={x_data: rand_x, y_target: rand_y})\n",
    "        print('Step {0}: A={1}, loss={2}'.format(i+1, A_, loss_))"
   ]
  },
  {
   "cell_type": "code",
   "execution_count": 39,
   "metadata": {},
   "outputs": [],
   "source": [
    "sess.close()"
   ]
  },
  {
   "cell_type": "code",
   "execution_count": 2,
   "metadata": {},
   "outputs": [],
   "source": [
    "# 分类问题"
   ]
  },
  {
   "cell_type": "code",
   "execution_count": 4,
   "metadata": {},
   "outputs": [],
   "source": [
    "# 创建数据集\n",
    "x_vals = np.concatenate((np.random.normal(-1, 1, 50), np.random.normal(3, 1, 50)))\n",
    "y_vals = np.concatenate((np.repeat(0., 50), np.repeat(1., 50)))"
   ]
  },
  {
   "cell_type": "code",
   "execution_count": 6,
   "metadata": {},
   "outputs": [
    {
     "name": "stdout",
     "output_type": "stream",
     "text": [
      "(100,)\n",
      "[-0.81296518 -1.43391973 -1.30043178 -1.79611756  0.64300349  0.51847004\n",
      " -2.56972077 -2.53022784 -0.87558221 -1.67185843 -3.31862602  0.17668079\n",
      " -0.86117587  1.14577663 -1.79425401 -0.11241588  0.09316317 -1.7471799\n",
      " -0.69721887 -0.7141873  -0.72530908 -1.27683148 -2.51084189 -2.45400174\n",
      " -0.80070949 -0.78346025  0.01882484 -1.54774315 -0.20846196 -1.47683793\n",
      " -1.29653159 -1.16081349 -1.14845248 -2.14118432  1.2220863  -1.68597281\n",
      " -3.20220766 -0.43006654 -1.05156612 -1.05830981 -1.2571112  -1.06425733\n",
      " -2.50654504 -2.50920104 -0.84721013 -1.7164852  -0.30152477 -1.65206267\n",
      " -1.11690936  0.09263359  2.01350045  3.26103972  2.56729187  3.64738847\n",
      "  2.33915428  3.1075937   3.29635197  2.75913635  2.31252493  2.23859149\n",
      "  1.54531132  3.25976382  2.84176894  2.59234945  3.39895131  2.84176965\n",
      "  3.56273182  3.24114744  4.34872837  2.63760363  4.85297677  2.99455656\n",
      "  3.19221587  2.79138093  2.16074454  3.74210037  3.61359453  4.14246752\n",
      "  2.94747134  2.0251166   3.53213356  4.06806176  3.00180834  3.05485927\n",
      "  2.17906669  3.7043982   3.46612589  3.35976385  2.93575096  2.62827003\n",
      "  1.88087959  2.20521972  3.28157139  4.89582261  1.58104758  2.29400661\n",
      "  1.98420702  3.92903103  2.76505251  3.00697919]\n"
     ]
    }
   ],
   "source": [
    "print(x_vals.shape)\n",
    "print(x_vals)"
   ]
  },
  {
   "cell_type": "code",
   "execution_count": 7,
   "metadata": {},
   "outputs": [
    {
     "name": "stdout",
     "output_type": "stream",
     "text": [
      "(100,)\n",
      "[0. 0. 0. 0. 0. 0. 0. 0. 0. 0. 0. 0. 0. 0. 0. 0. 0. 0. 0. 0. 0. 0. 0. 0.\n",
      " 0. 0. 0. 0. 0. 0. 0. 0. 0. 0. 0. 0. 0. 0. 0. 0. 0. 0. 0. 0. 0. 0. 0. 0.\n",
      " 0. 0. 1. 1. 1. 1. 1. 1. 1. 1. 1. 1. 1. 1. 1. 1. 1. 1. 1. 1. 1. 1. 1. 1.\n",
      " 1. 1. 1. 1. 1. 1. 1. 1. 1. 1. 1. 1. 1. 1. 1. 1. 1. 1. 1. 1. 1. 1. 1. 1.\n",
      " 1. 1. 1. 1.]\n"
     ]
    }
   ],
   "source": [
    "print(y_vals.shape)\n",
    "print(y_vals)"
   ]
  },
  {
   "cell_type": "code",
   "execution_count": 8,
   "metadata": {},
   "outputs": [],
   "source": [
    "# 创建占位符和变量\n",
    "x_data = tf.placeholder(tf.float32, shape=[1])\n",
    "y_data = tf.placeholder(tf.float32, shape=[1])\n",
    "A = tf.Variable(tf.random_normal(mean=10, shape=[1]))"
   ]
  },
  {
   "cell_type": "code",
   "execution_count": 9,
   "metadata": {},
   "outputs": [],
   "source": [
    "model_out = tf.add(A, x_data)"
   ]
  },
  {
   "cell_type": "code",
   "execution_count": 10,
   "metadata": {},
   "outputs": [
    {
     "name": "stdout",
     "output_type": "stream",
     "text": [
      "Tensor(\"Add:0\", shape=(1,), dtype=float32)\n"
     ]
    }
   ],
   "source": [
    "print(model_out)"
   ]
  },
  {
   "cell_type": "code",
   "execution_count": 11,
   "metadata": {},
   "outputs": [],
   "source": [
    "# 添加一个批次梯度\n",
    "model_out_expand = tf.expand_dims(model_out, 0)\n",
    "y_data_expand = tf.expand_dims(y_data, 0)"
   ]
  },
  {
   "cell_type": "code",
   "execution_count": 12,
   "metadata": {},
   "outputs": [
    {
     "name": "stdout",
     "output_type": "stream",
     "text": [
      "Tensor(\"ExpandDims:0\", shape=(1, 1), dtype=float32)\n",
      "Tensor(\"ExpandDims_1:0\", shape=(1, 1), dtype=float32)\n"
     ]
    }
   ],
   "source": [
    "print(model_out_expand)\n",
    "print(y_data_expand)"
   ]
  },
  {
   "cell_type": "code",
   "execution_count": 13,
   "metadata": {},
   "outputs": [],
   "source": [
    "# 然后初始化所有变量\n",
    "init = tf.global_variables_initializer()\n",
    "sess.run(init)"
   ]
  },
  {
   "cell_type": "code",
   "execution_count": 14,
   "metadata": {},
   "outputs": [],
   "source": [
    "# tf.nn.sigmoid_cross_entropy_with_logits()需要的参数shape要有批次维度，所以需要使用扩充维度后的数据\n",
    "loss = tf.nn.sigmoid_cross_entropy_with_logits(logits=model_out_expand, labels=y_data_expand)"
   ]
  },
  {
   "cell_type": "code",
   "execution_count": 15,
   "metadata": {},
   "outputs": [],
   "source": [
    "# 优化器\n",
    "opt = tf.train.GradientDescentOptimizer(learning_rate=0.05).minimize(loss)"
   ]
  },
  {
   "cell_type": "code",
   "execution_count": 17,
   "metadata": {},
   "outputs": [
    {
     "name": "stdout",
     "output_type": "stream",
     "text": [
      "Step 200: A=[2.8413012], loss=[[2.985756]]\n",
      "Step 400: A=[0.34031016], loss=[[0.06808023]]\n",
      "Step 600: A=[-0.40381414], loss=[[0.10623284]]\n",
      "Step 800: A=[-0.8122861], loss=[[0.39670783]]\n",
      "Step 1000: A=[-1.034798], loss=[[0.01278067]]\n",
      "Step 1200: A=[-1.114645], loss=[[0.33813828]]\n",
      "Step 1400: A=[-1.0768024], loss=[[0.07614569]]\n"
     ]
    }
   ],
   "source": [
    "# 训练\n",
    "for i in range(1400):\n",
    "    rand_index = np.random.choice(100)\n",
    "    rand_x = [x_vals[rand_index]]\n",
    "    rand_y = [y_vals[rand_index]]\n",
    "    sess.run(opt, feed_dict={x_data: rand_x, y_data: rand_y})\n",
    "    if (i + 1) % 200 == 0:\n",
    "        A_, loss_ = sess.run([A, loss], feed_dict={x_data: rand_x, y_data: rand_y})\n",
    "        print('Step {0}: A={1}, loss={2}'.format(i+1, A_, loss_))"
   ]
  },
  {
   "cell_type": "code",
   "execution_count": 19,
   "metadata": {},
   "outputs": [
    {
     "data": {
      "image/png": "[encoded data removed]",
      "text/plain": [
       "<Figure size 432x288 with 1 Axes>"
      ]
     },
     "metadata": {
      "needs_background": "light"
     },
     "output_type": "display_data"
    }
   ],
   "source": [
    "import matplotlib.pyplot as plt\n",
    "\n",
    "plt.plot(x_vals[:50], y_vals[:50], 'o', label='class 0')\n",
    "plt.plot(x_vals[50:], y_vals[50:], 'o', label='class 1')\n",
    "plt.legend()\n",
    "plt.show()"
   ]
  },
  {
   "cell_type": "code",
   "execution_count": null,
   "metadata": {},
   "outputs": [],
   "source": []
  }
 ],
 "metadata": {
  "kernelspec": {
   "display_name": "Python 3",
   "language": "python",
   "name": "python3"
  },
  "language_info": {
   "codemirror_mode": {
    "name": "ipython",
    "version": 3
   },
   "file_extension": ".py",
   "mimetype": "text/x-python",
   "name": "python",
   "nbconvert_exporter": "python",
   "pygments_lexer": "ipython3",
   "version": "3.5.2"
  }
 },
 "nbformat": 4,
 "nbformat_minor": 2
}
