{
 "cells": [
  {
   "cell_type": "markdown",
   "metadata": {},
   "source": [
    "# eager execution"
   ]
  },
  {
   "cell_type": "code",
   "execution_count": 1,
   "metadata": {},
   "outputs": [],
   "source": [
    "import tensorflow as tf\n",
    "import tensorflow.contrib.eager as tfe\n",
    "tfe.enable_eager_execution()"
   ]
  },
  {
   "cell_type": "code",
   "execution_count": 2,
   "metadata": {},
   "outputs": [
    {
     "name": "stdout",
     "output_type": "stream",
     "text": [
      "I could do this all day 1\n",
      "I could do this all day 2\n",
      "I could do this all day 3\n",
      "I could do this all day 4\n",
      "I could do this all day 5\n",
      "I could do this all day 6\n",
      "I could do this all day 7\n",
      "I could do this all day 8\n",
      "I could do this all day 9\n",
      "I could do this all day 10\n",
      "I could do this all day 11\n",
      "I could do this all day 12\n",
      "I could do this all day 13\n",
      "I could do this all day 14\n",
      "I could do this all day 15\n",
      "I could do this all day 16\n",
      "I could do this all day 17\n",
      "I could do this all day 18\n",
      "I could do this all day 19\n",
      "I could do this all day 20\n",
      "I could do this all day 21\n",
      "I could do this all day 22\n",
      "I could do this all day 23\n",
      "I could do this all day 24\n",
      "I could do this all day 25\n",
      "I could do this all day 26\n",
      "I could do this all day 27\n",
      "I could do this all day 28\n",
      "I could do this all day 29\n",
      "I could do this all day 30\n",
      "I could do this all day 31\n",
      "I could do this all day 32\n",
      "I could do this all day 33\n",
      "I could do this all day 34\n",
      "I could do this all day 35\n",
      "I could do this all day 36\n",
      "I could do this all day 37\n",
      "I could do this all day 38\n",
      "I could do this all day 39\n",
      "I could do this all day 40\n",
      "I could do this all day 41\n",
      "I could do this all day 42\n",
      "I could do this all day 43\n",
      "I could do this all day 44\n",
      "I could do this all day 45\n",
      "I could do this all day 46\n",
      "I could do this all day 47\n",
      "I could do this all day 48\n",
      "I could do this all day 49\n",
      "I could do this all day 50\n",
      "I could do this all day 51\n",
      "I could do this all day 52\n",
      "I could do this all day 53\n",
      "I could do this all day 54\n",
      "I could do this all day 55\n",
      "I could do this all day 56\n",
      "I could do this all day 57\n",
      "I could do this all day 58\n",
      "I could do this all day 59\n",
      "I could do this all day 60\n",
      "I could do this all day 61\n",
      "I could do this all day 62\n",
      "I could do this all day 63\n",
      "I could do this all day 64\n",
      "I could do this all day 65\n",
      "I could do this all day 66\n",
      "I could do this all day 67\n",
      "I could do this all day 68\n",
      "I could do this all day 69\n",
      "I could do this all day 70\n",
      "I could do this all day 71\n",
      "I could do this all day 72\n",
      "I could do this all day 73\n",
      "I could do this all day 74\n",
      "I could do this all day 75\n",
      "I could do this all day 76\n",
      "I could do this all day 77\n",
      "I could do this all day 78\n",
      "I could do this all day 79\n",
      "I could do this all day 80\n",
      "I could do this all day 81\n",
      "I could do this all day 82\n",
      "I could do this all day 83\n",
      "I could do this all day 84\n",
      "I could do this all day 85\n",
      "I could do this all day 86\n",
      "I could do this all day 87\n",
      "I could do this all day 88\n",
      "I could do this all day 89\n",
      "I could do this all day 90\n",
      "I could do this all day 91\n",
      "I could do this all day 92\n",
      "I could do this all day 93\n",
      "I could do this all day 94\n",
      "I could do this all day 95\n",
      "I could do this all day 96\n",
      "I could do this all day 97\n",
      "I could do this all day 98\n",
      "I could do this all day 99\n",
      "I could do this all day 100\n"
     ]
    }
   ],
   "source": [
    "i = tf.constant(0)\n",
    "while i < 100:\n",
    "    i = tf.add(i, 1)\n",
    "    print('I could do this all day {}'.format(i))"
   ]
  },
  {
   "cell_type": "code",
   "execution_count": 3,
   "metadata": {},
   "outputs": [],
   "source": [
    "# 有了eager execution以后，不必担心placeholders, sessions, control dependencies, lazy loading以及{name, variable op} scopes"
   ]
  },
  {
   "cell_type": "code",
   "execution_count": 4,
   "metadata": {},
   "outputs": [
    {
     "name": "stdout",
     "output_type": "stream",
     "text": [
      "tf.Tensor([[4.]], shape=(1, 1), dtype=float32)\n"
     ]
    }
   ],
   "source": [
    "# 不需要占位符了\n",
    "x = [[2.]]\n",
    "m = tf.matmul(x, x)\n",
    "print(m)"
   ]
  },
  {
   "cell_type": "code",
   "execution_count": 5,
   "metadata": {},
   "outputs": [
    {
     "name": "stdout",
     "output_type": "stream",
     "text": [
      "tf.Tensor(0.43710816, shape=(), dtype=float32)\n",
      "tf.Tensor(0.6315615, shape=(), dtype=float32)\n",
      "tf.Tensor(0.20683658, shape=(), dtype=float32)\n",
      "tf.Tensor(0.40070772, shape=(), dtype=float32)\n"
     ]
    }
   ],
   "source": [
    "# 避免lazy loading\n",
    "x = tf.random_uniform([2, 2])\n",
    "for i in range(x.shape[0]):\n",
    "    for j in range(x.shape[1]):\n",
    "        print(x[i, j])"
   ]
  },
  {
   "cell_type": "code",
   "execution_count": 7,
   "metadata": {},
   "outputs": [],
   "source": [
    "# Tensors可以像numpy arrays一样使用\n",
    "import numpy as np\n",
    "\n",
    "x = tf.constant([1., 2., 3.])\n",
    "assert type(x.numpy()) == np.ndarray"
   ]
  },
  {
   "cell_type": "code",
   "execution_count": 8,
   "metadata": {},
   "outputs": [
    {
     "name": "stdout",
     "output_type": "stream",
     "text": [
      "[1. 4. 9.]\n"
     ]
    }
   ],
   "source": [
    "squared = np.square(x)\n",
    "print(squared)"
   ]
  },
  {
   "cell_type": "code",
   "execution_count": 9,
   "metadata": {},
   "outputs": [
    {
     "name": "stdout",
     "output_type": "stream",
     "text": [
      "tf.Tensor(1.0, shape=(), dtype=float32)\n",
      "tf.Tensor(2.0, shape=(), dtype=float32)\n",
      "tf.Tensor(3.0, shape=(), dtype=float32)\n"
     ]
    }
   ],
   "source": [
    "# 张量可以被遍历了\n",
    "for i in x:\n",
    "    print(i)"
   ]
  },
  {
   "cell_type": "code",
   "execution_count": null,
   "metadata": {},
   "outputs": [],
   "source": [
    "# TensorFlow在Eager模式下反向传播求梯度\n",
    "# 在tfe中共有四个函数直接服务于反向传播，分别是：tfe.gradients_function, tfe.value_and_gradients_function, tfe.implicit_gradients, tfe.implicit_value_and_gradients。这四个\n",
    "# 函数的功能类似于python中的函数修饰器"
   ]
  },
  {
   "cell_type": "code",
   "execution_count": 10,
   "metadata": {},
   "outputs": [
    {
     "data": {
      "text/plain": [
       "[<tf.Tensor: id=796, shape=(), dtype=float32, numpy=4.0>,\n",
       " <tf.Tensor: id=776, shape=(), dtype=float32, numpy=6.0>]"
      ]
     },
     "execution_count": 10,
     "metadata": {},
     "output_type": "execute_result"
    }
   ],
   "source": [
    "@tfe.gradients_function\n",
    "def g(x, y):\n",
    "    return x ** 2 + y ** 2\n",
    "g(2., 3.)"
   ]
  },
  {
   "cell_type": "code",
   "execution_count": 11,
   "metadata": {},
   "outputs": [
    {
     "name": "stdout",
     "output_type": "stream",
     "text": [
      "[<tf.Tensor: id=823, shape=(), dtype=float32, numpy=6.0>]\n"
     ]
    }
   ],
   "source": [
    "# 例子\n",
    "@tfe.gradients_function\n",
    "def square(x):\n",
    "    return x ** 2\n",
    "print(square(3.))"
   ]
  },
  {
   "cell_type": "code",
   "execution_count": 12,
   "metadata": {},
   "outputs": [
    {
     "name": "stdout",
     "output_type": "stream",
     "text": [
      "[(<tf.Tensor: id=859, shape=(), dtype=float32, numpy=4.0>, <tf.Variable 'vx:0' shape=() dtype=float32, numpy=1.0>)]\n"
     ]
    }
   ],
   "source": [
    "# tfe.gradients_function的功能是对函数的输入参数求导，但在实际使用中，往往更希望对TensorFlow中的变量求导，因为变量中保存的是模型的参数，这些参数\n",
    "# 才是需要进行优化和梯度下降的部分。tfe.implicit_gradients的功能就是，生成可以对计算过程中用到的变量求导的函数。\n",
    "vx = tf.get_variable(name='vx', initializer=tf.constant(1.))\n",
    "vy = tf.get_variable(name='vy', initializer=tf.constant(1.))\n",
    "\n",
    "@tfe.implicit_gradients\n",
    "def f(x):\n",
    "    return 2 * vx * x\n",
    "print(f(2.))"
   ]
  },
  {
   "cell_type": "code",
   "execution_count": 14,
   "metadata": {},
   "outputs": [
    {
     "name": "stdout",
     "output_type": "stream",
     "text": [
      "tf.Tensor(9.0, shape=(), dtype=float32)\n",
      "[(<tf.Tensor: id=986, shape=(), dtype=float32, numpy=-24.0>, <tf.Variable 'x:0' shape=() dtype=float32, numpy=2.0>)]\n"
     ]
    }
   ],
   "source": [
    "x = tf.get_variable(name='x', initializer=tf.constant(2.))\n",
    "\n",
    "def loss(y):\n",
    "    return (y - x ** 2) ** 2\n",
    "\n",
    "grad = tfe.implicit_gradients(loss)\n",
    "print(loss(7.))\n",
    "print(grad(7.))"
   ]
  },
  {
   "cell_type": "code",
   "execution_count": 15,
   "metadata": {},
   "outputs": [
    {
     "name": "stdout",
     "output_type": "stream",
     "text": [
      "tf.Tensor(9.0, shape=(), dtype=float32)\n",
      "(<tf.Tensor: id=1013, shape=(), dtype=float32, numpy=9.0>, [(<tf.Tensor: id=1046, shape=(), dtype=float32, numpy=-24.0>, <tf.Variable 'x:0' shape=() dtype=float32, numpy=2.0>)])\n"
     ]
    }
   ],
   "source": [
    "def loss(y):\n",
    "    return (y - x ** 2) ** 2\n",
    "value_and_grad = tfe.implicit_value_and_gradients(loss)\n",
    "print(loss(7.))\n",
    "print(value_and_grad(7.))"
   ]
  },
  {
   "cell_type": "markdown",
   "metadata": {},
   "source": [
    "## 例子：Huber regression with Eager Execution"
   ]
  },
  {
   "cell_type": "code",
   "execution_count": 16,
   "metadata": {},
   "outputs": [],
   "source": [
    "import time\n",
    "import tensorflow as tf\n",
    "import tensorflow.contrib.eager as tfe\n",
    "tfe.enable_eager_execution()"
   ]
  },
  {
   "cell_type": "code",
   "execution_count": 32,
   "metadata": {},
   "outputs": [],
   "source": [
    "import matplotlib.pyplot as plt"
   ]
  },
  {
   "cell_type": "code",
   "execution_count": 17,
   "metadata": {},
   "outputs": [],
   "source": [
    "file = './birth_life_2010.txt'"
   ]
  },
  {
   "cell_type": "code",
   "execution_count": 24,
   "metadata": {},
   "outputs": [
    {
     "name": "stdout",
     "output_type": "stream",
     "text": [
      "[[ 1.822    74.82825 ]\n",
      " [ 3.869    70.81949 ]\n",
      " [ 3.911    72.15066 ]\n",
      " [ 5.578    61.999855]\n",
      " [ 1.579    73.92766 ]\n",
      " [ 4.229    67.465195]\n",
      " [ 1.15     81.641464]\n",
      " [ 3.86     72.30639 ]\n",
      " [ 3.142    68.484314]\n",
      " [ 3.951    62.44061 ]\n",
      " [ 2.16     80.70244 ]\n",
      " [ 2.141    76.30168 ]\n",
      " [ 2.002    64.662094]\n",
      " [ 2.504    68.19498 ]\n",
      " [ 3.451    68.76483 ]\n",
      " [ 2.635    74.02456 ]\n",
      " [ 1.092    80.775314]\n",
      " [ 2.747    67.064   ]\n",
      " [ 1.22     80.76195 ]\n",
      " [ 1.39     82.932686]\n",
      " [ 2.117    68.889656]\n",
      " [ 1.108    82.87805 ]\n",
      " [ 2.47     75.99427 ]\n",
      " [ 2.09     75.07688 ]\n",
      " [ 2.668    69.22583 ]\n",
      " [ 2.022    68.53214 ]\n",
      " [ 1.598    73.273094]\n",
      " [ 2.581    62.53622 ]\n",
      " [ 2.042    77.93202 ]\n",
      " [ 1.92     81.69512 ]\n",
      " [ 2.499    68.001   ]\n",
      " [ 1.94     80.402435]\n",
      " [ 1.445    70.27561 ]\n",
      " [ 2.399    64.86351 ]\n",
      " [ 2.088    73.696655]\n",
      " [ 3.297    67.2599  ]\n",
      " [ 1.5      82.24634 ]\n",
      " [ 1.98     81.45122 ]\n",
      " [ 1.39     81.62683 ]\n",
      " [ 1.57     79.42195 ]\n",
      " [ 1.4      75.1122  ]\n",
      " [ 1.4      73.936584]\n",
      " [ 1.54     68.80488 ]\n",
      " [ 1.38     73.458534]\n",
      " [ 1.32     79.02683 ]\n",
      " [ 1.38     76.24634 ]\n",
      " [ 1.95     80.99756 ]\n",
      " [ 1.79     80.70244 ]\n",
      " [ 1.656    74.3111  ]\n",
      " [ 1.475    68.90371 ]\n",
      " [ 1.422    74.61885 ]\n",
      " [ 1.63     80.08781 ]\n",
      " [ 1.55     73.268295]\n",
      " [ 1.17     73.482925]\n",
      " [ 2.898    69.36846 ]\n",
      " [ 2.2893   69.88439 ]\n",
      " [ 2.59     68.295364]\n",
      " [ 1.4      81.73659 ]\n",
      " [ 2.07     80.291954]\n",
      " [ 2.2      81.45122 ]\n",
      " [ 1.25     74.20731 ]\n",
      " [ 1.44     80.3878  ]\n",
      " [ 1.39     79.98781 ]\n",
      " [ 1.555    73.32734 ]\n",
      " [ 2.       81.36829 ]\n",
      " [ 1.87     79.870735]\n",
      " [ 1.63     75.42927 ]\n",
      " [ 1.87     79.1     ]\n",
      " [ 1.49     77.42439 ]\n",
      " [ 1.476    79.380394]\n",
      " [ 1.46     76.47561 ]\n",
      " [ 1.46     79.832   ]\n",
      " [ 1.49     73.51219 ]\n",
      " [ 1.148    75.40044 ]\n",
      " [ 1.84     79.936584]\n",
      " [ 1.44     70.40488 ]\n",
      " [ 2.3      70.506516]\n",
      " [ 1.44     80.38293 ]\n",
      " [ 1.736    73.78356 ]\n",
      " [ 1.536    76.90095 ]\n",
      " [ 1.8      79.18944 ]\n",
      " [ 2.49     74.12732 ]\n",
      " [ 1.9856   76.23683 ]\n",
      " [ 1.639    69.755   ]\n",
      " [ 1.896    75.22212 ]\n",
      " [ 2.336    70.33532 ]\n",
      " [ 2.064    72.11253 ]\n",
      " [ 1.98     74.4399  ]\n",
      " [ 1.797    78.91329 ]\n",
      " [ 2.501    73.76498 ]\n",
      " [ 2.954    72.277   ]\n",
      " [ 2.484    75.97424 ]\n",
      " [ 2.622    73.72922 ]\n",
      " [ 2.32     76.68378 ]\n",
      " [ 2.329    72.84712 ]\n",
      " [ 3.139    72.82593 ]\n",
      " [ 3.34     61.763   ]\n",
      " [ 2.262    69.54915 ]\n",
      " [ 3.983    70.82542 ]\n",
      " [ 2.235    75.66044 ]\n",
      " [ 2.25     71.73237 ]\n",
      " [ 2.479    75.462296]\n",
      " [ 2.58     73.20003 ]\n",
      " [ 1.467    78.96415 ]\n",
      " [ 1.848    79.19261 ]\n",
      " [ 2.1      73.42968 ]\n",
      " [ 1.862    78.885735]\n",
      " [ 1.83     73.09953 ]\n",
      " [ 3.348    66.26856 ]\n",
      " [ 2.79     75.83995 ]\n",
      " [ 1.551    76.57283 ]\n",
      " [ 1.699    74.975174]\n",
      " [ 2.211    75.63215 ]\n",
      " [ 5.2      65.030464]\n",
      " [ 4.453    72.643684]\n",
      " [ 1.749    76.57361 ]\n",
      " [ 2.04     74.6     ]\n",
      " [ 2.934    75.70256 ]\n",
      " [ 2.811    73.85042 ]\n",
      " [ 2.271    78.09759 ]\n",
      " [ 2.309    73.12461 ]\n",
      " [ 2.279    71.86463 ]\n",
      " [ 1.38     80.948784]\n",
      " [ 2.564    74.75312 ]\n",
      " [ 1.8      72.40875 ]\n",
      " [ 2.295    74.60473 ]\n",
      " [ 3.8      73.28966 ]\n",
      " [ 3.03     81.504875]\n",
      " [ 4.702    68.486046]\n",
      " [ 1.67     72.751854]\n",
      " [ 2.733    72.975266]\n",
      " [ 3.75     57.52739 ]\n",
      " [ 2.54     75.02383 ]\n",
      " [ 2.264    72.85254 ]\n",
      " [ 2.1      78.24146 ]\n",
      " [ 1.677    80.797806]\n",
      " [ 1.764    79.288536]\n",
      " [ 2.313    74.72261 ]\n",
      " [ 3.423    65.19885 ]\n",
      " [ 2.727    68.39483 ]\n",
      " [ 1.752    76.551414]\n",
      " [ 2.625    65.13134 ]\n",
      " [ 2.399    66.90885 ]\n",
      " [ 2.245    68.6348  ]\n",
      " [ 6.288    48.282196]\n",
      " [ 3.29     49.860878]\n",
      " [ 6.258    48.455486]\n",
      " [ 6.149    53.614635]\n",
      " [ 4.072    56.588707]\n",
      " [ 4.896    58.160023]\n",
      " [ 5.544    57.38749 ]\n",
      " [ 3.364    48.342804]\n",
      " [ 4.4      61.108242]\n",
      " [ 2.458    52.08149 ]\n",
      " [ 6.339    50.89554 ]\n",
      " [ 4.982    47.402195]\n",
      " [ 2.5      73.03415 ]\n",
      " [ 4.819    58.954075]\n",
      " [ 5.371    55.05712 ]\n",
      " [ 5.525    51.410023]\n",
      " [ 7.063    54.265633]\n",
      " [ 3.217    62.0701  ]\n",
      " [ 4.912    49.696926]\n",
      " [ 1.47     72.967316]\n",
      " [ 4.533    58.21695 ]\n",
      " [ 6.294    50.95483 ]\n",
      " [ 5.99     53.462635]\n",
      " [ 4.651    66.46707 ]\n",
      " [ 5.238    56.147587]\n",
      " [ 3.199    47.365074]\n",
      " [ 4.718    56.497074]\n",
      " [ 5.063    47.700657]\n",
      " [ 5.246    53.638584]\n",
      " [ 4.17     63.83727 ]\n",
      " [ 3.25     62.286682]\n",
      " [ 4.193    58.7151  ]\n",
      " [ 4.453    60.994194]\n",
      " [ 5.185    50.840805]\n",
      " [ 5.775    48.069584]\n",
      " [ 4.544    56.960194]\n",
      " [ 4.919    60.626266]\n",
      " [ 5.981    49.194828]\n",
      " [ 4.631    47.61846 ]\n",
      " [ 2.405    73.77405 ]\n",
      " [ 4.487    51.062756]\n",
      " [ 4.338    49.87722 ]\n",
      " [ 5.85     54.924194]\n",
      " [ 2.75     53.109512]\n",
      " [ 5.287    55.585587]\n",
      " [ 5.443    50.65366 ]]\n"
     ]
    }
   ],
   "source": [
    "def read_data(filename):\n",
    "    lines = open(filename, 'r').readlines()[1:]\n",
    "    data = [(line.split('\\t')) for line in lines]\n",
    "    birth = [float(line[1]) for line in data]\n",
    "    year = [float(line[2]) for line in data]\n",
    "    data = list(zip(birth, year))\n",
    "    data = np.asarray(data, dtype='float32')\n",
    "    return data\n",
    "data = read_data(file)\n",
    "print(data)"
   ]
  },
  {
   "cell_type": "code",
   "execution_count": 25,
   "metadata": {},
   "outputs": [
    {
     "name": "stdout",
     "output_type": "stream",
     "text": [
      "190\n"
     ]
    }
   ],
   "source": [
    "n_samples = data.shape[0]\n",
    "print(n_samples)"
   ]
  },
  {
   "cell_type": "code",
   "execution_count": 26,
   "metadata": {},
   "outputs": [],
   "source": [
    "# 创建数据集\n",
    "dataset = tf.data.Dataset.from_tensor_slices((data[:, 0], data[:, 1]))"
   ]
  },
  {
   "cell_type": "code",
   "execution_count": 44,
   "metadata": {},
   "outputs": [],
   "source": [
    "# 创建权重和偏置项\n",
    "w = tf.get_variable(name='weights', initializer=tf.constant(0.))\n",
    "b = tf.get_variable(name='biases', initializer=tf.constant(0.))"
   ]
  },
  {
   "cell_type": "code",
   "execution_count": 45,
   "metadata": {},
   "outputs": [],
   "source": [
    "# 定义线性方程\n",
    "def prediction(x):\n",
    "    logits = w * x + b\n",
    "    return logits"
   ]
  },
  {
   "cell_type": "code",
   "execution_count": 46,
   "metadata": {},
   "outputs": [],
   "source": [
    "# 定义损失函数\n",
    "def squared_loss(y, y_predicted):\n",
    "    loss_ = tf.reduce_mean(tf.square(y - y_predicted))\n",
    "    return loss_"
   ]
  },
  {
   "cell_type": "code",
   "execution_count": 47,
   "metadata": {},
   "outputs": [],
   "source": [
    "# 定义huber loss\n",
    "def huber_loss(y, y_predicted):\n",
    "    m = 1.0\n",
    "    residual = tf.abs(y - y_predicted)\n",
    "    return 0.5 * tf.square(residual) if residual <= m else m * residual - 0.5 * tf.square(m)"
   ]
  },
  {
   "cell_type": "code",
   "execution_count": 48,
   "metadata": {},
   "outputs": [],
   "source": [
    "def train(loss_fn):\n",
    "    print('Training; loss function: ' + loss_fn.__name__)\n",
    "    optimizer = tf.train.GradientDescentOptimizer(learning_rate=0.01)\n",
    "    \n",
    "    # 定义要微分的函数\n",
    "    def loss_for_example(x, y):\n",
    "        return loss_fn(y, prediction(x))\n",
    "    \n",
    "    grad_fn = tfe.implicit_value_and_gradients(loss_for_example)\n",
    "    \n",
    "    start = time.time()\n",
    "    for epoch in range(100):\n",
    "        total_loss = 0.\n",
    "        for x_i, y_i in tfe.Iterator(dataset):\n",
    "            loss, gradients = grad_fn(x_i, y_i)\n",
    "            optimizer.apply_gradients(gradients)\n",
    "            total_loss += loss\n",
    "        if epoch % 10 == 0:\n",
    "            print('Epoch {0}: loss={1:.3f}'.format(epoch+1, total_loss/n_samples))\n",
    "    print('Took: {} seconds'.format(time.time() - start))"
   ]
  },
  {
   "cell_type": "code",
   "execution_count": 49,
   "metadata": {},
   "outputs": [
    {
     "name": "stdout",
     "output_type": "stream",
     "text": [
      "Training; loss function: huber_loss\n",
      "Epoch 1: loss=60.696\n",
      "Epoch 11: loss=29.989\n",
      "Epoch 21: loss=27.126\n",
      "Epoch 31: loss=24.320\n",
      "Epoch 41: loss=21.523\n",
      "Epoch 51: loss=18.747\n",
      "Epoch 61: loss=16.022\n",
      "Epoch 71: loss=13.383\n",
      "Epoch 81: loss=10.831\n",
      "Epoch 91: loss=8.408\n",
      "Took: 16.58404302597046 seconds\n"
     ]
    }
   ],
   "source": [
    "train(huber_loss)"
   ]
  },
  {
   "cell_type": "code",
   "execution_count": 51,
   "metadata": {},
   "outputs": [
    {
     "name": "stdout",
     "output_type": "stream",
     "text": [
      "Training; loss function: squared_loss\n",
      "Epoch 1: loss=32.603\n",
      "Epoch 11: loss=28.503\n",
      "Epoch 21: loss=28.448\n",
      "Epoch 31: loss=28.445\n",
      "Epoch 41: loss=28.445\n",
      "Epoch 51: loss=28.445\n",
      "Epoch 61: loss=28.445\n",
      "Epoch 71: loss=28.445\n",
      "Epoch 81: loss=28.445\n",
      "Epoch 91: loss=28.445\n",
      "Took: 16.27035617828369 seconds\n"
     ]
    }
   ],
   "source": [
    "train(squared_loss)"
   ]
  },
  {
   "cell_type": "code",
   "execution_count": 50,
   "metadata": {},
   "outputs": [
    {
     "data": {
      "image/png": "[encoded data removed]",
      "text/plain": [
       "<Figure size 432x288 with 1 Axes>"
      ]
     },
     "metadata": {
      "needs_background": "light"
     },
     "output_type": "display_data"
    }
   ],
   "source": [
    "plt.plot(data[:, 0], data[:, 1], 'bo')\n",
    "plt.plot(data[:, 0], data[:, 0] * w + b, 'r', label='huber regression')\n",
    "plt.legend()\n",
    "plt.show()"
   ]
  },
  {
   "cell_type": "code",
   "execution_count": 52,
   "metadata": {},
   "outputs": [
    {
     "data": {
      "image/png": "[encoded data removed]",
      "text/plain": [
       "<Figure size 432x288 with 1 Axes>"
      ]
     },
     "metadata": {
      "needs_background": "light"
     },
     "output_type": "display_data"
    }
   ],
   "source": [
    "plt.plot(data[:, 0], data[:, 1], 'bo')\n",
    "plt.plot(data[:, 0], data[:, 0] * w + b, 'r', label='square regression')\n",
    "plt.legend()\n",
    "plt.show()"
   ]
  },
  {
   "cell_type": "code",
   "execution_count": null,
   "metadata": {},
   "outputs": [],
   "source": []
  }
 ],
 "metadata": {
  "kernelspec": {
   "display_name": "Python 3",
   "language": "python",
   "name": "python3"
  },
  "language_info": {
   "codemirror_mode": {
    "name": "ipython",
    "version": 3
   },
   "file_extension": ".py",
   "mimetype": "text/x-python",
   "name": "python",
   "nbconvert_exporter": "python",
   "pygments_lexer": "ipython3",
   "version": "3.5.2"
  }
 },
 "nbformat": 4,
 "nbformat_minor": 2
}
